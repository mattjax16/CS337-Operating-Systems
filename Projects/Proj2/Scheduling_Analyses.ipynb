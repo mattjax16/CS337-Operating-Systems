{
 "cells": [
  {
   "cell_type": "markdown",
   "source": [
    "# Project 2 - Preemptive CPU Scheduling Analysis\n",
    "### CS337 Operating Systems Prof. Al Madi - Spring 2022\n",
    "###### Matthew Bass : 02/21/2022\n",
    "---\n",
    "## Overview:\n",
    "    This is a Jupyter Notebook to analysize the 4 different process\n",
    "    schuedling algorithims for the main project ( Round Robin,\n",
    "   Shortest Remaining Time, Preemptive Priority, and Multilevel Feedback Queue)\n",
    "   through different scheduling simulations. (Along with my extension\n",
    "   Algorithims)\n",
    "\n",
    "    The results will be analyized with plots and genral statistics.\n",
    "\n",
    "---\n",
    "\n",
    "## Setup:"
   ],
   "metadata": {
    "collapsed": false
   }
  },
  {
   "cell_type": "code",
   "execution_count": null,
   "outputs": [],
   "source": [
    "# Importing necessary libraries\n",
    "import pandas as pd\n",
    "import operating_system\n",
    "import scheduler\n",
    "from process import Process"
   ],
   "metadata": {
    "collapsed": false,
    "pycharm": {
     "name": "#%%\n"
    }
   }
  },
  {
   "cell_type": "markdown",
   "source": [
    "---\n",
    "## Round Robin (RR):\n",
    "\n",
    "    The Round Robin algorithim schuedules\n",
    "    \n",
    "    \n",
    "   #### Testing:"
   ],
   "metadata": {
    "collapsed": false
   }
  },
  {
   "cell_type": "code",
   "execution_count": null,
   "outputs": [],
   "source": [
    "# Run the kernel with RR and base test processes\n",
    "operating_system.kernal(scheduler.RR_scheduler,file_proc_name=\"test\")"
   ],
   "metadata": {
    "collapsed": false,
    "pycharm": {
     "name": "#%%\n"
    }
   }
  },
  {
   "cell_type": "code",
   "execution_count": null,
   "outputs": [],
   "source": [
    "# Importing the results from FCFS test\n",
    "rr_results = pd.read_csv(\"data/All_FCFS_test_results.csv\")\n",
    "\n",
    "\n"
   ],
   "metadata": {
    "collapsed": false,
    "pycharm": {
     "name": "#%%\n"
    }
   }
  },
  {
   "cell_type": "markdown",
   "source": [
    "<br>\n",
    "\n",
    "#### Fairness:\n",
    "    As mentioned earlier FCFS can be unfair to processex with short burst\n",
    "    times when the Convoy Effect happens. This is where, one long-burst\n",
    "    process is followed by many short-burst processes, short processes have\n",
    "    to wait a long time.\n",
    "\n",
    "    This will be demonstrated below:"
   ],
   "metadata": {
    "collapsed": false
   }
  },
  {
   "cell_type": "code",
   "execution_count": null,
   "outputs": [],
   "source": [
    "#making the unfair RR processes\n",
    "unfair_rr_procs = [Process(1,1,1,13),Process(2,25,1,71),\n",
    "                     Process(3,1,1,82),Process(4,2,2,5),\n",
    "                     Process(5,1,2,122),Process(6,3,5,100),\n",
    "                     Process(7,1,4,53),Process(8,1,8,63),\n",
    "                     Process(9,1,11,35),Process(10,1,9,73)]\n",
    "\n",
    "\n",
    "\n",
    "# Run the kernel with RR and unfair processes\n",
    "operating_system.kernal(scheduler.RR_scheduler,processes=unfair_rr_procs,\n",
    "                        file_proc_name=\"unfair\")\n",
    "\n",
    "\n",
    "# Importing the CPU results from FCFS unfair\n",
    "fcfs_unfair_results = pd.read_csv(\"data/Combined_Data/\"+\n",
    "                               \"All_FCFS_unfair_results.csv\")\n",
    "\n"
   ],
   "metadata": {
    "collapsed": false,
    "pycharm": {
     "name": "#%%\n"
    }
   }
  },
  {
   "cell_type": "code",
   "execution_count": null,
   "outputs": [],
   "source": [
    "#plotting the results\n",
    "operating_system.plotKernalResults(fcfs_unfair_results,\n",
    "                       title=\"FCFS Unfair Results Timeline\" )"
   ],
   "metadata": {
    "collapsed": false,
    "pycharm": {
     "name": "#%%\n"
    }
   }
  },
  {
   "cell_type": "markdown",
   "source": [
    "As we can see because processes 1, 2 and 3 all arrive at the same time the\n",
    "scheduling algorithm chooses one of the 3 processes that have arrived at\n",
    "\"random\" (not truly random in this case because of how my exact code is written\n",
    " it will run the processes in the reverse order they were in the processes list if they\n",
    "arrive at the same time). So we can see one of the short burt time processes\n",
    " is run (process 3), however after process 3 runs, process 2 runs which has\n",
    " an extremely long burst time in comparison to all the other processes. This\n",
    " cause all the short burt time processes that arrived during and after when\n",
    " process 2 starts running are penalized with very long wait times while they\n",
    " wait for process 2 to finish its work.\n",
    "\n",
    "<br>\n",
    "\n",
    "\n",
    "\n",
    "<br>\n",
    "\n",
    "---\n",
    "\n",
    "## References and Acnowlagements\n",
    "\n",
    "On this project I received help and knowledge from :\n",
    "   - [Prof. Al Madi](https://www.cs.colby.edu/nsalmadi/)\n",
    "   - [Matplotlib event plot documentation](https://matplotlib.org/3.1.1/api/_as_gen/matplotlib.pyplot.eventplot.html)\n",
    "   - [General Matplotlib Docs](https://matplotlib.org/)\n",
    "   - [Project Details](https://github.com/mattjax16/CS337-Operating-Systems/blob/master/Projects/Proj1/Project%201_%20Non-preemptive%20CPU%20Scheduling.pdf)\n",
    "\n",
    "\n",
    "\n"
   ],
   "metadata": {
    "collapsed": false
   }
  }
 ],
 "metadata": {
  "kernelspec": {
   "display_name": "Python 3 (ipykernel)",
   "language": "python",
   "name": "python3"
  },
  "language_info": {
   "codemirror_mode": {
    "name": "ipython",
    "version": 3
   },
   "file_extension": ".py",
   "mimetype": "text/x-python",
   "name": "python",
   "nbconvert_exporter": "python",
   "pygments_lexer": "ipython3",
   "version": "3.8.12"
  }
 },
 "nbformat": 4,
 "nbformat_minor": 1
}