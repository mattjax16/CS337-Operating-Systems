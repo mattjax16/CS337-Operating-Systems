{
 "cells": [
  {
   "cell_type": "markdown",
   "source": [
    "# CS337 - OPERATING SYSTEMS- Project 7 Software Synchronization\n",
    "#### By: Matthew Bass\n",
    "\n",
    "\n",
    "### Table of Contents\n",
    "\n",
    "* [Overview](#over)\n",
    "* [Setup](#set)\n",
    "* [Conclusion](#con)\n",
    "\n",
    "\n",
    "\n",
    "**Project Overview:** <a class=\"anchor\" id=\"over\"></a>\n",
    "\n",
    "In this project I will, write a small class to implement a `Semaphore` class\n",
    "using a `counter` and a `condition` variable.  Here’s the documentation for\n",
    "[condition variables/objects in Python](https://docs.python.org/3/library/threading.html#condition-objects)\n",
    "\n",
    "\n",
    "\n",
    "### PREREQUISITES:\n",
    "    Python 3\n",
    "    Jupyter\n",
    "    jupyter_contrib_nbextensions\n",
    "    random\n",
    "    threading\n",
    "    datclasses\n",
    "    autopep8\n",
    "\n",
    "\n",
    "<br>\n",
    "\n",
    "-----\n",
    "\n",
    "### Setup: <a class=\"anchor\" id=\"set\"></a>\n",
    "\n",
    "To start I am using this code to make all my code blocks hide-able, thanks to\n",
    "[stackoverflow](https://stackoverflow.com/questions/27934885/how-to-hide-code-from-cells-in-ipython-notebook-visualized-with-nbviewer).\n",
    "\n"
   ],
   "metadata": {
    "collapsed": false
   }
  },
  {
   "cell_type": "code",
   "execution_count": 5,
   "outputs": [
    {
     "ename": "SyntaxError",
     "evalue": "invalid syntax (699355145.py, line 3)",
     "output_type": "error",
     "traceback": [
      "\u001B[0;36m  File \u001B[0;32m\"/var/folders/kx/v5qgzx2d2c16k925wybf8swh0000gn/T/ipykernel_3835/699355145.py\"\u001B[0;36m, line \u001B[0;32m3\u001B[0m\n\u001B[0;31m    <script>\u001B[0m\n\u001B[0m    ^\u001B[0m\n\u001B[0;31mSyntaxError\u001B[0m\u001B[0;31m:\u001B[0m invalid syntax\n"
     ]
    }
   ],
   "source": [
    "import threading\n",
    "%%HTML\n",
    "<script>\n",
    "    function luc21893_refresh_cell(cell) {\n",
    "        if( cell.luc21893 ) return;\n",
    "        cell.luc21893 = true;\n",
    "        console.debug('New code cell found...' );\n",
    "\n",
    "        var div = document.createElement('DIV');\n",
    "        cell.parentNode.insertBefore( div, cell.nextSibling );\n",
    "        div.style.textAlign = 'right';\n",
    "        var a = document.createElement('A');\n",
    "        div.appendChild(a);\n",
    "        a.href='#'\n",
    "        a.luc21893 = cell;\n",
    "        a.setAttribute( 'onclick', \"luc21893_toggle(this); return false;\" );\n",
    "\n",
    "        cell.style.visibility='hidden';\n",
    "        cell.style.position='absolute';\n",
    "        a.innerHTML = '[show code]';\n",
    "\n",
    "    }\n",
    "    function luc21893_refresh() {\n",
    "        if( document.querySelector('.code_cell .input') == null ) {\n",
    "            // it apeears that I am in a exported html\n",
    "            // hide this code\n",
    "            var codeCells = document.querySelectorAll('.jp-InputArea')\n",
    "            codeCells[0].style.visibility = 'hidden';\n",
    "            codeCells[0].style.position = 'absolute';\n",
    "            for( var i = 1; i < codeCells.length; i++ ) {\n",
    "                luc21893_refresh_cell(codeCells[i].parentNode)\n",
    "            }\n",
    "            window.onload = luc21893_refresh;\n",
    "        }\n",
    "        else {\n",
    "            // it apperas that I am in a jupyter editor\n",
    "            var codeCells = document.querySelectorAll('.code_cell .input')\n",
    "            for( var i = 0; i < codeCells.length; i++ ) {\n",
    "                luc21893_refresh_cell(codeCells[i])\n",
    "            }\n",
    "            window.setTimeout( luc21893_refresh, 1000 )\n",
    "        }\n",
    "    }\n",
    "\n",
    "    function luc21893_toggle(a) {\n",
    "        if( a.luc21893.style.visibility=='hidden' ) {\n",
    "            a.luc21893.style.visibility='visible';\n",
    "            a.luc21893.style.position='';\n",
    "            a.innerHTML = '[hide code]';\n",
    "        }\n",
    "        else {\n",
    "            a.luc21893.style.visibility='hidden';\n",
    "            a.luc21893.style.position='absolute';\n",
    "            a.innerHTML = '[show code]';\n",
    "        }\n",
    "    }\n",
    "\n",
    "    luc21893_refresh()\n",
    "</script>"
   ],
   "metadata": {
    "collapsed": false,
    "pycharm": {
     "name": "#%%\n"
    }
   }
  },
  {
   "cell_type": "markdown",
   "source": [
    "#### Imports:"
   ],
   "metadata": {
    "collapsed": false
   }
  },
  {
   "cell_type": "code",
   "execution_count": 7,
   "outputs": [],
   "source": [
    "import threading\n",
    "import random\n",
    "import time\n",
    "from dataclasses import dataclass, field\n",
    "\n"
   ],
   "metadata": {
    "collapsed": false,
    "pycharm": {
     "name": "#%%\n"
    }
   }
  },
  {
   "cell_type": "markdown",
   "source": [
    "### Semaphore Class:"
   ],
   "metadata": {
    "collapsed": false
   }
  },
  {
   "cell_type": "code",
   "execution_count": 8,
   "outputs": [],
   "source": [
    "@dataclass\n",
    "class Semaphore():\n",
    "    '''\n",
    "    A Semaphore class that allows for the use of a counter and a condition\n",
    "    variable.\n",
    "\n",
    "    Attributes:\n",
    "        counter: An integer that represents the number of threads that are\n",
    "            currently waiting on the condition variable.\n",
    "        condition: A condition variable that is used to signal threads that\n",
    "            the counter is 0.\n",
    "    '''\n",
    "    counter: int = field(default=1)\n",
    "    condition: threading.Condition = field(default = threading.Condition(),\n",
    "                                           init=False)\n",
    "\n",
    "    def acquire(self):\n",
    "        '''\n",
    "        This method acquires the lock for the condition variable before\n",
    "        decrementing the counter by one, then it checks if the counter is\n",
    "        below zero and sets the thread to sleep if true.  Otherwise, it\n",
    "        releases the lock.\n",
    "\n",
    "        '''\n",
    "\n",
    "        # acquire the lock\n",
    "        self.condition.acquire()\n",
    "\n",
    "        # decrement the counter\n",
    "        self.counter -= 1\n",
    "\n",
    "        # check if the counter is below zero\n",
    "        # if so, set the thread to sleep\n",
    "        # otherwise, release the lock\n",
    "        if self.counter < 0:\n",
    "            self.condition.wait()\n",
    "        else:\n",
    "            self.condition.release()\n",
    "\n",
    "        return\n",
    "\n",
    "\n",
    "\n",
    "\n",
    "    def release(self):\n",
    "        '''\n",
    "        This method acquires the condition lock and increments the counter by\n",
    "        one, notifies a single sleeping thread, and releases the lock.\n",
    "        '''\n",
    "\n",
    "        # acquire the lock\n",
    "        self.condition.acquire()\n",
    "\n",
    "        # increment the counter\n",
    "        self.counter += 1\n",
    "\n",
    "        # notify a single sleeping thread\n",
    "        self.condition.notify()\n",
    "\n",
    "        # release the lock\n",
    "        self.condition.release()\n",
    "\n",
    "        return\n"
   ],
   "metadata": {
    "collapsed": false,
    "pycharm": {
     "name": "#%%\n"
    }
   }
  },
  {
   "cell_type": "markdown",
   "source": [
    "##### Test Semaphore Class:\n",
    "\n",
    "Now to test my `Semaphore` class, I will use the Buffer example from class where\n",
    " we used Python semaphores and replace the Python semaphores with my own\n",
    " `Semaphore` class. The output should be similar to the python semaphore\n",
    " solution, in the sense that:\n",
    "\n",
    "1. We see no errors, especially pop with empty list error.\n",
    "\n",
    "2. The buffer never exceeds 10.\n",
    "\n",
    "3. Every item added to the buffer is removed at the end of each run.\n",
    "\n",
    "\n",
    "This buffer simulation is a producer and consumer problem.  The producers\n",
    "will put items into the `BUFFER`, and the consumers will take items out of the\n",
    "`BUFFER`.  The buffer is bounded by a maximum size of 10.  The items will be\n",
    "unique numbers 1 - `BUFFER_SIZE`.\n",
    "\n",
    "There will be 3 `Semaphores` used in this simulation.  The first is\n",
    "`ACCESS` which is used to synchronize access to the `BUFFER` between the\n",
    "consumer and producer threads, it starts with a value of 1 for the counter\n",
    "and is decremented by 1 for each thread that wants to access the buffer. The\n",
    "second is `EMPTY` which is used to signal the number of empty spaces in the\n",
    "`BUFFER` ut starts with a value the size of `BUFFER_SIZE` and is decremented\n",
    "by 1 for each thread that adds an item to the `BUFFER`. The third is `FULL`\n",
    "which is used to signal the number of full spaces in the `BUFFER` and starts\n",
    "at 0 and is incremented by 1 for each thread that adds an item to the `BUFFER`.\n",
    "\n",
    "Here are the shared global variables:"
   ],
   "metadata": {
    "collapsed": false
   }
  },
  {
   "cell_type": "code",
   "execution_count": 9,
   "outputs": [],
   "source": [
    "# Buffer Variables\n",
    "BUFFER_SIZE = 10\n",
    "BUFFER = []\n",
    "\n",
    "# The Number of Items each producer will put into the buffer\n",
    "NUM_PRODUCE = 10\n",
    "\n",
    "# The number of producer and consumer threads\n",
    "NUM_PRODUCERS = 1\n",
    "NUM_CONSUMERS = 1\n",
    "\n",
    "# Semaphores\n",
    "ACCESS = Semaphore(counter=1)\n",
    "EMPTY = Semaphore(counter=BUFFER_SIZE)\n",
    "FULL = Semaphore(counter=0)\n"
   ],
   "metadata": {
    "collapsed": false,
    "pycharm": {
     "name": "#%%\n"
    }
   }
  },
  {
   "cell_type": "markdown",
   "source": [
    "To start I will make the producer and consumer threads.\n",
    "\n",
    "`producerFunc()`:  Will put a unique number into the buffer"
   ],
   "metadata": {
    "collapsed": false,
    "pycharm": {
     "name": "#%% md\n"
    }
   }
  },
  {
   "cell_type": "code",
   "execution_count": 10,
   "outputs": [],
   "source": [
    "def producerFunc(debug: bool = True):\n",
    "    '''\n",
    "    This function will put a unique number into the buffer.\n",
    "\n",
    "    args:\n",
    "        debug: A boolean that will print debug statements if true.\n",
    "    '''\n",
    "\n",
    "    # Get thr global variables\n",
    "    global BUFFER, ACCESS, EMPTY, FULL\n",
    "\n",
    "    for _ in range(NUM_PRODUCE):\n",
    "\n",
    "        # Produce a unique number\n",
    "        data = random.randint(1, 100000000)\n",
    "\n",
    "        # Acquire the empty semaphore\n",
    "        EMPTY.acquire()\n",
    "\n",
    "        # Acquire the access semaphore\n",
    "        ACCESS.acquire()\n",
    "\n",
    "        # Add the data to the buffer\n",
    "        BUFFER.append(data)\n",
    "\n",
    "        if debug:\n",
    "            print(f'Producer {threading.current_thread().name} added {data} to the buffer')\n",
    "\n",
    "        # Release the access semaphore\n",
    "        ACCESS.release()\n",
    "\n",
    "        # Release the full semaphore\n",
    "        FULL.release()\n",
    "\n",
    "        # Sleep for a random amount of time\n",
    "        time.sleep(1)\n",
    "\n",
    "    return"
   ],
   "metadata": {
    "collapsed": false,
    "pycharm": {
     "name": "#%%\n"
    }
   }
  },
  {
   "cell_type": "markdown",
   "source": [
    "`consumerFunc`:  Will take a unique number from the buffer."
   ],
   "metadata": {
    "collapsed": false,
    "pycharm": {
     "name": "#%% md\n"
    }
   },
   "outputs": [
    {
     "ename": "SyntaxError",
     "evalue": "invalid syntax (303133742.py, line 1)",
     "output_type": "error",
     "traceback": [
      "\u001B[0;36m  File \u001B[0;32m\"/var/folders/kx/v5qgzx2d2c16k925wybf8swh0000gn/T/ipykernel_2329/303133742.py\"\u001B[0;36m, line \u001B[0;32m1\u001B[0m\n\u001B[0;31m    `consumerFunc`:  Will take a unique number from the buffer.\u001B[0m\n\u001B[0m    ^\u001B[0m\n\u001B[0;31mSyntaxError\u001B[0m\u001B[0;31m:\u001B[0m invalid syntax\n"
     ]
    }
   ],
   "execution_count": 6
  },
  {
   "cell_type": "code",
   "execution_count": 11,
   "outputs": [],
   "source": [
    "def consumerFunc(debug: bool = True):\n",
    "    '''\n",
    "    This function will put a unique number into the buffer.\n",
    "\n",
    "    Args:\n",
    "        debug:  If true, will print debug statements.\n",
    "    '''\n",
    "\n",
    "    # Get thr global variables\n",
    "    global BUFFER, ACCESS, EMPTY, FULL\n",
    "\n",
    "    for _ in range(NUM_PRODUCE):\n",
    "\n",
    "\n",
    "\n",
    "        # Acquire the full semaphore\n",
    "        FULL.acquire()\n",
    "\n",
    "        # Acquire the access semaphore\n",
    "        ACCESS.acquire()\n",
    "\n",
    "        # get the data from the buffer\n",
    "        data = BUFFER.pop()\n",
    "\n",
    "        if debug:\n",
    "            print(f'Producer {threading.current_thread().name} poped {data} '\n",
    "                  f'from the buffer')\n",
    "\n",
    "\n",
    "        # Release the access semaphore\n",
    "        ACCESS.release()\n",
    "\n",
    "        # Release the empty semaphore\n",
    "        EMPTY.release()\n",
    "\n",
    "        # Sleep for a random amount of time\n",
    "        time.sleep(2.5)\n",
    "\n",
    "    return\n"
   ],
   "metadata": {
    "collapsed": false,
    "pycharm": {
     "name": "#%%\n"
    }
   }
  },
  {
   "cell_type": "markdown",
   "source": [
    "`bufferSimulation()`:  Will run the producer and consumer threads and the\n",
    "buffer simulation to test the `Semaphore` class."
   ],
   "metadata": {
    "collapsed": false
   }
  },
  {
   "cell_type": "code",
   "execution_count": 16,
   "outputs": [],
   "source": [
    "def bufferSimulation():\n",
    "\n",
    "    # Create the producer and consumer threads\n",
    "    producer = threading.Thread(target=producerFunc)\n",
    "    consumer = threading.Thread(target=consumerFunc)\n",
    "\n",
    "    # Start the producer and consumer threads\n",
    "    producer.start()\n",
    "    consumer.start()\n",
    "\n",
    "    # Wait for the producer and consumer threads to finish\n",
    "    producer.join()\n",
    "    consumer.join()\n",
    "\n",
    "    if len(BUFFER) == 0:\n",
    "        print('The buffer is empty')\n",
    "    else:\n",
    "        print('The buffer is not empty')\n",
    "\n",
    "    print(f'Done with the simulation')"
   ],
   "metadata": {
    "collapsed": false,
    "pycharm": {
     "name": "#%%\n"
    }
   }
  },
  {
   "cell_type": "markdown",
   "source": [
    "Now I will run the buffer simulation."
   ],
   "metadata": {
    "collapsed": false,
    "pycharm": {
     "name": "#%% md\n"
    }
   }
  },
  {
   "cell_type": "code",
   "execution_count": 17,
   "outputs": [
    {
     "name": "stdout",
     "output_type": "stream",
     "text": [
      "Producer Thread-12 added 55619276 to the buffer\n",
      "Producer Thread-13 poped 55619276 from the buffer\n",
      "Producer Thread-12 added 35736040 to the buffer\n",
      "Producer Thread-12 added 6602560 to the buffer\n",
      "Producer Thread-13 poped 6602560 from the buffer\n",
      "Producer Thread-12 added 86056417 to the buffer\n",
      "Producer Thread-12 added 96901518 to the buffer\n",
      "Producer Thread-13 poped 96901518 from the buffer\n",
      "Producer Thread-12 added 41333785 to the buffer\n",
      "Producer Thread-12 added 5985016 to the buffer\n",
      "Producer Thread-12 added 4282006 to the buffer\n",
      "Producer Thread-13 poped 4282006 from the buffer\n",
      "Producer Thread-12 added 50685753 to the buffer\n",
      "Producer Thread-12 added 34683031 to the buffer\n",
      "Producer Thread-13 poped 34683031 from the buffer\n",
      "Producer Thread-13 poped 50685753 from the buffer\n",
      "Producer Thread-13 poped 5985016 from the buffer\n",
      "Producer Thread-13 poped 41333785 from the buffer\n",
      "Producer Thread-13 poped 86056417 from the buffer\n",
      "Producer Thread-13 poped 35736040 from the buffer\n",
      "The buffer is empty\n",
      "Done with the simulation\n"
     ]
    }
   ],
   "source": [
    "bufferSimulation()"
   ],
   "metadata": {
    "collapsed": false,
    "pycharm": {
     "name": "#%%\n"
    }
   }
  },
  {
   "cell_type": "markdown",
   "source": [
    "<br>\n",
    "\n",
    "### Dining Philosophers Problem:"
   ],
   "metadata": {
    "collapsed": false,
    "pycharm": {
     "name": "#%% md\n"
    }
   }
  },
  {
   "cell_type": "code",
   "execution_count": null,
   "outputs": [],
   "source": [
    "def philosopherFunc(thread_id: int):"
   ],
   "metadata": {
    "collapsed": false,
    "pycharm": {
     "name": "#%%\n"
    }
   }
  },
  {
   "cell_type": "code",
   "execution_count": 17,
   "outputs": [],
   "source": [
    "def diningPhilosophers(num_threads: int = 5, debug: bool = True):\n",
    "    '''\n",
    "    This function will simulate the dining philosophers problem.\n",
    "\n",
    "    Args:\n",
    "        num_threads:  The number of threads to create.\n",
    "        debug:  If true, will print debug statements.\n",
    "    '''\n",
    "\n",
    "    # Get the global variables\n",
    "    global ACCESS, LEFT, RIGHT, FULL, EMPTY\n",
    "\n",
    "    # Create the threads\n",
    "    threads = []\n",
    "    for _ in range(num_threads):\n",
    "        threads.append(threading.Thread(target=philosopherFunc))\n",
    "\n",
    "    # Start the threads\n",
    "    for thread in threads:\n",
    "        thread.start()\n",
    "\n",
    "    # Wait for the threads to finish\n",
    "    for thread in threads:\n",
    "        thread.join()\n",
    "\n",
    "    if debug:\n",
    "        print(f'Done with the simulation')\n"
   ],
   "metadata": {
    "collapsed": false,
    "pycharm": {
     "name": "#%%\n"
    }
   }
  },
  {
   "cell_type": "markdown",
   "source": [
    "<br>\n",
    "\n",
    "\n",
    "### Conclusion:\n",
    "\n",
    "Overall, I found this project\n",
    "\n",
    "\n",
    "\n",
    "#### Resources:\n",
    "- [Dr. Al Madi](https://www.cs.colby.edu/nsalmadi/)\n",
    "- [Using With Statements User Defined Objects](https://en.wikipedia.org/wiki/Peterson%27s_algorithm#Filter_algorithm:_Peterson's_algorithm_for_more_than_two_processes)"
   ],
   "metadata": {
    "collapsed": false
   }
  }
 ],
 "metadata": {
  "kernelspec": {
   "display_name": "Python 3 (ipykernel)",
   "language": "python",
   "name": "python3"
  },
  "language_info": {
   "codemirror_mode": {
    "name": "ipython",
    "version": 3
   },
   "file_extension": ".py",
   "mimetype": "text/x-python",
   "name": "python",
   "nbconvert_exporter": "python",
   "pygments_lexer": "ipython3",
   "version": "3.9.12"
  }
 },
 "nbformat": 4,
 "nbformat_minor": 1
}