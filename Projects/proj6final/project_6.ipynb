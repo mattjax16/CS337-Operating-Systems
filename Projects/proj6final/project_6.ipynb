{
 "cells": [
  {
   "cell_type": "markdown",
   "metadata": {},
   "source": [
    "# CS337 - OPERATING SYSTEMS- Project 6 Software Synchronization\n",
    "#### By: Matthew Bass\n",
    "\n",
    "\n",
    "**Project Overview:**\n",
    "\n",
    "In the project_6 file you I start by implementing a simple version of the\n",
    "race condition so I can test my synchronization solutions. In this file\n",
    " I will create well designed simulations to test mutual exclusion, progress,\n",
    " bounded wait-time, and N-threads when possible.\n",
    "\n",
    "The tests for each solution:\n",
    "\n",
    "\n",
    "<img src= \"Users/matthewbass/Documents/School_Colby/Colby/spring22/CS337-Operating-Systems/Projects/Proj6/pics/test_reqs.png\" >\n",
    "\n",
    "\n",
    "To test the synchronization solutions the race conditions will be a global\n",
    "counter that all the threads are incrementing. If the counter is the correct\n",
    "number after all the threads are done working then we no the race condition\n",
    "has been solved\n",
    "\n",
    "A **race condition** is, a situation in which multiple threads or processes\n",
    "read and write a shared data item and the final result depends on the\n",
    "relative timing of their execution. So this is what we are going to be trying\n",
    " to prevent.\n",
    "\n",
    "\n",
    "### PREREQUISITES:\n",
    "    Python 3\n",
    "    Jupyter\n",
    "    jupyter_contrib_nbextensions\n",
    "    Numpy\n",
    "    threading\n",
    "    datclasses\n",
    "    autopep8\n",
    "\n",
    "\n",
    "<br>\n",
    "\n",
    "-----\n",
    "\n",
    "### Setup:\n",
    "\n",
    "To start I am using this code to make all my code blocks hide-able, thanks to\n",
    "[stackoverflow](https://stackoverflow.com/questions/27934885/how-to-hide-code-from-cells-in-ipython-notebook-visualized-with-nbviewer).\n",
    "\n"
   ]
  },
  {
   "cell_type": "code",
   "execution_count": 21,
   "metadata": {},
   "outputs": [
    {
     "data": {
      "text/plain": "<IPython.core.display.HTML object>",
      "text/html": "<script>\n    function luc21893_refresh_cell(cell) {\n        if( cell.luc21893 ) return;\n        cell.luc21893 = true;\n        console.debug('New code cell found...' );\n\n        var div = document.createElement('DIV');\n        cell.parentNode.insertBefore( div, cell.nextSibling );\n        div.style.textAlign = 'right';\n        var a = document.createElement('A');\n        div.appendChild(a);\n        a.href='#'\n        a.luc21893 = cell;\n        a.setAttribute( 'onclick', \"luc21893_toggle(this); return false;\" );\n\n        cell.style.visibility='hidden';\n        cell.style.position='absolute';\n        a.innerHTML = '[show code]';\n\n    }\n    function luc21893_refresh() {\n        if( document.querySelector('.code_cell .input') == null ) {\n            // it apeears that I am in a exported html\n            // hide this code\n            var codeCells = document.querySelectorAll('.jp-InputArea')\n            codeCells[0].style.visibility = 'hidden';\n            codeCells[0].style.position = 'absolute';\n            for( var i = 1; i < codeCells.length; i++ ) {\n                luc21893_refresh_cell(codeCells[i].parentNode)\n            }\n            window.onload = luc21893_refresh;\n        }\n        else {\n            // it apperas that I am in a jupyter editor\n            var codeCells = document.querySelectorAll('.code_cell .input')\n            for( var i = 0; i < codeCells.length; i++ ) {\n                luc21893_refresh_cell(codeCells[i])\n            }\n            window.setTimeout( luc21893_refresh, 1000 )\n        }\n    }\n\n    function luc21893_toggle(a) {\n        if( a.luc21893.style.visibility=='hidden' ) {\n            a.luc21893.style.visibility='visible';\n            a.luc21893.style.position='';\n            a.innerHTML = '[hide code]';\n        }\n        else {\n            a.luc21893.style.visibility='hidden';\n            a.luc21893.style.position='absolute';\n            a.innerHTML = '[show code]';\n        }\n    }\n\n    luc21893_refresh()\n</script>\n\n"
     },
     "metadata": {},
     "output_type": "display_data"
    }
   ],
   "source": [
    "%%HTML\n",
    "<script>\n",
    "    function luc21893_refresh_cell(cell) {\n",
    "        if( cell.luc21893 ) return;\n",
    "        cell.luc21893 = true;\n",
    "        console.debug('New code cell found...' );\n",
    "\n",
    "        var div = document.createElement('DIV');\n",
    "        cell.parentNode.insertBefore( div, cell.nextSibling );\n",
    "        div.style.textAlign = 'right';\n",
    "        var a = document.createElement('A');\n",
    "        div.appendChild(a);\n",
    "        a.href='#'\n",
    "        a.luc21893 = cell;\n",
    "        a.setAttribute( 'onclick', \"luc21893_toggle(this); return false;\" );\n",
    "\n",
    "        cell.style.visibility='hidden';\n",
    "        cell.style.position='absolute';\n",
    "        a.innerHTML = '[show code]';\n",
    "\n",
    "    }\n",
    "    function luc21893_refresh() {\n",
    "        if( document.querySelector('.code_cell .input') == null ) {\n",
    "            // it apeears that I am in a exported html\n",
    "            // hide this code\n",
    "            var codeCells = document.querySelectorAll('.jp-InputArea')\n",
    "            codeCells[0].style.visibility = 'hidden';\n",
    "            codeCells[0].style.position = 'absolute';\n",
    "            for( var i = 1; i < codeCells.length; i++ ) {\n",
    "                luc21893_refresh_cell(codeCells[i].parentNode)\n",
    "            }\n",
    "            window.onload = luc21893_refresh;\n",
    "        }\n",
    "        else {\n",
    "            // it apperas that I am in a jupyter editor\n",
    "            var codeCells = document.querySelectorAll('.code_cell .input')\n",
    "            for( var i = 0; i < codeCells.length; i++ ) {\n",
    "                luc21893_refresh_cell(codeCells[i])\n",
    "            }\n",
    "            window.setTimeout( luc21893_refresh, 1000 )\n",
    "        }\n",
    "    }\n",
    "\n",
    "    function luc21893_toggle(a) {\n",
    "        if( a.luc21893.style.visibility=='hidden' ) {\n",
    "            a.luc21893.style.visibility='visible';\n",
    "            a.luc21893.style.position='';\n",
    "            a.innerHTML = '[hide code]';\n",
    "        }\n",
    "        else {\n",
    "            a.luc21893.style.visibility='hidden';\n",
    "            a.luc21893.style.position='absolute';\n",
    "            a.innerHTML = '[show code]';\n",
    "        }\n",
    "    }\n",
    "\n",
    "    luc21893_refresh()\n",
    "</script>"
   ]
  },
  {
   "cell_type": "markdown",
   "source": [
    "#### Imports:"
   ],
   "metadata": {
    "collapsed": false,
    "pycharm": {
     "name": "#%% md\n"
    }
   }
  },
  {
   "cell_type": "code",
   "execution_count": 30,
   "outputs": [],
   "source": [
    "import threading\n",
    "import time\n",
    "import numpy as np\n",
    "from dataclasses import fields, dataclass\n",
    "from abc import ABC, abstractmethod\n"
   ],
   "metadata": {
    "collapsed": false,
    "pycharm": {
     "name": "#%%\n"
    }
   }
  },
  {
   "cell_type": "markdown",
   "source": [
    "#### Base Solution Class:\n",
    "Now I am going to create an abstract class that will be used to make all the synchronization\n",
    "solutions."
   ],
   "metadata": {
    "collapsed": false,
    "pycharm": {
     "name": "#%% md\n"
    }
   }
  },
  {
   "cell_type": "code",
   "execution_count": 23,
   "outputs": [],
   "source": [
    "# Abstract class for all the solutions\n",
    "class SyncSolution(ABC):\n",
    "\n",
    "    def __init__(self) -> None:\n",
    "        # Name of the solution (lock)\n",
    "        self.name = None\n",
    "\n",
    "        # Number of threads\n",
    "        self.thread_count = None\n",
    "\n",
    "        return\n",
    "\n",
    "    @abstractmethod\n",
    "    def lock(self) -> None:\n",
    "        '''\n",
    "        This method will be used to lock the solution.\n",
    "        '''\n",
    "\n",
    "        pass\n",
    "\n",
    "    @abstractmethod\n",
    "    def unlock(self) -> None:\n",
    "        '''\n",
    "        This method will be used to unlock the solution.\n",
    "        '''\n",
    "        pass"
   ],
   "metadata": {
    "collapsed": false,
    "pycharm": {
     "name": "#%%\n"
    }
   }
  },
  {
   "cell_type": "markdown",
   "source": [
    "#### Base Testing:\n",
    "To test the different solutions I am going to write the single main function that will increment the\n",
    "global counter x INC_AMTS times. It will run the function over the\n",
    "NUM_THREADS specified and will use the solution specified. Also, it will run\n",
    "tests for mutual exclusion, progress, bounded wait-time, and N-threads when specified.\n",
    "\n",
    "\n",
    "##### Starting Global Counter Variable:"
   ],
   "metadata": {
    "collapsed": false,
    "pycharm": {
     "name": "#%% md\n"
    }
   }
  },
  {
   "cell_type": "code",
   "execution_count": 24,
   "outputs": [],
   "source": [
    "# Setting global var x to 0\n",
    "x = 0\n",
    "\n"
   ],
   "metadata": {
    "collapsed": false,
    "pycharm": {
     "name": "#%%\n"
    }
   }
  },
  {
   "cell_type": "markdown",
   "source": [
    "##### Increment Function:"
   ],
   "metadata": {
    "collapsed": false,
    "pycharm": {
     "name": "#%% md\n"
    }
   }
  },
  {
   "cell_type": "code",
   "execution_count": 25,
   "outputs": [],
   "source": [
    "def increment():\n",
    "    '''\n",
    "    This function will be used to increment the global variable x\n",
    "    Returns:\n",
    "    '''\n",
    "    # Get the global counter x\n",
    "    global x\n",
    "\n",
    "    # Increment the global counter x\n",
    "    x += 1\n"
   ],
   "metadata": {
    "collapsed": false,
    "pycharm": {
     "name": "#%%\n"
    }
   }
  },
  {
   "cell_type": "markdown",
   "source": [
    "<br>\n",
    "\n",
    "##### Testing Functions:\n",
    "Now I will write the three different helper functions for `thread_task` that\n",
    "will be used to test the different aspects of a good synchronization solution.\n",
    "Those being, mutual exclusion, progress, bounded wait-time. (We will also\n",
    "test some solutions to see if they work with N-threads but this is just done\n",
    "by changing the `thread_count` variable).\n",
    "\n",
    "<br>\n",
    "\n",
    "###### Mutual Exclusion:\n",
    "Mutual exclusion is the ability to ensure that only one thread is executing a\n",
    " given critical section of code at a time. In more formal terms from our\n",
    " notes it is \"The requirement that when one process is in a critical section\n",
    " that accesses shared resources, no other process may be in a critical\n",
    " section that accesses any of those shared resources\". In the context of this\n",
    "  testing the critical section is the `increment` function. because to\n",
    "  increment the thread must first read the value of the global variable x and\n",
    "   then add 1 to it so it is possible for another thread to increment the\n",
    "   counter x while the first thread is incrementing it. This can lead to inconsistent\n",
    "    and unexpected results. If a synchronization solution is not able to\n",
    "     ensure mutual exclusion then it is not really a solution at all.\n",
    "\n",
    "To validate if a count is correct (and there for mutual exclusive, as long as\n",
    " the count is great enough) I wrote `check_result` below:"
   ],
   "metadata": {
    "collapsed": false
   }
  },
  {
   "cell_type": "code",
   "execution_count": 26,
   "outputs": [],
   "source": [
    "def check_result(result: int, inc_amts: list) -> bool:\n",
    "    '''\n",
    "    This function will check the result of the the x output for the main_tasks\n",
    "\n",
    "    Args:\n",
    "        result (int): The result of the x output from the main_task\n",
    "        inc_amts (list): The list of increments that were done per thread\n",
    "\n",
    "    Returns:\n",
    "        bool: True if the result is correct, False otherwise\n",
    "    '''\n",
    "    if result == sum(inc_amts):\n",
    "        return True\n",
    "    else:\n",
    "        return False"
   ],
   "metadata": {
    "collapsed": false,
    "pycharm": {
     "name": "#%%\n"
    }
   }
  },
  {
   "cell_type": "markdown",
   "source": [
    "<br>\n",
    "\n",
    "Then the helper function `thread_task` to check `me` is written below:"
   ],
   "metadata": {
    "collapsed": false,
    "pycharm": {
     "name": "#%% md\n"
    }
   }
  },
  {
   "cell_type": "code",
   "execution_count": 27,
   "outputs": [],
   "source": [
    "def thread_task_me(lock: SyncSolution, thread_id: int, inc_amt: int, debug:\n",
    "bool = True) -> None:\n",
    "    '''\n",
    "    This function will be used to test for mutual exclusion.\n",
    "\n",
    "    Args:\n",
    "        lock (SyncSolution): The solution to test\n",
    "        thread_id (int): The id of the thread\n",
    "        inc_amt (int): The amount of times to increment the global counter x\n",
    "        debug (bool): If True, will print the results of the test\n",
    "\n",
    "    Returns:\n",
    "        None\n",
    "    '''\n",
    "    # Lock the solution\n",
    "    lock.lock(thread_id,debug)\n",
    "\n",
    "    # Increment the global counter x\n",
    "    for i in range(inc_amt):\n",
    "        increment()\n",
    "\n",
    "    if debug:\n",
    "        print(f\"Thread {thread_id} is unlocking\")\n",
    "\n",
    "    # Unlock the solution\n",
    "    lock.unlock(thread_id,debug)\n",
    "\n",
    "    if debug:\n",
    "        print(f'Thread {thread_id} is done')\n",
    "\n",
    "    return\n"
   ],
   "metadata": {
    "collapsed": false,
    "pycharm": {
     "name": "#%%\n"
    }
   }
  },
  {
   "cell_type": "markdown",
   "source": [
    "<br>\n",
    "\n",
    "###### Progress:\n",
    "Progress means that only threads that need the shared resource should participate in the\n",
    "decision to access it.  If no process is executing in its critical section\n",
    "and some processes wish to enter their critical sections, then only those\n",
    "processes that are not executing in their remainder section can participate\n",
    "in deciding which will enter its critical section next, and this selection\n",
    "cannot be postponed  indefinitely. Basically no dead-lock or live-lock can\n",
    "occur.\n",
    "\n",
    "*dead-lock:* A situation in which two or more processes are unable to proceed\n",
    " because each is waiting for one of the others to do something.\n",
    "\n",
    "*live-lock:* A situation in which two or more processes continuously change their state in response to changes in the other process(es) without doing any useful work.\n",
    "\n",
    "Below is the code I wrote to test for progress it locks and unlocks within\n",
    "the loop to cause more thread switches and cause the threads to have to be\n",
    "locked and unlocked multiple times. It also then has extra work at the end of\n",
    " each thread to have them working on data that is independent of the other."
   ],
   "metadata": {
    "collapsed": false
   }
  },
  {
   "cell_type": "code",
   "execution_count": 28,
   "outputs": [],
   "source": [
    "def thread_task_prog(lock: SyncSolution, thread_id: int, inc_amt: int, debug:\n",
    "bool = True) -> None:\n",
    "    '''\n",
    "    This function will be used to test for progress.\n",
    "\n",
    "    Args:\n",
    "        lock (SyncSolution): The solution to test\n",
    "        thread_id (int): The id of the thread\n",
    "        inc_amt (int): The amount of times to increment the global counter x\n",
    "        debug (bool): If True, will print the results of the test\n",
    "\n",
    "    Returns:\n",
    "        None\n",
    "    '''\n",
    "\n",
    "    # Increment the global counter x\n",
    "    for i in range(inc_amt):\n",
    "        # Lock the solution\n",
    "        lock.lock(thread_id,debug)\n",
    "\n",
    "        increment()\n",
    "\n",
    "        if debug:\n",
    "            print(f\"Thread {thread_id} is unlocking\")\n",
    "\n",
    "        # Unlock the solution\n",
    "        lock.unlock(thread_id,debug)\n",
    "\n",
    "    prog_check = 0\n",
    "    for _ in range(inc_amt * 10):\n",
    "        prog_check += 1\n",
    "\n",
    "    if debug:\n",
    "        print(f'Thread {thread_id} is done')\n",
    "\n",
    "    return"
   ],
   "metadata": {
    "collapsed": false,
    "pycharm": {
     "name": "#%%\n"
    }
   }
  },
  {
   "cell_type": "markdown",
   "source": [
    "<br>\n",
    "\n",
    "###### Bounded Wait Time (BWT):\n",
    "Bounded wait time basically means that a ready thread should not wait forever.\n",
    "In more formal terms it means, there exists a bound, or limit, on the number\n",
    "of times other processes are allowed to enter their critical sections after a\n",
    " process has made request to enter its critical section and before that\n",
    " request is granted. The purpose of this condition is to make sure that every\n",
    "  process gets the chance to actually enter its critical section so that no\n",
    "  process starves forever. (Preventing starvation)\n",
    "\n",
    "\n",
    "*starvation:* A situation in which a runnable process is overlooked\n",
    "indefinitely by the scheduler; although it is able to proceed, it is never chosen.\n",
    "\n",
    "To test for BWT I used the same time as the progress test but instead of\n",
    "calling the normal `lock()` function I used the `lockSleep()` function which\n",
    "uses the function `time.sleep(0.001)` to force contex switched while the\n",
    "thread is locking.\n",
    "\n",
    "Here is the helper function `thread_task_bwt()` below:"
   ],
   "metadata": {
    "collapsed": false,
    "pycharm": {
     "name": "#%% md\n"
    }
   }
  },
  {
   "cell_type": "code",
   "execution_count": 29,
   "outputs": [],
   "source": [
    "def thread_task_bwt(lock: SyncSolution, thread_id: int, inc_amt: int, debug:\n",
    "bool = True) -> None:\n",
    "    '''\n",
    "    This function will be used to test for progress.\n",
    "\n",
    "    Args:\n",
    "        lock (SyncSolution): The solution to test\n",
    "        thread_id (int): The id of the thread\n",
    "        inc_amt (int): The amount of times to increment the global counter x\n",
    "        debug (bool): If True, will print the results of the test\n",
    "\n",
    "    Returns:\n",
    "        None\n",
    "    '''\n",
    "\n",
    "    # Increment the global counter x\n",
    "    for i in range(inc_amt):\n",
    "        # Lock the solution\n",
    "        lock.lockSleep(thread_id,debug)\n",
    "\n",
    "        increment()\n",
    "\n",
    "        if debug:\n",
    "            print(f\"Thread {thread_id} is unlocking\")\n",
    "\n",
    "        # Unlock the solution\n",
    "        lock.unlock(thread_id,debug)\n",
    "\n",
    "    prog_check = 0\n",
    "    for _ in range(inc_amt * 10):\n",
    "        prog_check += 1\n",
    "\n",
    "    if debug:\n",
    "        print(f'Thread {thread_id} is done')\n",
    "\n",
    "    return"
   ],
   "metadata": {
    "collapsed": false,
    "pycharm": {
     "name": "#%%\n"
    }
   }
  },
  {
   "cell_type": "markdown",
   "source": [
    "##### Thread Task Functions:\n",
    "Now I am going to make the main thread task function which will increment the\n",
    "global counter x, inc_amt times. It will run the function over the\n",
    "NUM_THREADS specified and will use the solution specified. Also, it will run\n",
    "tests for mutual exclusion, progress, bounded wait-time, and N-threads when specified."
   ],
   "metadata": {
    "collapsed": false
   }
  },
  {
   "cell_type": "code",
   "execution_count": null,
   "outputs": [],
   "source": [
    "def thread_task(lock: SyncSolution = None, thread_id: int = 0, inc_amt: int =\n",
    "100000, test:\n",
    "str = \"me\",\n",
    "                debug: bool = True):\n",
    "    '''\n",
    "    This is the thread task that will be used to test the software\n",
    "    synchronization solutions.\n",
    "\n",
    "    Args:\n",
    "        lock (SyncSolution): The lock that will be used to synchronize\n",
    "        thread_id (int): The number that will be used to synchronize (the thread number)\n",
    "        inc_amt (int): The amount that will be used to increment the global variable x\n",
    "        test (str): The test that we will be doing to determine what code to run\n",
    "        debug (bool): If the debug flag is set to True, then the debug\n",
    "    '''\n",
    "\n",
    "    # If the SyncSolution is not specified, then we will use the default\n",
    "    if lock is None:\n",
    "         # If there is no lock, then just increment the global x variable\n",
    "        for _ in range(inc_amt):\n",
    "            increment()\n",
    "\n",
    "        if debug:\n",
    "            print(f'Thread {thread_id} is done')\n",
    "        return\n",
    "\n",
    "    # If the test is me, then we will run the main_task\n",
    "    if test == \"me\":\n",
    "        thread_task_me(lock, thread_id, inc_amt, debug)\n",
    "\n",
    "    # If not mutual exclusion but is progress check do more thread switching\n",
    "    # (and locked and unlocking) for each increment so they have to rely on\n",
    "    # each other .\n",
    "    elif test == \"prog\":\n",
    "        thread_task_prog(lock, thread_id, inc_amt, debug)\n",
    "\n",
    "    # If testing for bounded wait time use the lockSleep method which is the\n",
    "    # same as the lock method but induces contex switches by calling\n",
    "    # time.sleep(0.0001)\n",
    "    elif test == \"bwt\":\n",
    "        thread_task_bwt(lock, thread_id, inc_amt, debug)\n",
    "\n",
    "    return"
   ],
   "metadata": {
    "collapsed": false,
    "pycharm": {
     "name": "#%%\n"
    }
   }
  },
  {
   "cell_type": "markdown",
   "source": [
    "##### Simulation Functions:\n",
    "\n",
    "Now I am going to write the functions for the simulation\n",
    "\n",
    "To start I am going to write the `single_sim()` function which runs the thread\n",
    "count simulation once."
   ],
   "metadata": {
    "collapsed": false
   }
  },
  {
   "cell_type": "code",
   "execution_count": null,
   "outputs": [],
   "source": [
    "def single_sim(solution: SyncSolution = None,\n",
    "               inc_amt: int = 100000,\n",
    "               thread_count = 2 ,\n",
    "               thread_multiplier = None,\n",
    "               test: str = \"me\",\n",
    "               debug: bool = False) -> int:\n",
    "    '''\n",
    "    This is the single_simulation that will be used to test the\n",
    "    software synchronization solutions.\n",
    "\n",
    "    Args:\n",
    "        solution (SyncSolution): The lock that will be used to synchronize\n",
    "        inc_amt (int): The amount that will be used to increment the global variable x\n",
    "        thread_count (int): The number of threads that will be used\n",
    "        thread_multiplier (list): The multiplier of the increment amount for each thread\n",
    "        test (str): The test that we will be doing to determine what code to run\n",
    "        debug (bool): If the debug flag is set to True, then the debug\n",
    "\n",
    "    Returns:\n",
    "        int: The result of the x output from the main_task\n",
    "\n",
    "    '''\n",
    "\n",
    "    global x\n",
    "    x = 0\n",
    "\n",
    "    # Create threads based on the info\n",
    "    # create a lock\n",
    "    lock = solution(thread_count)\n",
    "\n",
    "    # Create threads\n",
    "    threads = []\n",
    "    for thread_num in range(1, thread_count + 1):\n",
    "        thread = threading.Thread(target=thread_task,\n",
    "                                  args=(\n",
    "                                  lock, thread_num, inc_amts[thread_num - 1],\n",
    "                                  debug))\n",
    "        threads.append(thread)\n",
    "\n",
    "    # Start threads\n",
    "    for thread in threads:\n",
    "        thread.start()\n",
    "\n",
    "    # Wait for threads to finish\n",
    "    for thread in threads:\n",
    "        thread.join()\n",
    "\n",
    "    return x"
   ],
   "metadata": {
    "collapsed": false,
    "pycharm": {
     "name": "#%%\n"
    }
   }
  },
  {
   "cell_type": "markdown",
   "source": [
    "<br>\n",
    "\n",
    "Before I write the function to run the simulation multiple times I am going\n",
    "to write a helper function, `check_results()` to check the results of each\n",
    "simulation."
   ],
   "metadata": {
    "collapsed": false
   }
  },
  {
   "cell_type": "code",
   "execution_count": null,
   "outputs": [],
   "source": [
    "def check_results(results: list) -> bool:\n",
    "    '''\n",
    "    This function will check the results of the the x outputs for the main_tasks\n",
    "\n",
    "    Args:\n",
    "        results (list): The list of results from the main_tasks\n",
    "\n",
    "    Returns:\n",
    "        bool: True if the results are correct, False otherwise\n",
    "    '''\n",
    "    for result in results:\n",
    "        if not check_result(result[\"x\"]):\n",
    "            return False\n",
    "    return True\n"
   ],
   "metadata": {
    "collapsed": false,
    "pycharm": {
     "name": "#%%\n"
    }
   }
  },
  {
   "cell_type": "markdown",
   "source": [
    "<br>\n",
    "\n",
    "Now I am going to write the `main_simulations()` function which will run the\n",
    "simulation for the times specified, along with all the other arguments that\n",
    "there are for a single simulation."
   ],
   "metadata": {
    "collapsed": false
   }
  },
  {
   "cell_type": "code",
   "source": [
    "def main_simulations(solution: SyncSolution = None,\n",
    "                     inc_amt: int = 100000,\n",
    "                     thread_count = 2 ,\n",
    "                     thread_multiplier = None,\n",
    "                     test: str = \"me\",\n",
    "                     debug: bool = False,\n",
    "                     times: int = 1) -> None:\n",
    "    \"\"\"\n",
    "    This is the main function that will be used to test the\n",
    "    software synchronization solutions.r\n",
    "\n",
    "    Args:\n",
    "        solution (SyncSolution): The lock that will be used to synchronize\n",
    "        times (int): The number of times that the simulation will be run\n",
    "        inc_amt (int): The amount that will be used to increment the global variable x\n",
    "        thread_count (int): The number of threads that will be used\n",
    "        thread_multiplier (list): The multiplier of the increment amount for each thread\n",
    "        test (str): The test that we will be doing to determine what code to run\n",
    "        debug (bool): If the debug flag is set to True, then the debug\n",
    "\n",
    "\n",
    "\n",
    "    Returns:\n",
    "        None:\n",
    "\n",
    "    \"\"\"\n",
    "\n",
    "    global x\n",
    "\n",
    "     # Check the thread_multiplier\n",
    "    if thread_multiplier is None:\n",
    "        thread_multiplier = [1] * thread_count\n",
    "    elif len(thread_multiplier) != thread_count:\n",
    "        raise ValueError(f\"The thread_multiplier must be the same length as the thread_count\")\n",
    "\n",
    "    inc_amts = [inc_amt * x for x in thread_multiplier]\n",
    "\n",
    "\n",
    "    # Run the simulation times\n",
    "    simulation_results = []\n",
    "    for i in range(times):\n",
    "        # Run the main task\n",
    "        single_sim(solution, inc_amt, thread_count, thread_multiplier, test, debug)\n",
    "\n",
    "\n",
    "\n",
    "        # Append the results to the list\n",
    "        simulation_results.append({'iteration': i, 'x': x})\n",
    "\n",
    "    # Check the results\n",
    "    if check_results(simulation_results):\n",
    "        print('\\nAll results are correct!')\n",
    "\n",
    "    # Else print the results that are incorrect\n",
    "    else:\n",
    "        print('\\nThe results are incorrect!')\n",
    "\n",
    "    # Print what the correct result should be\n",
    "    print(f\"The correct result should be {sum(inc_amts)}\")\n",
    "\n",
    "    # Print the results\n",
    "    print('\\nThe results are:')\n",
    "    for result in simulation_results:\n",
    "        print(f'Iteration {result[\"iteration\"]+1}: x = {result[\"x\"]}')\n",
    "\n",
    "    return"
   ],
   "metadata": {
    "collapsed": false,
    "pycharm": {
     "name": "#%%\n"
    }
   },
   "execution_count": null,
   "outputs": []
  },
  {
   "cell_type": "markdown",
   "source": [
    "<br>\n",
    "\n",
    "#### Testing Simulation With No Synchronization:\n",
    "\n",
    "Now that all the base code is done time to test it all out by trying to run\n",
    "the simulation with no form of synchronization. A race condition should occur\n",
    " with the count not being correct (showing it isn't mutually exclusive at all)\n"
   ],
   "metadata": {
    "collapsed": false,
    "pycharm": {
     "name": "#%% md\n"
    }
   }
  },
  {
   "cell_type": "code",
   "execution_count": null,
   "outputs": [],
   "source": [
    "\n",
    "\n",
    "\n",
    "\n"
   ],
   "metadata": {
    "collapsed": false,
    "pycharm": {
     "name": "#%%\n"
    }
   }
  },
  {
   "cell_type": "markdown",
   "metadata": {
    "collapsed": true,
    "pycharm": {
     "name": "#%% md\n"
    }
   },
   "source": [
    "#### Resources:\n",
    "- [Petersons Solution Wiki](https://en.wikipedia.org/wiki/Peterson%27s_algorithm#Filter_algorithm:_Peterson's_algorithm_for_more_than_two_processes)\n",
    "- [University of Idaho Notes](http://www2.cs.uidaho.edu/~krings/CS240/Notes.F13/240-13-12.pdf)\n",
    "- [Stack Overflow Progress and BWT](https://stackoverflow.com/questions/33143779/what-is-progress-and-bounded-waiting-in-critical-section)"
   ]
  }
 ],
 "metadata": {
  "kernelspec": {
   "display_name": "Python 3 (ipykernel)",
   "language": "python",
   "name": "python3"
  },
  "language_info": {
   "codemirror_mode": {
    "name": "ipython",
    "version": 3
   },
   "file_extension": ".py",
   "mimetype": "text/x-python",
   "name": "python",
   "nbconvert_exporter": "python",
   "pygments_lexer": "ipython3",
   "version": "3.9.7"
  }
 },
 "nbformat": 4,
 "nbformat_minor": 1
}