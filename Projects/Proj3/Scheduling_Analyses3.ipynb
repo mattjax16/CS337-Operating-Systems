{
 "cells": [
  {
   "cell_type": "markdown",
   "metadata": {},
   "source": [
    "# Project 3 - Completly Fair Schuedler Analysis\n",
    "### CS337 Operating Systems Prof. Al Madi - Spring 2022\n",
    "###### Matthew Bass : 02/28/2022\n",
    "---\n",
    "## Abstract:\n",
    "\n",
    "   This is a Jupyter Notebook to analyze the 3 different preemptive\n",
    "    process scheduling algorithms for the main project; Round Robin, Shortest\n",
    "    Remaining Time and Preemptive Priority and Multilevel Feedback\n",
    "    Queue, along with my extension algorithms through different scheduling\n",
    "    simulations. Preemptive algorithms differ from non-preeemptive\n",
    "    scheduling algorithms because they will stop a processes from running\n",
    "    completely and interrupt it if there is another process in the queue with a\n",
    "    heuristic that that means it should start being worked on at the time.\n",
    "    According to the [wikipedia page about preemption](https://en.wikipedia.org/wiki/Preemption_(computing))\n",
    "    \"preemption is the act of temporarily interrupting an executing task, with the intention of resuming it at a\n",
    "    later time. This interrupt is done by an external scheduler with no assistance or cooperation from the task.\"\n",
    "    Simulations with a 50/50 split of CPU and I/O bound processes will also be\n",
    "    used to see\n",
    "    an overall general performance of the scheduling algorithms. I will also\n",
    "    show how these\n",
    "    algorithms can\n",
    "     be unfair if they can be.\n",
    "\n",
    "---\n",
    "\n",
    "## Setup:"
   ]
  },
  {
   "cell_type": "code",
   "execution_count": 24,
   "metadata": {
    "pycharm": {
     "name": "#%%\n"
    }
   },
   "outputs": [],
   "source": [
    "# Importing necessary librariesimport copy\n",
    "import pandas as pd\n",
    "import operating_system\n",
    "import scheduler\n",
    "from process import Process\n",
    "import copy\n"
   ]
  },
  {
   "cell_type": "markdown",
   "metadata": {},
   "source": [
    "---\n",
    "## Round Robin (RR):\n",
    "\n",
    " The Round Robin scheduling algorithm is one of the oldest, simplest scheduling\n",
    " algorithm. The name of this algorithm comes from the round-robin principle, where\n",
    " each person gets an equal share of something in turn. This is because in the\n",
    "  algorithm each processes in the ready queue is run for the set length of\n",
    "  the quantum. A quantum is time slice each process runs for until it is\n",
    "  preempted for another process in the ready queue, if there is no other\n",
    "  process in the ready queue the process will run for another quantum or\n",
    "  until the process is done (This makes the algorithm preemptive at the end\n",
    "  of the time slice). The context switching of this algorithm evenly working\n",
    "   on every process' CPU burst time makes it so that starvation is impossible\n",
    "    since the CPU will always be chipping away at every process that needs to\n",
    "     use it in an even amount. This scheduling algorithm can be unfair though\n",
    "      to I/O bound processes. The length of the quantum is a big factor is\n",
    "      the statistics for this scheduling algorithm. If we pick a very large quantum for the Round\n",
    "      Robin algorithm it will definitely increase the average response time\n",
    "      and decrease throughput. Also, a long quantum most likely increase the\n",
    "      average wait time (depending on the type of processes of course).\n",
    "      When you have a Round Robin algorithm with a very large quantum it basically\n",
    "      becomes a First Come First Served algorithm. To small of a quantum is\n",
    "      not great either though as it can also decrease throughput because of\n",
    "      too much context switching\n",
    "\n",
    "\n",
    "    \n",
    "    \n",
    "   #### Testing:"
   ]
  },
  {
   "cell_type": "code",
   "execution_count": 25,
   "metadata": {
    "pycharm": {
     "name": "#%%\n"
    }
   },
   "outputs": [
    {
     "name": "stdout",
     "output_type": "stream",
     "text": [
      "Warning no processes were passed!! Making test Processes\n",
      "Process ID: 1 , Start Time: 0 , End Time: 2\n",
      "Process ID: 3 , Start Time: 2 , End Time: 4\n",
      "Process ID: 2 , Start Time: 4 , End Time: 6\n",
      "Process ID: 1 , Start Time: 6 , End Time: 8\n",
      "Process ID: 2 , Start Time: 8 , End Time: 10\n",
      "Process ID: 4 , Start Time: 10 , End Time: 12\n",
      "Process ID: 1 , Start Time: 12 , End Time: 14\n",
      "Process ID: 3 , Start Time: 14 , End Time: 16\n",
      "Process ID: 4 , Start Time: 16 , End Time: 18\n",
      "Process ID: 1 , Start Time: 18 , End Time: 20\n",
      "Process ID: 3 , Start Time: 20 , End Time: 22\n",
      "Process ID: 2 , Start Time: 22 , End Time: 24\n",
      "Process ID: 4 , Start Time: 24 , End Time: 25\n",
      "Process ID: 1 , Start Time: 25 , End Time: 27\n",
      "Process ID: 2 , Start Time: 27 , End Time: 28\n",
      "Process ID: 4 , Start Time: 28 , End Time: 30\n",
      "Process ID: 4 , Start Time: 30 , End Time: 32\n",
      "Process ID: 4 , Start Time: 32 , End Time: 34\n",
      "Process ID: 1 , Start Time: 34 , End Time: 36\n",
      "Process ID: 4 , Start Time: 36 , End Time: 37\n",
      "Process ID: 1 , Start Time: 37 , End Time: 39\n",
      "Process ID: 1 , Start Time: 39 , End Time: 41\n",
      "Process ID: 1 , Start Time: 41 , End Time: 42\n"
     ]
    }
   ],
   "source": [
    "# Run the kernel with RR and base test processes\n",
    "operating_system.kernal(scheduler.RR_scheduler,quantum=2,file_proc_name=\"test\"\n",
    "                        ,CPU_To_Csv=True)"
   ]
  },
  {
   "cell_type": "code",
   "execution_count": 26,
   "metadata": {
    "pycharm": {
     "name": "#%%\n"
    }
   },
   "outputs": [],
   "source": [
    "# Importing the results from RR test\n",
    "rr_results_all = pd.read_csv(\"data/Combined_Data/All_RR_Q2_test_results.csv\")\n",
    "rr_results_cpu = pd.read_csv(\"data/CPU_Data/CPU_RR_Q2_test_results.csv\")"
   ]
  },
  {
   "cell_type": "code",
   "execution_count": 27,
   "metadata": {
    "pycharm": {
     "name": "#%%\n"
    }
   },
   "outputs": [
    {
     "data": {
      "application/vnd.plotly.v1+json": {
       "config": {
        "plotlyServerURL": "https://plot.ly"
       },
       "data": [
        {
         "alignmentgroup": "True",
         "base": [
          10,
          16,
          24,
          28,
          30,
          32,
          36,
          2,
          14,
          20,
          4,
          8,
          22,
          27,
          0,
          6,
          12,
          18,
          25,
          34,
          37,
          39,
          41
         ],
         "hovertemplate": "start=%{base}<br>finish=%{x}<br>Process ID=%{y}<br>priority=%{marker.color}<extra></extra>",
         "legendgroup": "",
         "marker": {
          "color": [
           20,
           20,
           20,
           20,
           20,
           20,
           20,
           36,
           36,
           36,
           35,
           35,
           35,
           35,
           30,
           30,
           30,
           30,
           30,
           30,
           30,
           30,
           30
          ],
          "coloraxis": "coloraxis"
         },
         "name": "",
         "offsetgroup": "",
         "orientation": "h",
         "showlegend": false,
         "textposition": "auto",
         "type": "bar",
         "x": [
          2,
          2,
          1,
          2,
          2,
          2,
          1,
          2,
          2,
          2,
          2,
          2,
          2,
          1,
          2,
          2,
          2,
          2,
          2,
          2,
          2,
          2,
          1
         ],
         "xaxis": "x",
         "y": [
          4,
          4,
          4,
          4,
          4,
          4,
          4,
          3,
          3,
          3,
          2,
          2,
          2,
          2,
          1,
          1,
          1,
          1,
          1,
          1,
          1,
          1,
          1
         ],
         "yaxis": "y"
        }
       ],
       "layout": {
        "barmode": "overlay",
        "coloraxis": {
         "colorbar": {
          "title": {
           "text": "priority"
          }
         },
         "colorscale": [
          [
           0,
           "#0d0887"
          ],
          [
           0.1111111111111111,
           "#46039f"
          ],
          [
           0.2222222222222222,
           "#7201a8"
          ],
          [
           0.3333333333333333,
           "#9c179e"
          ],
          [
           0.4444444444444444,
           "#bd3786"
          ],
          [
           0.5555555555555556,
           "#d8576b"
          ],
          [
           0.6666666666666666,
           "#ed7953"
          ],
          [
           0.7777777777777778,
           "#fb9f3a"
          ],
          [
           0.8888888888888888,
           "#fdca26"
          ],
          [
           1,
           "#f0f921"
          ]
         ]
        },
        "legend": {
         "tracegroupgap": 0
        },
        "margin": {
         "t": 60
        },
        "template": {
         "data": {
          "bar": [
           {
            "error_x": {
             "color": "#2a3f5f"
            },
            "error_y": {
             "color": "#2a3f5f"
            },
            "marker": {
             "line": {
              "color": "#E5ECF6",
              "width": 0.5
             },
             "pattern": {
              "fillmode": "overlay",
              "size": 10,
              "solidity": 0.2
             }
            },
            "type": "bar"
           }
          ],
          "barpolar": [
           {
            "marker": {
             "line": {
              "color": "#E5ECF6",
              "width": 0.5
             },
             "pattern": {
              "fillmode": "overlay",
              "size": 10,
              "solidity": 0.2
             }
            },
            "type": "barpolar"
           }
          ],
          "carpet": [
           {
            "aaxis": {
             "endlinecolor": "#2a3f5f",
             "gridcolor": "white",
             "linecolor": "white",
             "minorgridcolor": "white",
             "startlinecolor": "#2a3f5f"
            },
            "baxis": {
             "endlinecolor": "#2a3f5f",
             "gridcolor": "white",
             "linecolor": "white",
             "minorgridcolor": "white",
             "startlinecolor": "#2a3f5f"
            },
            "type": "carpet"
           }
          ],
          "choropleth": [
           {
            "colorbar": {
             "outlinewidth": 0,
             "ticks": ""
            },
            "type": "choropleth"
           }
          ],
          "contour": [
           {
            "colorbar": {
             "outlinewidth": 0,
             "ticks": ""
            },
            "colorscale": [
             [
              0,
              "#0d0887"
             ],
             [
              0.1111111111111111,
              "#46039f"
             ],
             [
              0.2222222222222222,
              "#7201a8"
             ],
             [
              0.3333333333333333,
              "#9c179e"
             ],
             [
              0.4444444444444444,
              "#bd3786"
             ],
             [
              0.5555555555555556,
              "#d8576b"
             ],
             [
              0.6666666666666666,
              "#ed7953"
             ],
             [
              0.7777777777777778,
              "#fb9f3a"
             ],
             [
              0.8888888888888888,
              "#fdca26"
             ],
             [
              1,
              "#f0f921"
             ]
            ],
            "type": "contour"
           }
          ],
          "contourcarpet": [
           {
            "colorbar": {
             "outlinewidth": 0,
             "ticks": ""
            },
            "type": "contourcarpet"
           }
          ],
          "heatmap": [
           {
            "colorbar": {
             "outlinewidth": 0,
             "ticks": ""
            },
            "colorscale": [
             [
              0,
              "#0d0887"
             ],
             [
              0.1111111111111111,
              "#46039f"
             ],
             [
              0.2222222222222222,
              "#7201a8"
             ],
             [
              0.3333333333333333,
              "#9c179e"
             ],
             [
              0.4444444444444444,
              "#bd3786"
             ],
             [
              0.5555555555555556,
              "#d8576b"
             ],
             [
              0.6666666666666666,
              "#ed7953"
             ],
             [
              0.7777777777777778,
              "#fb9f3a"
             ],
             [
              0.8888888888888888,
              "#fdca26"
             ],
             [
              1,
              "#f0f921"
             ]
            ],
            "type": "heatmap"
           }
          ],
          "heatmapgl": [
           {
            "colorbar": {
             "outlinewidth": 0,
             "ticks": ""
            },
            "colorscale": [
             [
              0,
              "#0d0887"
             ],
             [
              0.1111111111111111,
              "#46039f"
             ],
             [
              0.2222222222222222,
              "#7201a8"
             ],
             [
              0.3333333333333333,
              "#9c179e"
             ],
             [
              0.4444444444444444,
              "#bd3786"
             ],
             [
              0.5555555555555556,
              "#d8576b"
             ],
             [
              0.6666666666666666,
              "#ed7953"
             ],
             [
              0.7777777777777778,
              "#fb9f3a"
             ],
             [
              0.8888888888888888,
              "#fdca26"
             ],
             [
              1,
              "#f0f921"
             ]
            ],
            "type": "heatmapgl"
           }
          ],
          "histogram": [
           {
            "marker": {
             "pattern": {
              "fillmode": "overlay",
              "size": 10,
              "solidity": 0.2
             }
            },
            "type": "histogram"
           }
          ],
          "histogram2d": [
           {
            "colorbar": {
             "outlinewidth": 0,
             "ticks": ""
            },
            "colorscale": [
             [
              0,
              "#0d0887"
             ],
             [
              0.1111111111111111,
              "#46039f"
             ],
             [
              0.2222222222222222,
              "#7201a8"
             ],
             [
              0.3333333333333333,
              "#9c179e"
             ],
             [
              0.4444444444444444,
              "#bd3786"
             ],
             [
              0.5555555555555556,
              "#d8576b"
             ],
             [
              0.6666666666666666,
              "#ed7953"
             ],
             [
              0.7777777777777778,
              "#fb9f3a"
             ],
             [
              0.8888888888888888,
              "#fdca26"
             ],
             [
              1,
              "#f0f921"
             ]
            ],
            "type": "histogram2d"
           }
          ],
          "histogram2dcontour": [
           {
            "colorbar": {
             "outlinewidth": 0,
             "ticks": ""
            },
            "colorscale": [
             [
              0,
              "#0d0887"
             ],
             [
              0.1111111111111111,
              "#46039f"
             ],
             [
              0.2222222222222222,
              "#7201a8"
             ],
             [
              0.3333333333333333,
              "#9c179e"
             ],
             [
              0.4444444444444444,
              "#bd3786"
             ],
             [
              0.5555555555555556,
              "#d8576b"
             ],
             [
              0.6666666666666666,
              "#ed7953"
             ],
             [
              0.7777777777777778,
              "#fb9f3a"
             ],
             [
              0.8888888888888888,
              "#fdca26"
             ],
             [
              1,
              "#f0f921"
             ]
            ],
            "type": "histogram2dcontour"
           }
          ],
          "mesh3d": [
           {
            "colorbar": {
             "outlinewidth": 0,
             "ticks": ""
            },
            "type": "mesh3d"
           }
          ],
          "parcoords": [
           {
            "line": {
             "colorbar": {
              "outlinewidth": 0,
              "ticks": ""
             }
            },
            "type": "parcoords"
           }
          ],
          "pie": [
           {
            "automargin": true,
            "type": "pie"
           }
          ],
          "scatter": [
           {
            "marker": {
             "colorbar": {
              "outlinewidth": 0,
              "ticks": ""
             }
            },
            "type": "scatter"
           }
          ],
          "scatter3d": [
           {
            "line": {
             "colorbar": {
              "outlinewidth": 0,
              "ticks": ""
             }
            },
            "marker": {
             "colorbar": {
              "outlinewidth": 0,
              "ticks": ""
             }
            },
            "type": "scatter3d"
           }
          ],
          "scattercarpet": [
           {
            "marker": {
             "colorbar": {
              "outlinewidth": 0,
              "ticks": ""
             }
            },
            "type": "scattercarpet"
           }
          ],
          "scattergeo": [
           {
            "marker": {
             "colorbar": {
              "outlinewidth": 0,
              "ticks": ""
             }
            },
            "type": "scattergeo"
           }
          ],
          "scattergl": [
           {
            "marker": {
             "colorbar": {
              "outlinewidth": 0,
              "ticks": ""
             }
            },
            "type": "scattergl"
           }
          ],
          "scattermapbox": [
           {
            "marker": {
             "colorbar": {
              "outlinewidth": 0,
              "ticks": ""
             }
            },
            "type": "scattermapbox"
           }
          ],
          "scatterpolar": [
           {
            "marker": {
             "colorbar": {
              "outlinewidth": 0,
              "ticks": ""
             }
            },
            "type": "scatterpolar"
           }
          ],
          "scatterpolargl": [
           {
            "marker": {
             "colorbar": {
              "outlinewidth": 0,
              "ticks": ""
             }
            },
            "type": "scatterpolargl"
           }
          ],
          "scatterternary": [
           {
            "marker": {
             "colorbar": {
              "outlinewidth": 0,
              "ticks": ""
             }
            },
            "type": "scatterternary"
           }
          ],
          "surface": [
           {
            "colorbar": {
             "outlinewidth": 0,
             "ticks": ""
            },
            "colorscale": [
             [
              0,
              "#0d0887"
             ],
             [
              0.1111111111111111,
              "#46039f"
             ],
             [
              0.2222222222222222,
              "#7201a8"
             ],
             [
              0.3333333333333333,
              "#9c179e"
             ],
             [
              0.4444444444444444,
              "#bd3786"
             ],
             [
              0.5555555555555556,
              "#d8576b"
             ],
             [
              0.6666666666666666,
              "#ed7953"
             ],
             [
              0.7777777777777778,
              "#fb9f3a"
             ],
             [
              0.8888888888888888,
              "#fdca26"
             ],
             [
              1,
              "#f0f921"
             ]
            ],
            "type": "surface"
           }
          ],
          "table": [
           {
            "cells": {
             "fill": {
              "color": "#EBF0F8"
             },
             "line": {
              "color": "white"
             }
            },
            "header": {
             "fill": {
              "color": "#C8D4E3"
             },
             "line": {
              "color": "white"
             }
            },
            "type": "table"
           }
          ]
         },
         "layout": {
          "annotationdefaults": {
           "arrowcolor": "#2a3f5f",
           "arrowhead": 0,
           "arrowwidth": 1
          },
          "autotypenumbers": "strict",
          "coloraxis": {
           "colorbar": {
            "outlinewidth": 0,
            "ticks": ""
           }
          },
          "colorscale": {
           "diverging": [
            [
             0,
             "#8e0152"
            ],
            [
             0.1,
             "#c51b7d"
            ],
            [
             0.2,
             "#de77ae"
            ],
            [
             0.3,
             "#f1b6da"
            ],
            [
             0.4,
             "#fde0ef"
            ],
            [
             0.5,
             "#f7f7f7"
            ],
            [
             0.6,
             "#e6f5d0"
            ],
            [
             0.7,
             "#b8e186"
            ],
            [
             0.8,
             "#7fbc41"
            ],
            [
             0.9,
             "#4d9221"
            ],
            [
             1,
             "#276419"
            ]
           ],
           "sequential": [
            [
             0,
             "#0d0887"
            ],
            [
             0.1111111111111111,
             "#46039f"
            ],
            [
             0.2222222222222222,
             "#7201a8"
            ],
            [
             0.3333333333333333,
             "#9c179e"
            ],
            [
             0.4444444444444444,
             "#bd3786"
            ],
            [
             0.5555555555555556,
             "#d8576b"
            ],
            [
             0.6666666666666666,
             "#ed7953"
            ],
            [
             0.7777777777777778,
             "#fb9f3a"
            ],
            [
             0.8888888888888888,
             "#fdca26"
            ],
            [
             1,
             "#f0f921"
            ]
           ],
           "sequentialminus": [
            [
             0,
             "#0d0887"
            ],
            [
             0.1111111111111111,
             "#46039f"
            ],
            [
             0.2222222222222222,
             "#7201a8"
            ],
            [
             0.3333333333333333,
             "#9c179e"
            ],
            [
             0.4444444444444444,
             "#bd3786"
            ],
            [
             0.5555555555555556,
             "#d8576b"
            ],
            [
             0.6666666666666666,
             "#ed7953"
            ],
            [
             0.7777777777777778,
             "#fb9f3a"
            ],
            [
             0.8888888888888888,
             "#fdca26"
            ],
            [
             1,
             "#f0f921"
            ]
           ]
          },
          "colorway": [
           "#636efa",
           "#EF553B",
           "#00cc96",
           "#ab63fa",
           "#FFA15A",
           "#19d3f3",
           "#FF6692",
           "#B6E880",
           "#FF97FF",
           "#FECB52"
          ],
          "font": {
           "color": "#2a3f5f"
          },
          "geo": {
           "bgcolor": "white",
           "lakecolor": "white",
           "landcolor": "#E5ECF6",
           "showlakes": true,
           "showland": true,
           "subunitcolor": "white"
          },
          "hoverlabel": {
           "align": "left"
          },
          "hovermode": "closest",
          "mapbox": {
           "style": "light"
          },
          "paper_bgcolor": "white",
          "plot_bgcolor": "#E5ECF6",
          "polar": {
           "angularaxis": {
            "gridcolor": "white",
            "linecolor": "white",
            "ticks": ""
           },
           "bgcolor": "#E5ECF6",
           "radialaxis": {
            "gridcolor": "white",
            "linecolor": "white",
            "ticks": ""
           }
          },
          "scene": {
           "xaxis": {
            "backgroundcolor": "#E5ECF6",
            "gridcolor": "white",
            "gridwidth": 2,
            "linecolor": "white",
            "showbackground": true,
            "ticks": "",
            "zerolinecolor": "white"
           },
           "yaxis": {
            "backgroundcolor": "#E5ECF6",
            "gridcolor": "white",
            "gridwidth": 2,
            "linecolor": "white",
            "showbackground": true,
            "ticks": "",
            "zerolinecolor": "white"
           },
           "zaxis": {
            "backgroundcolor": "#E5ECF6",
            "gridcolor": "white",
            "gridwidth": 2,
            "linecolor": "white",
            "showbackground": true,
            "ticks": "",
            "zerolinecolor": "white"
           }
          },
          "shapedefaults": {
           "line": {
            "color": "#2a3f5f"
           }
          },
          "ternary": {
           "aaxis": {
            "gridcolor": "white",
            "linecolor": "white",
            "ticks": ""
           },
           "baxis": {
            "gridcolor": "white",
            "linecolor": "white",
            "ticks": ""
           },
           "bgcolor": "#E5ECF6",
           "caxis": {
            "gridcolor": "white",
            "linecolor": "white",
            "ticks": ""
           }
          },
          "title": {
           "x": 0.05
          },
          "xaxis": {
           "automargin": true,
           "gridcolor": "white",
           "linecolor": "white",
           "ticks": "",
           "title": {
            "standoff": 15
           },
           "zerolinecolor": "white",
           "zerolinewidth": 2
          },
          "yaxis": {
           "automargin": true,
           "gridcolor": "white",
           "linecolor": "white",
           "ticks": "",
           "title": {
            "standoff": 15
           },
           "zerolinecolor": "white",
           "zerolinewidth": 2
          }
         }
        },
        "title": {
         "text": "RR Test Results Timeline",
         "x": 0.5
        },
        "xaxis": {
         "dtick": 1,
         "showline": true,
         "tick0": 0,
         "tickmode": "linear",
         "title": {
          "text": "Time (clock ticks)"
         }
        },
        "yaxis": {
         "dtick": 1,
         "tick0": 0,
         "tickmode": "linear",
         "title": {
          "text": "Process ID"
         }
        }
       }
      },
      "text/html": [
       "<div>                            <div id=\"328bcb5e-950a-47cf-b938-7eeae7374f3d\" class=\"plotly-graph-div\" style=\"height:525px; width:100%;\"></div>            <script type=\"text/javascript\">                require([\"plotly\"], function(Plotly) {                    window.PLOTLYENV=window.PLOTLYENV || {};                                    if (document.getElementById(\"328bcb5e-950a-47cf-b938-7eeae7374f3d\")) {                    Plotly.newPlot(                        \"328bcb5e-950a-47cf-b938-7eeae7374f3d\",                        [{\"alignmentgroup\":\"True\",\"base\":[10,16,24,28,30,32,36,2,14,20,4,8,22,27,0,6,12,18,25,34,37,39,41],\"hovertemplate\":\"start=%{base}<br>finish=%{x}<br>Process ID=%{y}<br>priority=%{marker.color}<extra></extra>\",\"legendgroup\":\"\",\"marker\":{\"color\":[20,20,20,20,20,20,20,36,36,36,35,35,35,35,30,30,30,30,30,30,30,30,30],\"coloraxis\":\"coloraxis\"},\"name\":\"\",\"offsetgroup\":\"\",\"orientation\":\"h\",\"showlegend\":false,\"textposition\":\"auto\",\"type\":\"bar\",\"x\":[2,2,1,2,2,2,1,2,2,2,2,2,2,1,2,2,2,2,2,2,2,2,1],\"xaxis\":\"x\",\"y\":[4,4,4,4,4,4,4,3,3,3,2,2,2,2,1,1,1,1,1,1,1,1,1],\"yaxis\":\"y\"}],                        {\"barmode\":\"overlay\",\"coloraxis\":{\"colorbar\":{\"title\":{\"text\":\"priority\"}},\"colorscale\":[[0.0,\"#0d0887\"],[0.1111111111111111,\"#46039f\"],[0.2222222222222222,\"#7201a8\"],[0.3333333333333333,\"#9c179e\"],[0.4444444444444444,\"#bd3786\"],[0.5555555555555556,\"#d8576b\"],[0.6666666666666666,\"#ed7953\"],[0.7777777777777778,\"#fb9f3a\"],[0.8888888888888888,\"#fdca26\"],[1.0,\"#f0f921\"]]},\"legend\":{\"tracegroupgap\":0},\"margin\":{\"t\":60},\"template\":{\"data\":{\"bar\":[{\"error_x\":{\"color\":\"#2a3f5f\"},\"error_y\":{\"color\":\"#2a3f5f\"},\"marker\":{\"line\":{\"color\":\"#E5ECF6\",\"width\":0.5},\"pattern\":{\"fillmode\":\"overlay\",\"size\":10,\"solidity\":0.2}},\"type\":\"bar\"}],\"barpolar\":[{\"marker\":{\"line\":{\"color\":\"#E5ECF6\",\"width\":0.5},\"pattern\":{\"fillmode\":\"overlay\",\"size\":10,\"solidity\":0.2}},\"type\":\"barpolar\"}],\"carpet\":[{\"aaxis\":{\"endlinecolor\":\"#2a3f5f\",\"gridcolor\":\"white\",\"linecolor\":\"white\",\"minorgridcolor\":\"white\",\"startlinecolor\":\"#2a3f5f\"},\"baxis\":{\"endlinecolor\":\"#2a3f5f\",\"gridcolor\":\"white\",\"linecolor\":\"white\",\"minorgridcolor\":\"white\",\"startlinecolor\":\"#2a3f5f\"},\"type\":\"carpet\"}],\"choropleth\":[{\"colorbar\":{\"outlinewidth\":0,\"ticks\":\"\"},\"type\":\"choropleth\"}],\"contour\":[{\"colorbar\":{\"outlinewidth\":0,\"ticks\":\"\"},\"colorscale\":[[0.0,\"#0d0887\"],[0.1111111111111111,\"#46039f\"],[0.2222222222222222,\"#7201a8\"],[0.3333333333333333,\"#9c179e\"],[0.4444444444444444,\"#bd3786\"],[0.5555555555555556,\"#d8576b\"],[0.6666666666666666,\"#ed7953\"],[0.7777777777777778,\"#fb9f3a\"],[0.8888888888888888,\"#fdca26\"],[1.0,\"#f0f921\"]],\"type\":\"contour\"}],\"contourcarpet\":[{\"colorbar\":{\"outlinewidth\":0,\"ticks\":\"\"},\"type\":\"contourcarpet\"}],\"heatmap\":[{\"colorbar\":{\"outlinewidth\":0,\"ticks\":\"\"},\"colorscale\":[[0.0,\"#0d0887\"],[0.1111111111111111,\"#46039f\"],[0.2222222222222222,\"#7201a8\"],[0.3333333333333333,\"#9c179e\"],[0.4444444444444444,\"#bd3786\"],[0.5555555555555556,\"#d8576b\"],[0.6666666666666666,\"#ed7953\"],[0.7777777777777778,\"#fb9f3a\"],[0.8888888888888888,\"#fdca26\"],[1.0,\"#f0f921\"]],\"type\":\"heatmap\"}],\"heatmapgl\":[{\"colorbar\":{\"outlinewidth\":0,\"ticks\":\"\"},\"colorscale\":[[0.0,\"#0d0887\"],[0.1111111111111111,\"#46039f\"],[0.2222222222222222,\"#7201a8\"],[0.3333333333333333,\"#9c179e\"],[0.4444444444444444,\"#bd3786\"],[0.5555555555555556,\"#d8576b\"],[0.6666666666666666,\"#ed7953\"],[0.7777777777777778,\"#fb9f3a\"],[0.8888888888888888,\"#fdca26\"],[1.0,\"#f0f921\"]],\"type\":\"heatmapgl\"}],\"histogram\":[{\"marker\":{\"pattern\":{\"fillmode\":\"overlay\",\"size\":10,\"solidity\":0.2}},\"type\":\"histogram\"}],\"histogram2d\":[{\"colorbar\":{\"outlinewidth\":0,\"ticks\":\"\"},\"colorscale\":[[0.0,\"#0d0887\"],[0.1111111111111111,\"#46039f\"],[0.2222222222222222,\"#7201a8\"],[0.3333333333333333,\"#9c179e\"],[0.4444444444444444,\"#bd3786\"],[0.5555555555555556,\"#d8576b\"],[0.6666666666666666,\"#ed7953\"],[0.7777777777777778,\"#fb9f3a\"],[0.8888888888888888,\"#fdca26\"],[1.0,\"#f0f921\"]],\"type\":\"histogram2d\"}],\"histogram2dcontour\":[{\"colorbar\":{\"outlinewidth\":0,\"ticks\":\"\"},\"colorscale\":[[0.0,\"#0d0887\"],[0.1111111111111111,\"#46039f\"],[0.2222222222222222,\"#7201a8\"],[0.3333333333333333,\"#9c179e\"],[0.4444444444444444,\"#bd3786\"],[0.5555555555555556,\"#d8576b\"],[0.6666666666666666,\"#ed7953\"],[0.7777777777777778,\"#fb9f3a\"],[0.8888888888888888,\"#fdca26\"],[1.0,\"#f0f921\"]],\"type\":\"histogram2dcontour\"}],\"mesh3d\":[{\"colorbar\":{\"outlinewidth\":0,\"ticks\":\"\"},\"type\":\"mesh3d\"}],\"parcoords\":[{\"line\":{\"colorbar\":{\"outlinewidth\":0,\"ticks\":\"\"}},\"type\":\"parcoords\"}],\"pie\":[{\"automargin\":true,\"type\":\"pie\"}],\"scatter\":[{\"marker\":{\"colorbar\":{\"outlinewidth\":0,\"ticks\":\"\"}},\"type\":\"scatter\"}],\"scatter3d\":[{\"line\":{\"colorbar\":{\"outlinewidth\":0,\"ticks\":\"\"}},\"marker\":{\"colorbar\":{\"outlinewidth\":0,\"ticks\":\"\"}},\"type\":\"scatter3d\"}],\"scattercarpet\":[{\"marker\":{\"colorbar\":{\"outlinewidth\":0,\"ticks\":\"\"}},\"type\":\"scattercarpet\"}],\"scattergeo\":[{\"marker\":{\"colorbar\":{\"outlinewidth\":0,\"ticks\":\"\"}},\"type\":\"scattergeo\"}],\"scattergl\":[{\"marker\":{\"colorbar\":{\"outlinewidth\":0,\"ticks\":\"\"}},\"type\":\"scattergl\"}],\"scattermapbox\":[{\"marker\":{\"colorbar\":{\"outlinewidth\":0,\"ticks\":\"\"}},\"type\":\"scattermapbox\"}],\"scatterpolar\":[{\"marker\":{\"colorbar\":{\"outlinewidth\":0,\"ticks\":\"\"}},\"type\":\"scatterpolar\"}],\"scatterpolargl\":[{\"marker\":{\"colorbar\":{\"outlinewidth\":0,\"ticks\":\"\"}},\"type\":\"scatterpolargl\"}],\"scatterternary\":[{\"marker\":{\"colorbar\":{\"outlinewidth\":0,\"ticks\":\"\"}},\"type\":\"scatterternary\"}],\"surface\":[{\"colorbar\":{\"outlinewidth\":0,\"ticks\":\"\"},\"colorscale\":[[0.0,\"#0d0887\"],[0.1111111111111111,\"#46039f\"],[0.2222222222222222,\"#7201a8\"],[0.3333333333333333,\"#9c179e\"],[0.4444444444444444,\"#bd3786\"],[0.5555555555555556,\"#d8576b\"],[0.6666666666666666,\"#ed7953\"],[0.7777777777777778,\"#fb9f3a\"],[0.8888888888888888,\"#fdca26\"],[1.0,\"#f0f921\"]],\"type\":\"surface\"}],\"table\":[{\"cells\":{\"fill\":{\"color\":\"#EBF0F8\"},\"line\":{\"color\":\"white\"}},\"header\":{\"fill\":{\"color\":\"#C8D4E3\"},\"line\":{\"color\":\"white\"}},\"type\":\"table\"}]},\"layout\":{\"annotationdefaults\":{\"arrowcolor\":\"#2a3f5f\",\"arrowhead\":0,\"arrowwidth\":1},\"autotypenumbers\":\"strict\",\"coloraxis\":{\"colorbar\":{\"outlinewidth\":0,\"ticks\":\"\"}},\"colorscale\":{\"diverging\":[[0,\"#8e0152\"],[0.1,\"#c51b7d\"],[0.2,\"#de77ae\"],[0.3,\"#f1b6da\"],[0.4,\"#fde0ef\"],[0.5,\"#f7f7f7\"],[0.6,\"#e6f5d0\"],[0.7,\"#b8e186\"],[0.8,\"#7fbc41\"],[0.9,\"#4d9221\"],[1,\"#276419\"]],\"sequential\":[[0.0,\"#0d0887\"],[0.1111111111111111,\"#46039f\"],[0.2222222222222222,\"#7201a8\"],[0.3333333333333333,\"#9c179e\"],[0.4444444444444444,\"#bd3786\"],[0.5555555555555556,\"#d8576b\"],[0.6666666666666666,\"#ed7953\"],[0.7777777777777778,\"#fb9f3a\"],[0.8888888888888888,\"#fdca26\"],[1.0,\"#f0f921\"]],\"sequentialminus\":[[0.0,\"#0d0887\"],[0.1111111111111111,\"#46039f\"],[0.2222222222222222,\"#7201a8\"],[0.3333333333333333,\"#9c179e\"],[0.4444444444444444,\"#bd3786\"],[0.5555555555555556,\"#d8576b\"],[0.6666666666666666,\"#ed7953\"],[0.7777777777777778,\"#fb9f3a\"],[0.8888888888888888,\"#fdca26\"],[1.0,\"#f0f921\"]]},\"colorway\":[\"#636efa\",\"#EF553B\",\"#00cc96\",\"#ab63fa\",\"#FFA15A\",\"#19d3f3\",\"#FF6692\",\"#B6E880\",\"#FF97FF\",\"#FECB52\"],\"font\":{\"color\":\"#2a3f5f\"},\"geo\":{\"bgcolor\":\"white\",\"lakecolor\":\"white\",\"landcolor\":\"#E5ECF6\",\"showlakes\":true,\"showland\":true,\"subunitcolor\":\"white\"},\"hoverlabel\":{\"align\":\"left\"},\"hovermode\":\"closest\",\"mapbox\":{\"style\":\"light\"},\"paper_bgcolor\":\"white\",\"plot_bgcolor\":\"#E5ECF6\",\"polar\":{\"angularaxis\":{\"gridcolor\":\"white\",\"linecolor\":\"white\",\"ticks\":\"\"},\"bgcolor\":\"#E5ECF6\",\"radialaxis\":{\"gridcolor\":\"white\",\"linecolor\":\"white\",\"ticks\":\"\"}},\"scene\":{\"xaxis\":{\"backgroundcolor\":\"#E5ECF6\",\"gridcolor\":\"white\",\"gridwidth\":2,\"linecolor\":\"white\",\"showbackground\":true,\"ticks\":\"\",\"zerolinecolor\":\"white\"},\"yaxis\":{\"backgroundcolor\":\"#E5ECF6\",\"gridcolor\":\"white\",\"gridwidth\":2,\"linecolor\":\"white\",\"showbackground\":true,\"ticks\":\"\",\"zerolinecolor\":\"white\"},\"zaxis\":{\"backgroundcolor\":\"#E5ECF6\",\"gridcolor\":\"white\",\"gridwidth\":2,\"linecolor\":\"white\",\"showbackground\":true,\"ticks\":\"\",\"zerolinecolor\":\"white\"}},\"shapedefaults\":{\"line\":{\"color\":\"#2a3f5f\"}},\"ternary\":{\"aaxis\":{\"gridcolor\":\"white\",\"linecolor\":\"white\",\"ticks\":\"\"},\"baxis\":{\"gridcolor\":\"white\",\"linecolor\":\"white\",\"ticks\":\"\"},\"bgcolor\":\"#E5ECF6\",\"caxis\":{\"gridcolor\":\"white\",\"linecolor\":\"white\",\"ticks\":\"\"}},\"title\":{\"x\":0.05},\"xaxis\":{\"automargin\":true,\"gridcolor\":\"white\",\"linecolor\":\"white\",\"ticks\":\"\",\"title\":{\"standoff\":15},\"zerolinecolor\":\"white\",\"zerolinewidth\":2},\"yaxis\":{\"automargin\":true,\"gridcolor\":\"white\",\"linecolor\":\"white\",\"ticks\":\"\",\"title\":{\"standoff\":15},\"zerolinecolor\":\"white\",\"zerolinewidth\":2}}},\"title\":{\"text\":\"RR Test Results Timeline\",\"x\":0.5},\"xaxis\":{\"dtick\":1,\"showline\":true,\"tick0\":0,\"tickmode\":\"linear\",\"title\":{\"text\":\"Time (clock ticks)\"}},\"yaxis\":{\"dtick\":1,\"tick0\":0,\"tickmode\":\"linear\",\"title\":{\"text\":\"Process ID\"}}},                        {\"responsive\": true}                    ).then(function(){\n",
       "                            \n",
       "var gd = document.getElementById('328bcb5e-950a-47cf-b938-7eeae7374f3d');\n",
       "var x = new MutationObserver(function (mutations, observer) {{\n",
       "        var display = window.getComputedStyle(gd).display;\n",
       "        if (!display || display === 'none') {{\n",
       "            console.log([gd, 'removed!']);\n",
       "            Plotly.purge(gd);\n",
       "            observer.disconnect();\n",
       "        }}\n",
       "}});\n",
       "\n",
       "// Listen for the removal of the full notebook cells\n",
       "var notebookContainer = gd.closest('#notebook-container');\n",
       "if (notebookContainer) {{\n",
       "    x.observe(notebookContainer, {childList: true});\n",
       "}}\n",
       "\n",
       "// Listen for the clearing of the current output cell\n",
       "var outputEl = gd.closest('.output');\n",
       "if (outputEl) {{\n",
       "    x.observe(outputEl, {childList: true});\n",
       "}}\n",
       "\n",
       "                        })                };                });            </script>        </div>"
      ]
     },
     "metadata": {},
     "output_type": "display_data"
    }
   ],
   "source": [
    "# Plotting the Results with code given to us\n",
    "operating_system.plotCPU(rr_results_cpu,\"RR Test Results Timeline\")\n"
   ]
  },
  {
   "cell_type": "code",
   "execution_count": 28,
   "metadata": {
    "pycharm": {
     "name": "#%%\n"
    }
   },
   "outputs": [
    {
     "data": {
      "image/png": "[encoded data removed]",
      "text/plain": [
       "<Figure size 1296x504 with 2 Axes>"
      ]
     },
     "metadata": {
      "needs_background": "light"
     },
     "output_type": "display_data"
    }
   ],
   "source": [
    "# Plotting both results enhanced (my own visualization)\n",
    "operating_system.plotKernalResults(rr_results_all,\n",
    "                       title=\"RR Test Results Timeline (Enhanced Extension)\")\n"
   ]
  },
  {
   "cell_type": "markdown",
   "metadata": {},
   "source": [
    "<br>\n",
    "\n",
    "#### Fairness:\n",
    "  As mentioned earlier RR can be unfair to I/O bound process because they\n",
    "  might not use the full time of the quantum and then can be waiting for I/O\n",
    "  as more and more processes arrive in the ready queue increasing the time\n",
    "  for it to be worked on when it needs CPU work done again.\n",
    "\n",
    "   This will be demonstrated below with a single I/O bound process and the\n",
    "   rest CPU bound:"
   ]
  },
  {
   "cell_type": "code",
   "execution_count": 29,
   "metadata": {
    "pycharm": {
     "name": "#%%\n"
    }
   },
   "outputs": [],
   "source": [
    "# making the unfair RR processes\n",
    "unfair_rr_procs = [Process(1, [2, 35, 2], 1, 300),\n",
    "                       Process(2, [5, 1, 6], 1, 24),\n",
    "                       Process(3, [8, 3, 9], 5, 290),\n",
    "                       Process(4, [7, 1, 6], 2, 423),\n",
    "                       Process(5, [5, 3, 7], 4, 331),\n",
    "                       Process(6, [9, 3, 9], 2, 389)]\n",
    "\n",
    "# Run the kernel with RR and unfair processes with a quantum of 10\n",
    "operating_system.kernal(scheduler.RR_scheduler, processes=unfair_rr_procs,\n",
    "                            quantum=10, file_proc_name=\"unfair\", debug=False)"
   ]
  },
  {
   "cell_type": "code",
   "execution_count": 30,
   "metadata": {
    "collapsed": false,
    "pycharm": {
     "name": "#%%\n"
    }
   },
   "outputs": [
    {
     "data": {
      "image/png": "[encoded data removed]",
      "text/plain": [
       "<Figure size 1296x504 with 2 Axes>"
      ]
     },
     "metadata": {
      "needs_background": "light"
     },
     "output_type": "display_data"
    }
   ],
   "source": [
    "# Importing the CPU results from RR unfair\n",
    "rr_unfair_results = pd.read_csv(\"data/Combined_Data/\" +\n",
    "                                    \"All_RR_Q10_unfair_results.csv\")\n",
    "\n",
    "# plotting the results\n",
    "operating_system.plotKernalResults(rr_unfair_results,\n",
    "                                       title=\"RR 10 Unfair Results Timeline\",\n",
    "                                       figsize=(18, 7))"
   ]
  },
  {
   "cell_type": "markdown",
   "metadata": {},
   "source": [
    "As we can see process 1 is I/O bound with an extremely long waiting time for\n",
    "I/O input and short CPU bursts. This means that even though it arrives first\n",
    "and is the first process to be run it does not use the entire time of the\n",
    "quantum (in this simulation 10 clock ticks) before it is but into the waiting\n",
    " for I/O queue then as more and more processes that are CPU bound arrive the\n",
    " wait time between each process being run for a quantum increases by n*q time\n",
    " (where n is the number of processes in the ready queue and q is the length\n",
    " of a quantum in the RR algorithm). Also, as you can see from the graph above\n",
    " once a process is done waiting for I/O input it must wait for all other\n",
    " processes in the ready queue to have their quantum burst time before the\n",
    " process thant is done waiting for I/O input is ran. Here also the quantum is\n",
    "  longer than any of the CPU burst times for any of the processes in the\n",
    "  simulation so the RR algorithm is basically acting as a FCFS algorithm\n",
    "\n",
    "\n",
    "Below I will show what happens when the quantum is much shorter at a length\n",
    "of 2:"
   ]
  },
  {
   "cell_type": "code",
   "execution_count": 31,
   "metadata": {
    "collapsed": false,
    "pycharm": {
     "name": "#%%\n"
    }
   },
   "outputs": [],
   "source": [
    "unfair_rr_procs = [Process(1, [2, 35, 2], 1, 300),\n",
    "                       Process(2, [5, 1, 6], 1, 24),\n",
    "                       Process(3, [8, 3, 9], 5, 290),\n",
    "                       Process(4, [7, 1, 6], 2, 423),\n",
    "                       Process(5, [5, 3, 7], 4, 331),\n",
    "                       Process(6, [9, 3, 9], 2, 389)]\n",
    "# Run the kernel with RR and unfair processes with a quantum of 20 and then 2\n",
    "operating_system.kernal(scheduler.RR_scheduler, processes=unfair_rr_procs,\n",
    "                            quantum=5, file_proc_name=\"unfair\", debug=False)\n",
    "\n"
   ]
  },
  {
   "cell_type": "code",
   "execution_count": 32,
   "metadata": {
    "collapsed": false,
    "pycharm": {
     "name": "#%%\n"
    }
   },
   "outputs": [
    {
     "data": {
      "image/png": "[encoded data removed]",
      "text/plain": [
       "<Figure size 1296x504 with 2 Axes>"
      ]
     },
     "metadata": {
      "needs_background": "light"
     },
     "output_type": "display_data"
    }
   ],
   "source": [
    "# Importing the CPU results from RR unfair\n",
    "rr_unfair_results_2 = pd.read_csv(\"data/Combined_Data/\" +\n",
    "                                    \"All_RR_Q2_unfair_results.csv\")\n",
    "\n",
    "\n",
    "# plotting the results\n",
    "operating_system.plotKernalResults(rr_unfair_results_2,\n",
    "                                       title=\"RR 2 Unfair Results Timeline\",\n",
    "                                       figsize=(18, 7))\n"
   ]
  },
  {
   "cell_type": "markdown",
   "metadata": {},
   "source": [
    "When the quantum is much shorter with a length of 2 we can see there is a lot\n",
    " more context switching going on which in this case does decrease\n",
    " throughput with the throughput going from 0.0896 to 0.08 procs/sec. However,\n",
    " the advantage of a shorter quantum with much more context switching as seen\n",
    " above is that it can be much fairer to I/O bound processes because as\n",
    " mentioned earlier the waiting time for a process to be run after it has\n",
    " returned to the ready queue is n*q so since q, the length of the quantum\n",
    " haas decreased so does the wait time.\n",
    "\n",
    "<br>\n",
    "\n",
    "---\n",
    "## Shortest Time Remaining (SRT):\n",
    "\n",
    " The Shortest Time Remaining algorithm associates each process with the\n",
    "    length of its next CPU burst and then uses these lengths to so schedule\n",
    "    the process with the shortest remaining time left, this is why it can\n",
    "    also be though of as a preemptive SJF algorithm. The advantages of the\n",
    "    SRT algorithm is that it is considered optimal meaning that it gives the\n",
    "    minimum average wait time for a given set of processes. It also will give priority to I/O-bound jobs,\n",
    "    which keeps the disks/network as busy as possible. However, because it\n",
    "    gives priority to I/O bound processes that means SJF can be unfair to CPU\n",
    "     bound processes. Another difficulty of implementing SRT is that the next\n",
    "      CPU burst time for a process must be known for this algorithm.\n",
    "\n",
    "\n",
    "\n",
    "   #### Testing:\n"
   ]
  },
  {
   "cell_type": "code",
   "execution_count": 33,
   "metadata": {
    "pycharm": {
     "name": "#%%\n"
    }
   },
   "outputs": [
    {
     "name": "stdout",
     "output_type": "stream",
     "text": [
      "Warning no processes were passed!! Making test Processes\n",
      "Process ID: 1 , Start Time: 0 , End Time: 1\n",
      "Process ID: 3 , Start Time: 1 , End Time: 3\n",
      "Process ID: 2 , Start Time: 3 , End Time: 7\n",
      "Process ID: 3 , Start Time: 7 , End Time: 11\n",
      "Process ID: 2 , Start Time: 11 , End Time: 14\n",
      "Process ID: 4 , Start Time: 14 , End Time: 19\n",
      "Process ID: 1 , Start Time: 19 , End Time: 28\n",
      "Process ID: 4 , Start Time: 28 , End Time: 35\n",
      "Process ID: 1 , Start Time: 35 , End Time: 42\n"
     ]
    },
    {
     "data": {
      "image/png": "[encoded data removed]",
      "text/plain": [
       "<Figure size 1296x504 with 2 Axes>"
      ]
     },
     "metadata": {
      "needs_background": "light"
     },
     "output_type": "display_data"
    }
   ],
   "source": [
    "# Run the kernel with SRT and base test processes\n",
    "operating_system.kernal(scheduler.SRT_scheduler,file_proc_name=\"test\")\n",
    "\n",
    "# Importing the results from SRT test\n",
    "srt_results_all = pd.read_csv(\"data/Combined_Data/All_SRT_test_results.csv\")\n",
    "\n",
    "# Plotting the Results Enchanced\n",
    "operating_system.plotKernalResults(srt_results_all,\n",
    "                                   \"SRT Test Results Timeline\")\n"
   ]
  },
  {
   "cell_type": "markdown",
   "metadata": {
    "collapsed": false
   },
   "source": [
    "<br>\n",
    "\n",
    "#### Fairness:\n",
    "  As mentioned earlier SRT can be unfair to CPU bound process because by\n",
    "  their definition they have much longer CPU burst times meaning that they\n",
    "  will always be scheduled to run after shorter I/O bound processes. This can\n",
    "   cause the CPU bound process to wait a very long time as more I/O bound\n",
    "   processes arrive\n",
    "\n",
    "   This will be demonstrated below with a single CPU bound process and the\n",
    "   rest I/0 bound:"
   ]
  },
  {
   "cell_type": "code",
   "execution_count": 34,
   "metadata": {
    "collapsed": false,
    "pycharm": {
     "name": "#%%\n"
    }
   },
   "outputs": [],
   "source": [
    "# making the unfair SRT processes\n",
    "unfair_srt_procs = [Process(1, [6, 3, 5], 1, 300),\n",
    "                       Process(2, [2, 5, 3], 3, 24),\n",
    "                       Process(3, [1, 3, 1], 5, 290),\n",
    "                       Process(4, [1, 4, 2], 8, 423),\n",
    "                       Process(5, [3, 3, 1], 4, 331),\n",
    "                       Process(6, [2, 3, 1], 2, 389)]\n",
    "\n",
    "# Run the kernel with SRT and unfair processes\n",
    "operating_system.kernal(scheduler.SRT_scheduler, processes=unfair_srt_procs,\n",
    "                            file_proc_name=\"unfair\", debug=False)"
   ]
  },
  {
   "cell_type": "code",
   "execution_count": 35,
   "metadata": {
    "collapsed": false,
    "pycharm": {
     "name": "#%%\n"
    }
   },
   "outputs": [
    {
     "data": {
      "image/png": "[encoded data removed]",
      "text/plain": [
       "<Figure size 1296x504 with 2 Axes>"
      ]
     },
     "metadata": {
      "needs_background": "light"
     },
     "output_type": "display_data"
    }
   ],
   "source": [
    "# Importing the CPU results from SRT unfair\n",
    "srt_unfair_results = pd.read_csv(\"data/Combined_Data/\" +\n",
    "                                    \"All_SRT_unfair_results.csv\")\n",
    "\n",
    "# plotting the results\n",
    "operating_system.plotKernalResults(srt_unfair_results,\n",
    "                                       title=\"SRT Unfair Results Timeline\")"
   ]
  },
  {
   "cell_type": "markdown",
   "metadata": {},
   "source": [
    "As we can see process 1 is CPU bound while the rest of the processes are I/O\n",
    "bound. Even though process 1 is the first process to be scheduled and worked\n",
    "on because it has such a long CPU burst time once all the I/O bound processes\n",
    " arrive process 1 is suspended until all the I/O bound processes have run,\n",
    " and then it continues to be run. This gives process 1 a much longer wait\n",
    " time than all the other I/O bound processes showing how SRT can be unfair to\n",
    "  CPU bound processes.\n",
    "\n",
    "<br>\n",
    "\n",
    "---\n",
    "## Preemptive Priority (PP):\n",
    "\n",
    "The Preemptive Priority algorithm schedules jobs to be executed based on\n",
    "their externally defined priority level. The Preemptive Priority algorithm\n",
    "is basically a Priority scheduling algorithm expect it will not wait for a\n",
    "lower priority process to finish running if another process with a higher\n",
    "priority arrives to the ready queue. This means it can still face\n",
    "problems like  being unfair with it being unfair to\n",
    "processes with low priority (when it is an externally defined priority like for\n",
    "this algorithm). This algorithm can also face starvation. One wau to prevent\n",
    "this unfairness and starvation a bit is to age the processes in the ready\n",
    "queue, where their priority increases the longer they stay in the ready queue.\n",
    "One advantage of Preemptive Priority scheduling is that it can have very low\n",
    "over head\n",
    "\n",
    "\n",
    "\n",
    "   #### Testing:\n"
   ]
  },
  {
   "cell_type": "code",
   "execution_count": 36,
   "metadata": {
    "pycharm": {
     "name": "#%%\n"
    }
   },
   "outputs": [
    {
     "name": "stdout",
     "output_type": "stream",
     "text": [
      "Warning no processes were passed!! Making test Processes\n",
      "Process ID: 1 , Start Time: 0 , End Time: 1\n",
      "Process ID: 3 , Start Time: 1 , End Time: 3\n",
      "Process ID: 2 , Start Time: 3 , End Time: 6\n",
      "Process ID: 3 , Start Time: 6 , End Time: 10\n",
      "Process ID: 2 , Start Time: 10 , End Time: 11\n",
      "Process ID: 1 , Start Time: 11 , End Time: 14\n",
      "Process ID: 2 , Start Time: 14 , End Time: 17\n",
      "Process ID: 1 , Start Time: 17 , End Time: 23\n",
      "Process ID: 4 , Start Time: 23 , End Time: 28\n",
      "Process ID: 1 , Start Time: 28 , End Time: 35\n",
      "Process ID: 4 , Start Time: 35 , End Time: 42\n"
     ]
    },
    {
     "data": {
      "image/png": "[encoded data removed]",
      "text/plain": [
       "<Figure size 1296x504 with 2 Axes>"
      ]
     },
     "metadata": {
      "needs_background": "light"
     },
     "output_type": "display_data"
    }
   ],
   "source": [
    "# Run the kernel with RR and base test processes\n",
    "operating_system.kernal(scheduler.Preemptive_Priority_scheduler\n",
    "                        ,file_proc_name=\"test\")\n",
    "\n",
    "\n",
    "# Importing the results from RR test\n",
    "pp_results_all = pd.read_csv\\\n",
    "    (\"data/Combined_Data/All_Preemptive_Priority_test_results.csv\")\n",
    "\n",
    "# Plotting the Results Enchanced\n",
    "operating_system.plotKernalResults(pp_results_all,\n",
    "                                   \"PP Test Results Timeline\")"
   ]
  },
  {
   "cell_type": "markdown",
   "metadata": {
    "collapsed": false,
    "pycharm": {
     "name": "#%% md\n"
    }
   },
   "source": [
    "<br>\n",
    "\n",
    "#### Fairness:\n",
    "\n",
    "As mentioned earlier preemptive priority scheduling can be very unfair to\n",
    "processes with low priority (Especially in this case where the priorities for\n",
    " each process are assigned externally). This can lead to processes with low\n",
    " priority levels having very long wait times and even at times starvation\n",
    " could occur.\n",
    "\n",
    "   This will be demonstrated below:"
   ]
  },
  {
   "cell_type": "code",
   "execution_count": 37,
   "metadata": {
    "collapsed": false,
    "pycharm": {
     "name": "#%%\n"
    }
   },
   "outputs": [],
   "source": [
    "# making the unfair PP processes\n",
    "unfair_pp_procs = [Process(1, [4, 3, 4], 1, 34),\n",
    "                       Process(2, [2, 5, 3], 3, 424),\n",
    "                       Process(3, [5, 3, 4], 5, 290),\n",
    "                       Process(4, [6, 4, 3], 8, 123),\n",
    "                       Process(5, [3, 3, 6], 4, 531),\n",
    "                       Process(6, [5, 3, 2], 2, 389)]\n",
    "\n",
    "# Run the kernel with PP and unfair processes\n",
    "operating_system.kernal(scheduler.Preemptive_Priority_scheduler, processes=unfair_pp_procs,\n",
    "                            file_proc_name=\"unfair\", debug=False)"
   ]
  },
  {
   "cell_type": "code",
   "execution_count": 38,
   "metadata": {
    "collapsed": false,
    "pycharm": {
     "name": "#%%\n"
    }
   },
   "outputs": [
    {
     "data": {
      "image/png": "[encoded data removed]",
      "text/plain": [
       "<Figure size 1296x504 with 2 Axes>"
      ]
     },
     "metadata": {
      "needs_background": "light"
     },
     "output_type": "display_data"
    }
   ],
   "source": [
    "# Importing the CPU results from PP unfair\n",
    "pp_unfair_results = pd.read_csv(\"data/Combined_Data/\" +\n",
    "                                    \"All_Preemptive_Priority_unfair_results.csv\")\n",
    "\n",
    "# plotting the results\n",
    "operating_system.plotKernalResults(pp_unfair_results,\n",
    "                                       title=\"Preemptive Priority Unfair \"\n",
    "                                             \"Results Timeline\")\n"
   ]
  },
  {
   "cell_type": "markdown",
   "metadata": {},
   "source": [
    "As we can see even though process 1 is scheduled and worked on first it then\n",
    "has to wait a very long time until all the other processes with priorities\n",
    "higher than it have finished running (or are waiting for I/O input such as\n",
    "with process 4) unit it can continue running. This cause low priority\n",
    "processes, such as process 1, to have such long wait times making preemptive\n",
    "priority scheduling unfair to them.\n",
    "\n",
    "<br>\n",
    "\n",
    "---\n",
    "## Multilevel Feedback Queue (MLFQ) (Extension):\n",
    "\n",
    "   The Multilevel Feedback Queue algorithm is defined by its number of\n",
    "    queues, the scheduling algorithm for each queue (can be preemptive or\n",
    "    not), methods used to upgrade and demote a process and methods to choose\n",
    "    which queue a process will enter, and priorities are given for each queue\n",
    "    .  For my implementation of a MLFQ it consists of 3 queses with the first\n",
    "    2 highest priorities use the round-robin scheduling algorithm with\n",
    "    quantum defined by the user (usually best to make the first, the highest\n",
    "    priority RR queue quantum shorter than the second RR queue's quantum) and\n",
    "     then the finial and lowest priority queue uses a non-preemptive first\n",
    "     come first served algorithm meaning that any process that arrives in this\n",
    "      queue will run until it is complete. A process is transferred from one\n",
    "      queue to another lower priority queue if the process' current CPU burst\n",
    "       time is not complete within the quantum of that RR queue, once it is\n",
    "       in the FCFS queue it stays there. (In the graphs below the priority\n",
    "       level / color is associated with the queue tha the process is in)\n",
    "\n",
    "\n",
    "\n",
    "   #### Testing with a 2q, 7q, FCFS MLFQ:\n",
    "   (Here I used a 2,7 MLFQ so it processes get to all queues)\n"
   ]
  },
  {
   "cell_type": "code",
   "execution_count": 39,
   "metadata": {
    "pycharm": {
     "name": "#%%\n"
    }
   },
   "outputs": [
    {
     "name": "stdout",
     "output_type": "stream",
     "text": [
      "Warning no processes were passed!! Making test Processes\n",
      "Process ID: 1 , Start Time: 0 , End Time: 2\n",
      "Process ID: 3 , Start Time: 2 , End Time: 4\n",
      "Process ID: 2 , Start Time: 4 , End Time: 6\n",
      "Process ID: 1 , Start Time: 6 , End Time: 13\n",
      "Process ID: 4 , Start Time: 13 , End Time: 15\n",
      "Process ID: 3 , Start Time: 15 , End Time: 17\n",
      "Process ID: 2 , Start Time: 17 , End Time: 19\n",
      "Process ID: 4 , Start Time: 19 , End Time: 22\n",
      "Process ID: 3 , Start Time: 22 , End Time: 24\n",
      "Process ID: 2 , Start Time: 24 , End Time: 27\n",
      "Process ID: 4 , Start Time: 27 , End Time: 34\n",
      "Process ID: 1 , Start Time: 34 , End Time: 35\n",
      "Process ID: 1 , Start Time: 35 , End Time: 42\n"
     ]
    },
    {
     "data": {
      "image/png": "[encoded data removed]",
      "text/plain": [
       "<Figure size 1296x504 with 2 Axes>"
      ]
     },
     "metadata": {
      "needs_background": "light"
     },
     "output_type": "display_data"
    }
   ],
   "source": [
    "# Run the kernel with RR and base test processes\n",
    "operating_system.kernal(scheduler.MLFQ_scheduler,file_proc_name=\"test\")\n",
    "\n",
    "# Importing the results from RR test\n",
    "mlfq_results_all = pd.read_csv(\"data/Combined_Data/All_MLFQ_test_results.csv\")\n",
    "\n",
    "# Plotting the Results Enhanced\n",
    "operating_system.plotKernalResults(mlfq_results_all,\n",
    "                                   \"MLFQ Test Results Timeline\")\n"
   ]
  },
  {
   "cell_type": "markdown",
   "metadata": {
    "collapsed": false,
    "pycharm": {
     "name": "#%% md\n"
    }
   },
   "source": [
    "<br>\n",
    "\n",
    "---\n",
    "## Preemptive Response (Extension):\n",
    "\n",
    "The Preemptive Response algorithm is a scheduling algorithm\n",
    "        I came up with that is designed to maximize response time for an\n",
    "        algorithm. It is basically a round robin / FCFS mix algorithm,\n",
    "        however a process that is running is preempted if another processes arrives in the ready\n",
    "        queue that has not been ran yet\n",
    "\n",
    "\n",
    "   #### Testing:"
   ]
  },
  {
   "cell_type": "code",
   "execution_count": 40,
   "metadata": {
    "collapsed": false,
    "pycharm": {
     "name": "#%%\n"
    }
   },
   "outputs": [
    {
     "name": "stdout",
     "output_type": "stream",
     "text": [
      "Warning no processes were passed!! Making test Processes\n",
      "Process ID: 1 , Start Time: 0 , End Time: 1\n",
      "Process ID: 3 , Start Time: 1 , End Time: 2\n",
      "Process ID: 1 , Start Time: 2 , End Time: 3\n",
      "Process ID: 2 , Start Time: 3 , End Time: 4\n",
      "Process ID: 3 , Start Time: 4 , End Time: 5\n",
      "Process ID: 2 , Start Time: 5 , End Time: 6\n",
      "Process ID: 1 , Start Time: 6 , End Time: 7\n",
      "Process ID: 4 , Start Time: 7 , End Time: 8\n",
      "Process ID: 4 , Start Time: 8 , End Time: 9\n",
      "Process ID: 3 , Start Time: 9 , End Time: 13\n",
      "Process ID: 2 , Start Time: 13 , End Time: 15\n",
      "Process ID: 4 , Start Time: 15 , End Time: 16\n",
      "Process ID: 1 , Start Time: 16 , End Time: 23\n",
      "Process ID: 2 , Start Time: 23 , End Time: 26\n",
      "Process ID: 4 , Start Time: 26 , End Time: 28\n",
      "Process ID: 1 , Start Time: 28 , End Time: 35\n",
      "Process ID: 4 , Start Time: 35 , End Time: 42\n"
     ]
    },
    {
     "data": {
      "image/png": "[encoded data removed]",
      "text/plain": [
       "<Figure size 1296x504 with 2 Axes>"
      ]
     },
     "metadata": {
      "needs_background": "light"
     },
     "output_type": "display_data"
    }
   ],
   "source": [
    "# Run the kernel with RR and base test processes\n",
    "operating_system.kernal(scheduler.Preemptive_Response_scheduler,\n",
    "                        file_proc_name=\"test\")\n",
    "# Importing the results from RR test\n",
    "pr_results_all = pd.read_csv(\"data/Combined_Data/All_Preemptive_Response_test_results.csv\")\n",
    "\n",
    "# Plotting the Results Enhanced\n",
    "operating_system.plotKernalResults(pr_results_all,\n",
    "                                   \"Preemptive Response Test Results Timeline\")\n"
   ]
  },
  {
   "cell_type": "markdown",
   "metadata": {
    "collapsed": false,
    "pycharm": {
     "name": "#%% md\n"
    }
   },
   "source": [
    "From plotting the results we can see that this algorithm is basically FCFS\n",
    "except when there is a new processes in the ready queue the current process\n",
    "temporarily stops working while the new process is run for a clock tick until\n",
    " the other process that was originally running is run again.\n",
    "\n",
    "<br>\n",
    "\n",
    "---\n",
    "## Simulations:\n",
    "\n",
    "Now I will run simulations with a 50/50 split of CPU and I/O bound processes\n",
    "to compare the general statistics such as the average turnaround time,\n",
    "response time, wait time, and throughput of the following 4 scheduling\n",
    "algorithms:\n",
    "\n",
    "    - Round Robin with quantum of 2\n",
    "    - Round Robin with quantum of 10\n",
    "    - Shortest Remaining Time\n",
    "    - Multilevel Feedback Queue (RR2 => RR 10 => FCFS)\n",
    "    - Preemptive Response (My Extension)\n",
    "\n",
    "\n",
    "Below I will run these simulations:\n",
    "\n",
    "##### Setting up Process:"
   ]
  },
  {
   "cell_type": "code",
   "execution_count": 41,
   "metadata": {
    "collapsed": false,
    "pycharm": {
     "name": "#%%\n"
    }
   },
   "outputs": [],
   "source": [
    "sim_procs1 = operating_system.generate_processes(n =1000,seed=1)\n",
    "sim_procs2 = copy.deepcopy(sim_procs1)\n",
    "sim_procs3 = copy.deepcopy(sim_procs1)\n",
    "sim_procs4 = copy.deepcopy(sim_procs1)\n",
    "sim_procs5 = copy.deepcopy(sim_procs1)"
   ]
  },
  {
   "cell_type": "markdown",
   "metadata": {
    "collapsed": false,
    "pycharm": {
     "name": "#%% md\n"
    }
   },
   "source": [
    "#### Round Robin with quantum of 2:"
   ]
  },
  {
   "cell_type": "code",
   "execution_count": 42,
   "metadata": {
    "collapsed": false,
    "pycharm": {
     "name": "#%%\n"
    }
   },
   "outputs": [
    {
     "name": "stdout",
     "output_type": "stream",
     "text": [
      "Average Round Robin Q2 Sim Stats:\n",
      "-------\n",
      "Wait Time 1264.19\n",
      "Turn-Around Time 1252.33\n",
      "Response Time 97.09\n",
      "CPU Time 11.87\n",
      "I/O Time 6.06\n",
      "Throughput 0.0843 proc/sec\n",
      "\n"
     ]
    }
   ],
   "source": [
    "# Run the kernel with RR2 and processes\n",
    "operating_system.kernal(scheduler.RR_scheduler,quantum=2, processes=sim_procs1,\n",
    "                            file_proc_name=\"sim\", debug=False)\n",
    "\n",
    "# Importing the CPU results from RR2\n",
    "rr_q2_sim_results = pd.read_csv(\"data/Combined_Data/\" +\n",
    "                                    \"All_RR_Q2_sim_results.csv\")\n",
    "\n",
    "# printing the results\n",
    "operating_system.printKernalResultStats(rr_q2_sim_results, title = \"Round Robin Q2 Sim\")"
   ]
  },
  {
   "cell_type": "markdown",
   "metadata": {
    "collapsed": false
   },
   "source": [
    "#### Round Robin with quantum of 10:"
   ]
  },
  {
   "cell_type": "code",
   "execution_count": 43,
   "metadata": {
    "collapsed": false,
    "pycharm": {
     "name": "#%%\n"
    }
   },
   "outputs": [
    {
     "name": "stdout",
     "output_type": "stream",
     "text": [
      "Average Round Robin Q10 Sim Stats:\n",
      "-------\n",
      "Wait Time 1538.09\n",
      "Turn-Around Time 1526.22\n",
      "Response Time 341.96\n",
      "CPU Time 11.87\n",
      "I/O Time 6.06\n",
      "Throughput 0.0843 proc/sec\n",
      "\n"
     ]
    }
   ],
   "source": [
    "# Run the kernel with RR10 and processes\n",
    "operating_system.kernal(scheduler.RR_scheduler,quantum=10, processes=sim_procs2,\n",
    "                            file_proc_name=\"sim\", debug=False)\n",
    "\n",
    "# Importing the CPU results from RR10\n",
    "rr_q10_sim_results = pd.read_csv(\"data/Combined_Data/\" +\n",
    "                                    \"All_RR_Q10_sim_results.csv\")\n",
    "\n",
    "# printing the results\n",
    "operating_system.printKernalResultStats(rr_q10_sim_results, title = \"Round Robin Q10 Sim\")\n",
    "\n"
   ]
  },
  {
   "cell_type": "markdown",
   "metadata": {
    "collapsed": false
   },
   "source": [
    "#### Shortest Remaining Time:"
   ]
  },
  {
   "cell_type": "code",
   "execution_count": 44,
   "metadata": {
    "collapsed": false,
    "pycharm": {
     "name": "#%%\n"
    }
   },
   "outputs": [
    {
     "name": "stdout",
     "output_type": "stream",
     "text": [
      "Average SRT Sim Stats:\n",
      "-------\n",
      "Wait Time 677.89\n",
      "Turn-Around Time 666.03\n",
      "Response Time 323.89\n",
      "CPU Time 11.87\n",
      "I/O Time 6.06\n",
      "Throughput 0.0843 proc/sec\n",
      "\n"
     ]
    }
   ],
   "source": [
    "# Run the kernel with SRT and processes\n",
    "operating_system.kernal(scheduler.SRT_scheduler, processes=sim_procs3,\n",
    "                            file_proc_name=\"sim\", debug=False)\n",
    "\n",
    "# Importing the CPU results from SRT\n",
    "srt_sim_results = pd.read_csv(\"data/Combined_Data/\" +\n",
    "                                    \"All_SRT_sim_results.csv\")\n",
    "\n",
    "# printing the results\n",
    "operating_system.printKernalResultStats(srt_sim_results, title = \"SRT Sim\")\n"
   ]
  },
  {
   "cell_type": "markdown",
   "metadata": {
    "collapsed": false
   },
   "source": [
    "#### Multilevel Feedback Queue (RR2 => RR 10 => FCFS):"
   ]
  },
  {
   "cell_type": "code",
   "execution_count": 45,
   "metadata": {
    "collapsed": false,
    "pycharm": {
     "name": "#%%\n"
    }
   },
   "outputs": [
    {
     "name": "stdout",
     "output_type": "stream",
     "text": [
      "Average MLFQ_2_10 Sim Stats:\n",
      "-------\n",
      "Wait Time 2204.58\n",
      "Turn-Around Time 2192.72\n",
      "Response Time 3.13\n",
      "CPU Time 11.87\n",
      "I/O Time 6.06\n",
      "Throughput 0.0843 proc/sec\n",
      "\n"
     ]
    }
   ],
   "source": [
    "# Run the kernel with MLFQ and processes\n",
    "operating_system.kernal(scheduler.MLFQ_scheduler, processes=sim_procs4,\n",
    "                        quantum= 2, quantum2= 10,\n",
    "                            file_proc_name=\"2_10_sim\", debug=False)\n",
    "\n",
    "# Importing the CPU results from MLFQ\n",
    "mlfq_sim_results = pd.read_csv(\"data/Combined_Data/\" +\n",
    "                                    \"All_MLFQ_2_10_sim_results.csv\")\n",
    "\n",
    "# printing the results\n",
    "operating_system.printKernalResultStats(mlfq_sim_results, title = \"MLFQ_2_10 Sim\")"
   ]
  },
  {
   "cell_type": "markdown",
   "metadata": {
    "collapsed": false,
    "pycharm": {
     "name": "#%% md\n"
    }
   },
   "source": [
    "#### Preemptive Response (My Extension):"
   ]
  },
  {
   "cell_type": "code",
   "execution_count": 46,
   "metadata": {
    "collapsed": false,
    "pycharm": {
     "name": "#%%\n"
    }
   },
   "outputs": [
    {
     "name": "stdout",
     "output_type": "stream",
     "text": [
      "Average Preemptive Response Sim Stats:\n",
      "-------\n",
      "Wait Time 1282.84\n",
      "Turn-Around Time 1270.98\n",
      "Response Time -0.92\n",
      "CPU Time 11.87\n",
      "I/O Time 6.06\n",
      "Throughput 0.0843 proc/sec\n",
      "\n"
     ]
    }
   ],
   "source": [
    "# Run the kernel with PR and processes\n",
    "operating_system.kernal(scheduler.Preemptive_Response_scheduler, processes=sim_procs5,\n",
    "                            file_proc_name=\"sim\", debug=False)\n",
    "\n",
    "# Importing the CPU results from PR\n",
    "pr_sim_results = pd.read_csv(\"data/Combined_Data/\" +\n",
    "                                    \"All_Preemptive_Response_sim_results.csv\")\n",
    "\n",
    "# printing the results\n",
    "operating_system.printKernalResultStats(pr_sim_results, title = \"Preemptive\"\n",
    "                                                                  \" Response Sim\")\n"
   ]
  },
  {
   "cell_type": "markdown",
   "metadata": {
    "pycharm": {
     "name": "#%% md\n"
    }
   },
   "source": [
    "#### Simulation observations:\n",
    "\n",
    "From running the four different scheduling algorithms with the same processes\n",
    " I can make a few observations from the results. To start off with it is\n",
    " interesting that throughput is basically the same for all 4 scheduling\n",
    " algorithms with the throughput being the same for all 4 of them. I am\n",
    " thinking this is either dues to it being a single cpu working on all the\n",
    " processes, and it never faces starvation/idle time during scheduling any of\n",
    " these processes so the CPU is always working on a process thus they all are\n",
    " done completing at the same time. (This goes against what I would have\n",
    " thought but also it kind of makes sense because the first 3 scheduling\n",
    " algorithms are basically the 3 queue algorithms for the MLFQ, expect the\n",
    " final queue is FCFS and not SJF). The next observation I made was that the\n",
    " round-robin algorithm with a quantum of 2 had a much shorter response time\n",
    " than the round-robin algorithm with a quantum of 10, which makes sense\n",
    " because the RR with a quantum of 2 is context switching much more often so it\n",
    "  has a shorter time to work on a process that ahs just arrived to the ready\n",
    "  queue (in fact is has a higher response time then the SRT algorithm as\n",
    "  well). I also notice when comparing RR 2 with RR 10, round-robin with a\n",
    "  quantum of 2 also has less of an average wait time and turnaround time\n",
    "  which also make sense when it is considered that a majority of the\n",
    "  processes have a current CPU burst time of 10 or less, because I/O bound\n",
    "  processes range from 1-3 CPU burst times by default and CPU bound process\n",
    "  range from 8-12 CPU burst time by default. This means that a RR algorithm\n",
    "  with a quantum of 10 is basically acting as a FCFS algorithm for a majority\n",
    "  of the processes.\n",
    "\n",
    "Also, from the simulations it is confirmed that overall the Shortest Remaining\n",
    "Time scheduling algorithm is in fact the most optimal algorithm in the sense\n",
    " that it results in the minimum average waiting time for any given set of\n",
    " processes.\n",
    "\n",
    "Finally, when looking at the results for the Multilevel Feedback Queue (RR2\n",
    "=> RR 10 => FCFS) I see that it preforms the worst in sense of average turn\n",
    "around and wait time however it has by far the best average response time out\n",
    " of the algorithms. The best average response time makes sense because the\n",
    " queue with the highest priority is the RR 2 queue which as I mentioned\n",
    " earlier has a very fast response time when compared to RR10 and SRT. This\n",
    " means that it always has priority to run and if a process CPU burst is not\n",
    " finished in a quantum of 2  it is moved to the next lower priority queue\n",
    " meaning that there is also not as many processes in the RR2 queue resulting\n",
    " in it being able to respond to new processes quicker because as I have been\n",
    " mentioning wait time for a process in a round-robin queue is calculated by\n",
    " n*q. It also makes sense why it would have a longer average wait times and\n",
    " turn around times because as more and more processes are being pushed to the\n",
    "  lower priority queses they have to wait for all the processes in the higher\n",
    "   priority queses to be run compounding on their wait time and thus\n",
    "   turnaround time.\n",
    "\n",
    "\n",
    "##### Extension Sim analysis:\n",
    "  When looking at my custom Preemptive response time algorithm I have indeed\n",
    "   created a preemptive algorithm with an extremely short average response time.\n",
    "    It also has an average wait time and turnaround time similar to that of\n",
    "    RR with a quantum of 2 which makes me very pleased with the algorithim I\n",
    "    came up with.\n",
    "\n",
    "\n",
    "\n",
    "\n",
    "<br>\n",
    "\n",
    "---\n",
    "\n",
    "## References and Acnowlagements\n",
    "\n",
    "On this project I received help and knowledge from :\n",
    "   - [Prof. Al Madi](https://www.cs.colby.edu/nsalmadi/)\n",
    "   - [Matplotlib event plot documentation](https://matplotlib.org/3.1.1/api/_as_gen/matplotlib.pyplot.eventplot.html)\n",
    "   - [General Matplotlib Docs](https://matplotlib.org/)\n",
    "   - [Project Details](https://github.com/mattjax16/CS337-Operating-Systems/blob/master/Projects/Proj2/Project%202_%20Preemptive%20CPU%20Scheduling.pdf)\n",
    "   - [Stanford Scheduling Powerpoint](https://www.scs.stanford.edu/07au-cs140/notes/l5.pdf)\n",
    "   -[Stanford Scheduling Notes](https://web.stanford.edu/~ouster/cgi-bin/cs140-spring14/lecture.php?topic=scheduling)\n",
    "\n",
    "   - [Guru 99](https://www.guru99.com/cpu-scheduling-algorithms.html)\n",
    "\n",
    "\n",
    "\n"
   ]
  }
 ],
 "metadata": {
  "kernelspec": {
   "display_name": "Python 3 (ipykernel)",
   "language": "python",
   "name": "python3"
  },
  "language_info": {
   "codemirror_mode": {
    "name": "ipython",
    "version": 3
   },
   "file_extension": ".py",
   "mimetype": "text/x-python",
   "name": "python",
   "nbconvert_exporter": "python",
   "pygments_lexer": "ipython3",
   "version": "3.8.12"
  }
 },
 "nbformat": 4,
 "nbformat_minor": 1
}
