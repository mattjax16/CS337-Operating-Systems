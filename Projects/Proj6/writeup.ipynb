{
 "cells": [
  {
   "cell_type": "markdown",
   "source": [
    "# CS337 - OPERATING SYSTEMS- Project 6 Software Synchronization\n",
    "#### By: Matthew Bass\n",
    "\n",
    "\n",
    "**Project Overview:**\n",
    "\n",
    "\n",
    "\n",
    "\n",
    "### PREREQUISITES:\n",
    "    Python 3\n",
    "    Jupyter\n",
    "    Matplotlib\n",
    "    Pandas\n",
    "    Numpy\n",
    "\tlinecache\n",
    "    autopep8\n",
    "\n",
    "\n",
    "<br>\n",
    "\n",
    "-----\n"
   ],
   "metadata": {
    "collapsed": false,
    "pycharm": {
     "name": "#%% md\n"
    }
   }
  },
  {
   "cell_type": "markdown",
   "metadata": {
    "collapsed": true,
    "pycharm": {
     "name": "#%% md\n"
    }
   },
   "source": [
    "#### Resources:\n",
    "- [Petersons Solution Wiki](https://en.wikipedia.org/wiki/Peterson%27s_algorithm#Filter_algorithm:_Peterson's_algorithm_for_more_than_two_processes)"
   ]
  }
 ],
 "metadata": {
  "kernelspec": {
   "display_name": "Python 3",
   "language": "python",
   "name": "python3"
  },
  "language_info": {
   "codemirror_mode": {
    "name": "ipython",
    "version": 2
   },
   "file_extension": ".py",
   "mimetype": "text/x-python",
   "name": "python",
   "nbconvert_exporter": "python",
   "pygments_lexer": "ipython2",
   "version": "2.7.6"
  }
 },
 "nbformat": 4,
 "nbformat_minor": 0
}