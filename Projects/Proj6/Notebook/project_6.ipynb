{
 "cells": [
  {
   "cell_type": "markdown",
   "metadata": {},
   "source": [
    "# CS337 - OPERATING SYSTEMS- Project 6 Software Synchronization\n",
    "#### By: Matthew Bass\n",
    "\n",
    "\n",
    "### Table of Contents\n",
    "\n",
    "* [Overview](#over)\n",
    "* [Setup](#set)\n",
    "* [No Synchronization](#nosync)\n",
    "* [Solution 1](#sol1)\n",
    "* [Solution 2](#sol2)\n",
    "* [Peterson's Solution](#solpet)\n",
    "* [Bakery Solution](#solbak)\n",
    "* [Filter Solution](#solfil)\n",
    "* [Conclusion](#con)\n",
    "\n",
    "\n",
    "\n",
    "**Project Overview:** <a class=\"anchor\" id=\"over\"></a>\n",
    "\n",
    "In the project_6 file you I start by implementing a simple version of the\n",
    "race condition, so I can test my synchronization solutions. In this file\n",
    " I will create well-designed simulations to test mutual exclusion, progress,\n",
    " bounded wait-time, and N-threads when possible.\n",
    "\n",
    "The tests for each solution:\n",
    "\n",
    "\n",
    "<img src=\"https://github.com/mattjax16/CS337-Operating-Systems/blob/a29dd26601582a003bf82dbeddc28f243c050b79/Projects/Proj6/pics/test_reqs.png\" width=\"100%\" height=\"100%\">\n",
    "\n",
    "\n",
    "To test the synchronization solutions the race conditions will be a global\n",
    "counter that all the threads are incrementing. If the counter is the correct\n",
    "number after all the threads are done working then we no the race condition\n",
    "has been solved\n",
    "\n",
    "A **race condition** is, a situation in which multiple threads or processes\n",
    "read and write a shared data item and the final result depends on the\n",
    "relative timing of their execution. So this is what we are going to be trying\n",
    " to prevent.\n",
    "\n",
    "\n",
    "### PREREQUISITES:\n",
    "    Python 3\n",
    "    Jupyter\n",
    "    jupyter_contrib_nbextensions\n",
    "    Numpy\n",
    "    threading\n",
    "    datclasses\n",
    "    autopep8\n",
    "\n",
    "\n",
    "<br>\n",
    "\n",
    "-----\n",
    "\n",
    "### Setup: <a class=\"anchor\" id=\"set\"></a>\n",
    "\n",
    "To start I am using this code to make all my code blocks hide-able, thanks to\n",
    "[stackoverflow](https://stackoverflow.com/questions/27934885/how-to-hide-code-from-cells-in-ipython-notebook-visualized-with-nbviewer).\n",
    "\n"
   ]
  },
  {
   "cell_type": "code",
   "execution_count": 1,
   "metadata": {},
   "outputs": [
    {
     "data": {
      "text/plain": "<IPython.core.display.HTML object>",
      "text/html": "<script>\n    function luc21893_refresh_cell(cell) {\n        if( cell.luc21893 ) return;\n        cell.luc21893 = true;\n        console.debug('New code cell found...' );\n\n        var div = document.createElement('DIV');\n        cell.parentNode.insertBefore( div, cell.nextSibling );\n        div.style.textAlign = 'right';\n        var a = document.createElement('A');\n        div.appendChild(a);\n        a.href='#'\n        a.luc21893 = cell;\n        a.setAttribute( 'onclick', \"luc21893_toggle(this); return false;\" );\n\n        cell.style.visibility='hidden';\n        cell.style.position='absolute';\n        a.innerHTML = '[show code]';\n\n    }\n    function luc21893_refresh() {\n        if( document.querySelector('.code_cell .input') == null ) {\n            // it apeears that I am in a exported html\n            // hide this code\n            var codeCells = document.querySelectorAll('.jp-InputArea')\n            codeCells[0].style.visibility = 'hidden';\n            codeCells[0].style.position = 'absolute';\n            for( var i = 1; i < codeCells.length; i++ ) {\n                luc21893_refresh_cell(codeCells[i].parentNode)\n            }\n            window.onload = luc21893_refresh;\n        }\n        else {\n            // it apperas that I am in a jupyter editor\n            var codeCells = document.querySelectorAll('.code_cell .input')\n            for( var i = 0; i < codeCells.length; i++ ) {\n                luc21893_refresh_cell(codeCells[i])\n            }\n            window.setTimeout( luc21893_refresh, 1000 )\n        }\n    }\n\n    function luc21893_toggle(a) {\n        if( a.luc21893.style.visibility=='hidden' ) {\n            a.luc21893.style.visibility='visible';\n            a.luc21893.style.position='';\n            a.innerHTML = '[hide code]';\n        }\n        else {\n            a.luc21893.style.visibility='hidden';\n            a.luc21893.style.position='absolute';\n            a.innerHTML = '[show code]';\n        }\n    }\n\n    luc21893_refresh()\n</script>\n\n"
     },
     "metadata": {},
     "output_type": "display_data"
    }
   ],
   "source": [
    "%%HTML\n",
    "<script>\n",
    "    function luc21893_refresh_cell(cell) {\n",
    "        if( cell.luc21893 ) return;\n",
    "        cell.luc21893 = true;\n",
    "        console.debug('New code cell found...' );\n",
    "\n",
    "        var div = document.createElement('DIV');\n",
    "        cell.parentNode.insertBefore( div, cell.nextSibling );\n",
    "        div.style.textAlign = 'right';\n",
    "        var a = document.createElement('A');\n",
    "        div.appendChild(a);\n",
    "        a.href='#'\n",
    "        a.luc21893 = cell;\n",
    "        a.setAttribute( 'onclick', \"luc21893_toggle(this); return false;\" );\n",
    "\n",
    "        cell.style.visibility='hidden';\n",
    "        cell.style.position='absolute';\n",
    "        a.innerHTML = '[show code]';\n",
    "\n",
    "    }\n",
    "    function luc21893_refresh() {\n",
    "        if( document.querySelector('.code_cell .input') == null ) {\n",
    "            // it apeears that I am in a exported html\n",
    "            // hide this code\n",
    "            var codeCells = document.querySelectorAll('.jp-InputArea')\n",
    "            codeCells[0].style.visibility = 'hidden';\n",
    "            codeCells[0].style.position = 'absolute';\n",
    "            for( var i = 1; i < codeCells.length; i++ ) {\n",
    "                luc21893_refresh_cell(codeCells[i].parentNode)\n",
    "            }\n",
    "            window.onload = luc21893_refresh;\n",
    "        }\n",
    "        else {\n",
    "            // it apperas that I am in a jupyter editor\n",
    "            var codeCells = document.querySelectorAll('.code_cell .input')\n",
    "            for( var i = 0; i < codeCells.length; i++ ) {\n",
    "                luc21893_refresh_cell(codeCells[i])\n",
    "            }\n",
    "            window.setTimeout( luc21893_refresh, 1000 )\n",
    "        }\n",
    "    }\n",
    "\n",
    "    function luc21893_toggle(a) {\n",
    "        if( a.luc21893.style.visibility=='hidden' ) {\n",
    "            a.luc21893.style.visibility='visible';\n",
    "            a.luc21893.style.position='';\n",
    "            a.innerHTML = '[hide code]';\n",
    "        }\n",
    "        else {\n",
    "            a.luc21893.style.visibility='hidden';\n",
    "            a.luc21893.style.position='absolute';\n",
    "            a.innerHTML = '[show code]';\n",
    "        }\n",
    "    }\n",
    "\n",
    "    luc21893_refresh()\n",
    "</script>"
   ]
  },
  {
   "cell_type": "markdown",
   "metadata": {
    "pycharm": {
     "name": "#%% md\n"
    }
   },
   "source": [
    "#### Imports:"
   ]
  },
  {
   "cell_type": "code",
   "execution_count": 2,
   "metadata": {
    "pycharm": {
     "name": "#%%\n"
    }
   },
   "outputs": [],
   "source": [
    "import threading\n",
    "import time\n",
    "import numpy as np\n",
    "from dataclasses import field, dataclass\n",
    "from abc import ABC, abstractmethod\n"
   ]
  },
  {
   "cell_type": "markdown",
   "metadata": {
    "pycharm": {
     "name": "#%% md\n"
    }
   },
   "source": [
    "#### Base Solution Class:\n",
    "Now I am going to create an abstract class that will be used to make all the synchronization\n",
    "solutions."
   ]
  },
  {
   "cell_type": "code",
   "execution_count": 3,
   "metadata": {
    "pycharm": {
     "name": "#%%\n"
    }
   },
   "outputs": [],
   "source": [
    "# Abstract class for all the solutions\n",
    "class SyncSolution(ABC):\n",
    "\n",
    "    def __init__(self) -> None:\n",
    "        # Name of the solution (lock)\n",
    "        self.name = None\n",
    "\n",
    "        # Number of threads\n",
    "        self.thread_count = None\n",
    "\n",
    "        return\n",
    "\n",
    "    @abstractmethod\n",
    "    def lock(self) -> None:\n",
    "        '''\n",
    "        This method will be used to lock the solution.\n",
    "        '''\n",
    "\n",
    "        pass\n",
    "\n",
    "    @abstractmethod\n",
    "    def unlock(self) -> None:\n",
    "        '''\n",
    "        This method will be used to unlock the solution.\n",
    "        '''\n",
    "        pass"
   ]
  },
  {
   "cell_type": "markdown",
   "metadata": {
    "pycharm": {
     "name": "#%% md\n"
    }
   },
   "source": [
    "#### Base Testing:\n",
    "To test the different solutions I am going to write the single main function that will increment the\n",
    "global counter x INC_AMTS times. It will run the function over the\n",
    "NUM_THREADS specified and will use the solution specified. Also, it will run\n",
    "tests for mutual exclusion, progress, bounded wait-time, and N-threads when specified.\n",
    "\n",
    "\n",
    "##### Starting Global Counter Variable:"
   ]
  },
  {
   "cell_type": "code",
   "execution_count": 4,
   "metadata": {
    "pycharm": {
     "name": "#%%\n"
    }
   },
   "outputs": [],
   "source": [
    "# Setting global var x to 0\n",
    "x = 0\n",
    "\n"
   ]
  },
  {
   "cell_type": "markdown",
   "metadata": {
    "pycharm": {
     "name": "#%% md\n"
    }
   },
   "source": [
    "##### Increment Function:"
   ]
  },
  {
   "cell_type": "code",
   "execution_count": 5,
   "metadata": {
    "pycharm": {
     "name": "#%%\n"
    }
   },
   "outputs": [],
   "source": [
    "def increment():\n",
    "    '''\n",
    "    This function will be used to increment the global variable x\n",
    "    Returns:\n",
    "    '''\n",
    "    # Get the global counter x\n",
    "    global x\n",
    "\n",
    "    # Increment the global counter x\n",
    "    x += 1\n"
   ]
  },
  {
   "cell_type": "markdown",
   "metadata": {},
   "source": [
    "<br>\n",
    "\n",
    "##### Testing Functions:\n",
    "Now I will write the three different helper functions for `thread_task` that\n",
    "will be used to test the different aspects of a good synchronization solution.\n",
    "Those being, mutual exclusion, progress, bounded wait-time. (We will also\n",
    "test some solutions to see if they work with N-threads but this is just done\n",
    "by changing the `thread_count` variable).\n",
    "\n",
    "<br>\n",
    "\n",
    "###### Mutual Exclusion:\n",
    "Mutual exclusion is the ability to ensure that only one thread is executing a\n",
    " given critical section of code at a time. In more formal terms from our\n",
    " notes it is \"The requirement that when one process is in a critical section\n",
    " that accesses shared resources, no other process may be in a critical\n",
    " section that accesses any of those shared resources\". In the context of this\n",
    "  testing the critical section is the `increment` function. because to\n",
    "  increment the thread must first read the value of the global variable x and\n",
    "   then add 1 to it so it is possible for another thread to increment the\n",
    "   counter x while the first thread is incrementing it. This can lead to inconsistent\n",
    "    and unexpected results. If a synchronization solution is not able to\n",
    "     ensure mutual exclusion then it is not really a solution at all.\n",
    "\n",
    "To validate if a count is correct (and there for mutual exclusive, as long as\n",
    " the count is great enough) I wrote `check_result` below:"
   ]
  },
  {
   "cell_type": "code",
   "execution_count": 6,
   "metadata": {
    "pycharm": {
     "name": "#%%\n"
    }
   },
   "outputs": [],
   "source": [
    "def check_result(result: int, inc_amts: list) -> bool:\n",
    "    '''\n",
    "    This function will check the result of the the x output for the main_tasks\n",
    "\n",
    "    Args:\n",
    "        result (int): The result of the x output from the main_task\n",
    "        inc_amts (list): The list of increments that were done per thread\n",
    "\n",
    "    Returns:\n",
    "        bool: True if the result is correct, False otherwise\n",
    "    '''\n",
    "    if result == sum(inc_amts):\n",
    "        return True\n",
    "    else:\n",
    "        return False"
   ]
  },
  {
   "cell_type": "markdown",
   "metadata": {
    "pycharm": {
     "name": "#%% md\n"
    }
   },
   "source": [
    "<br>\n",
    "\n",
    "Then the helper function `thread_task` to check `me` is written below:"
   ]
  },
  {
   "cell_type": "code",
   "execution_count": 7,
   "metadata": {
    "pycharm": {
     "name": "#%%\n"
    }
   },
   "outputs": [],
   "source": [
    "def thread_task_me(lock: SyncSolution, thread_id: int, inc_amt: int, debug:\n",
    "bool = False) -> None:\n",
    "    '''\n",
    "    This function will be used to test for mutual exclusion.\n",
    "\n",
    "    Args:\n",
    "        lock (SyncSolution): The solution to test\n",
    "        thread_id (int): The id of the thread\n",
    "        inc_amt (int): The amount of times to increment the global counter x\n",
    "        debug (bool): If True, will print the results of the test\n",
    "\n",
    "    Returns:\n",
    "        None\n",
    "    '''\n",
    "    # Lock the solution\n",
    "    lock.lock(thread_id,debug)\n",
    "\n",
    "    # Increment the global counter x\n",
    "    for i in range(inc_amt):\n",
    "\n",
    "#         # Forcing a context switch\n",
    "#         time.sleep(0.0000000001)\n",
    "\n",
    "        increment()\n",
    "\n",
    "    # if debug:\n",
    "    #     print(f\"Thread {thread_id} is unlocking\")\n",
    "\n",
    "    # Unlock the solution\n",
    "    lock.unlock(thread_id,debug)\n",
    "    #\n",
    "    # if debug:\n",
    "    #     print(f'Thread {thread_id} is done')\n",
    "\n",
    "    return\n"
   ]
  },
  {
   "cell_type": "markdown",
   "metadata": {},
   "source": [
    "<br>\n",
    "\n",
    "###### Progress:\n",
    "Progress means that only threads that need the shared resource should participate in the\n",
    "decision to access it.  If no process is executing in its critical section\n",
    "and some processes wish to enter their critical sections, then only those\n",
    "processes that are not executing in their remainder section can participate\n",
    "in deciding which will enter its critical section next, and this selection\n",
    "cannot be postponed  indefinitely. Basically no dead-lock or live-lock can\n",
    "occur.\n",
    "\n",
    "*dead-lock:* A situation in which two or more processes are unable to proceed\n",
    " because each is waiting for one of the others to do something.\n",
    "\n",
    "*live-lock:* A situation in which two or more processes continuously change their state in response to changes in the other process(es) without doing any useful work.\n",
    "\n",
    "Below is the code I wrote to test for progress it locks and unlocks within\n",
    "the loop to cause more thread switches and cause the threads to have to be\n",
    "locked and unlocked multiple times. It also then has extra work at the end of\n",
    " each thread to have them working on data that is independent of the other."
   ]
  },
  {
   "cell_type": "code",
   "execution_count": 8,
   "metadata": {
    "pycharm": {
     "name": "#%%\n"
    }
   },
   "outputs": [],
   "source": [
    "def thread_task_prog(lock: SyncSolution, thread_id: int, inc_amt: int,\n",
    "                     lock_in_loop: bool = True,debug:\n",
    "bool = False) -> None:\n",
    "    '''\n",
    "    This function will be used to test for progress.\n",
    "\n",
    "    Args:\n",
    "        lock (SyncSolution): The solution to test\n",
    "        thread_id (int): The id of the thread\n",
    "        inc_amt (int): The amount of times to increment the global counter x\n",
    "        lock_in_loop (bool): If True, will lock and unlock in the loop\n",
    "        debug (bool): If True, will print the results of the test\n",
    "\n",
    "    Returns:\n",
    "        None\n",
    "    '''\n",
    "\n",
    "    if lock_in_loop:\n",
    "        # Increment the global counter x\n",
    "        for i in range(inc_amt):\n",
    "            # Lock the solution\n",
    "            lock.lock(thread_id,debug)\n",
    "\n",
    "            increment()\n",
    "\n",
    "            # Unlock the solution\n",
    "            lock.unlock(thread_id,debug)\n",
    "    else:\n",
    "        # Lock the solution\n",
    "        lock.lock(thread_id,debug)\n",
    "\n",
    "        # Increment the global counter x\n",
    "        for i in range(inc_amt):\n",
    "            increment()\n",
    "\n",
    "        # Unlock the solution\n",
    "        lock.unlock(thread_id,debug)\n",
    "\n",
    "    prog_check = 0\n",
    "    for _ in range(inc_amt * 5):\n",
    "        prog_check += 1\n",
    "\n",
    "    # if debug:\n",
    "    #     print(f'Thread {thread_id} is done')\n",
    "\n",
    "    return"
   ]
  },
  {
   "cell_type": "markdown",
   "metadata": {
    "pycharm": {
     "name": "#%% md\n"
    }
   },
   "source": [
    "<br>\n",
    "\n",
    "###### Bounded Wait Time (BWT):\n",
    "Bounded wait time basically means that a ready thread should not wait forever.\n",
    "In more formal terms it means, there exists a bound, or limit, on the number\n",
    "of times other processes are allowed to enter their critical sections after a\n",
    " process has made request to enter its critical section and before that\n",
    " request is granted. The purpose of this condition is to make sure that every\n",
    "  process gets the chance to actually enter its critical section so that no\n",
    "  process starves forever. (Preventing starvation)\n",
    "\n",
    "\n",
    "*starvation:* A situation in which a runnable process is overlooked\n",
    "indefinitely by the scheduler; although it is able to proceed, it is never chosen.\n",
    "\n",
    "To test for BWT I used the same time as the progress test but instead of\n",
    "calling the normal `lock()` function I used the `lockSleep()` function which\n",
    "uses the function `time.sleep(0.001)` to force contex switched while the\n",
    "thread is locking.\n",
    "\n",
    "Here is the helper function `thread_task_bwt()` below:"
   ]
  },
  {
   "cell_type": "code",
   "execution_count": 9,
   "metadata": {
    "pycharm": {
     "name": "#%%\n"
    }
   },
   "outputs": [],
   "source": [
    "def thread_task_bwt(lock: SyncSolution, thread_id: int, inc_amt: int, lock_in_loop: bool = True, debug: bool = False) -> None:\n",
    "    '''\n",
    "    This function will be used to test for progress.\n",
    "\n",
    "    Args:\n",
    "        lock (SyncSolution): The solution to test\n",
    "        thread_id (int): The id of the thread\n",
    "        inc_amt (int): The amount of times to increment the global counter x\n",
    "        lock_in_loop (bool): If True, will lock and unlock in the loop\n",
    "        debug (bool): If True, will print the results of the test\n",
    "\n",
    "    Returns:\n",
    "        None\n",
    "    '''\n",
    "    if lock_in_loop:\n",
    "        # Increment the global counter x\n",
    "        for i in range(inc_amt):\n",
    "            # Lock the solution\n",
    "            lock.lock(thread_id,debug)\n",
    "\n",
    "            increment()\n",
    "\n",
    "            # Unlock the solution\n",
    "            lock.unlock(thread_id,debug)\n",
    "    else:\n",
    "\n",
    "        # Lock the solution\n",
    "        lock.lock(thread_id,debug)\n",
    "\n",
    "        # Increment the global counter x\n",
    "        for i in range(inc_amt):\n",
    "            increment()\n",
    "\n",
    "        # Unlock the solution\n",
    "        lock.unlock(thread_id,debug)\n",
    "\n",
    "\n",
    "    prog_check = 0\n",
    "    for _ in range(inc_amt * 10):\n",
    "        prog_check += 1\n",
    "\n",
    "    # if debug:\n",
    "    #     print(f'Thread {thread_id} is done')\n",
    "\n",
    "    return"
   ]
  },
  {
   "cell_type": "markdown",
   "metadata": {},
   "source": [
    "##### Thread Task Functions:\n",
    "Now I am going to make the main thread task function which will increment the\n",
    "global counter x, inc_amt times. It will run the function over the\n",
    "NUM_THREADS specified and will use the solution specified. Also, it will run\n",
    "tests for mutual exclusion, progress, bounded wait-time, and N-threads when specified."
   ]
  },
  {
   "cell_type": "code",
   "execution_count": 10,
   "metadata": {
    "pycharm": {
     "name": "#%%\n"
    }
   },
   "outputs": [],
   "source": [
    "def thread_task(lock: SyncSolution = None, thread_id: int = 0, inc_amt: int =\n",
    "100000, test:\n",
    "str = \"me\",\n",
    "                debug: bool = False):\n",
    "    '''\n",
    "    This is the thread task that will be used to test the software\n",
    "    synchronization solutions.\n",
    "\n",
    "    Args:\n",
    "        lock (SyncSolution): The lock that will be used to synchronize\n",
    "        thread_id (int): The number that will be used to synchronize (the thread number)\n",
    "        inc_amt (int): The amount that will be used to increment the global variable x\n",
    "        test (str): The test that we will be doing to determine what code to run\n",
    "        debug (bool): If the debug flag is set to True, then the debug\n",
    "    '''\n",
    "\n",
    "    # If the SyncSolution is not specified, then we will use the default\n",
    "    if lock is None:\n",
    "         # If there is no lock, then just increment the global x variable\n",
    "        for _ in range(inc_amt):\n",
    "            \n",
    "#             # Forcing a context switch\n",
    "#             time.sleep(0.0000000001)\n",
    "            \n",
    "            increment()\n",
    "\n",
    "        if debug:\n",
    "            print(f'Thread {thread_id} is done')\n",
    "        return\n",
    "\n",
    "    # If the test is me, then we will run the main_task\n",
    "    if test == \"me\":\n",
    "        thread_task_me(lock, thread_id, inc_amt, debug)\n",
    "\n",
    "    # If not mutual exclusion but is progress check do more thread switching\n",
    "    # (and locked and unlocking) for each increment so they have to rely on\n",
    "    # each other .\n",
    "    elif test == \"prog\":\n",
    "\n",
    "        # lock is in the increment loop or not depending if thread is even or\n",
    "        # odd\n",
    "        if thread_id %2 == 0:\n",
    "            thread_task_prog(lock, thread_id, inc_amt, True, debug)\n",
    "        else:\n",
    "            thread_task_prog(lock, thread_id, inc_amt,False,debug)\n",
    "\n",
    "    # If testing for bounded wait time use the lockSleep method which is the\n",
    "    # same as the lock method but induces contex switches by calling\n",
    "    # time.sleep(0.0001)\n",
    "    elif test == \"bwt\":\n",
    "\n",
    "        # lock is in the increment loop or not depending if thread is even or\n",
    "        # odd\n",
    "        if thread_id %2 == 0:\n",
    "            thread_task_bwt(lock, thread_id, inc_amt, True, debug)\n",
    "        else:\n",
    "            thread_task_bwt(lock, thread_id, inc_amt,False,debug)\n",
    "\n",
    "\n",
    "\n",
    "    return"
   ]
  },
  {
   "cell_type": "markdown",
   "metadata": {},
   "source": [
    "##### Simulation Functions:\n",
    "\n",
    "Now I am going to write the functions for the simulation\n",
    "\n",
    "To start I am going to write the `single_sim()` function which runs the thread\n",
    "count simulation once."
   ]
  },
  {
   "cell_type": "code",
   "execution_count": 11,
   "metadata": {
    "pycharm": {
     "name": "#%%\n"
    }
   },
   "outputs": [],
   "source": [
    "def single_sim(solution: SyncSolution = None,\n",
    "               inc_amt: int = 100000,\n",
    "               thread_count = 2 ,\n",
    "               thread_multiplier = None,\n",
    "               test: str = \"me\",\n",
    "               debug: bool = False) -> int:\n",
    "    '''\n",
    "    This is the single_simulation that will be used to test the\n",
    "    software synchronization solutions.\n",
    "\n",
    "    Args:\n",
    "        solution (SyncSolution): The lock that will be used to synchronize\n",
    "        inc_amt (int): The amount that will be used to increment the global variable x\n",
    "        thread_count (int): The number of threads that will be used\n",
    "        thread_multiplier (list): The multiplier of the increment amount for each thread\n",
    "        test (str): The test that we will be doing to determine what code to run\n",
    "        debug (bool): If the debug flag is set to True, then the debug\n",
    "\n",
    "    Returns:\n",
    "        int: The result of the x output from the main_task\n",
    "\n",
    "    '''\n",
    "\n",
    "    global x\n",
    "\n",
    "    # set x to 0\n",
    "    x = 0\n",
    "\n",
    "    # Check the thread_multiplier\n",
    "    if thread_multiplier is None:\n",
    "        thread_multiplier = [1] * thread_count\n",
    "    elif len(thread_multiplier) != thread_count:\n",
    "        raise ValueError(f\"The thread_multiplier must be the same length as the thread_count\")\n",
    "\n",
    "    inc_amts = [inc_amt * x for x in thread_multiplier]\n",
    "\n",
    "    # If the lock is not None then initilize it\n",
    "    if solution is not None:\n",
    "        lock = solution(thread_count = thread_count)\n",
    "    else:\n",
    "        lock = None\n",
    "\n",
    "    # Create threads\n",
    "    threads = []\n",
    "    for thread_num in range(1, thread_count + 1):\n",
    "        thread = threading.Thread(target=thread_task,\n",
    "                                  args=(\n",
    "                                  lock, thread_num, inc_amts[thread_num - 1], test, debug))\n",
    "\n",
    "        threads.append(thread)\n",
    "\n",
    "    # Start threads\n",
    "    for thread in threads:\n",
    "        thread.start()\n",
    "\n",
    "    # Wait for threads to finish\n",
    "    for thread in threads:\n",
    "        thread.join()\n",
    "\n",
    "    return x"
   ]
  },
  {
   "cell_type": "markdown",
   "metadata": {},
   "source": [
    "<br>\n",
    "\n",
    "Before I write the function to run the simulation multiple times I am going\n",
    "to write a helper function, `check_results()` to check the results of each\n",
    "simulation."
   ]
  },
  {
   "cell_type": "code",
   "execution_count": 12,
   "metadata": {
    "pycharm": {
     "name": "#%%\n"
    }
   },
   "outputs": [],
   "source": [
    "def check_results(results: list, inc_amts: list) -> bool:\n",
    "    '''\n",
    "    This function will check the results of the the x outputs for the main_tasks\n",
    "\n",
    "    Args:\n",
    "        results (list): The list of results from the main_tasks\n",
    "        inc_amts (list): The list of increment amounts used in the main_tasks\n",
    "\n",
    "    Returns:\n",
    "        bool: True if the results are correct, False otherwise\n",
    "    '''\n",
    "    for result in results:\n",
    "        if not check_result(result[\"x\"], inc_amts):\n",
    "            return False\n",
    "    return True\n"
   ]
  },
  {
   "cell_type": "markdown",
   "metadata": {},
   "source": [
    "<br>\n",
    "\n",
    "Now I am going to write the `main_simulations()` function which will run the\n",
    "simulation for the times specified, along with all the other arguments that\n",
    "there are for a single simulation."
   ]
  },
  {
   "cell_type": "code",
   "execution_count": 13,
   "metadata": {
    "pycharm": {
     "name": "#%%\n"
    }
   },
   "outputs": [],
   "source": [
    "def main_simulations(solution: SyncSolution = None,\n",
    "                     inc_amt: int = 100000,\n",
    "                     thread_count = 2 ,\n",
    "                     thread_multiplier = None,\n",
    "                     test: str = \"me\",\n",
    "                     debug: bool = False,\n",
    "                     times: int = 10) -> None:\n",
    "    \"\"\"\n",
    "    This is the main function that will be used to test the\n",
    "    software synchronization solutions.r\n",
    "\n",
    "    Args:\n",
    "        solution (SyncSolution): The lock that will be used to synchronize\n",
    "        times (int): The number of times that the simulation will be run\n",
    "        inc_amt (int): The amount that will be used to increment the global variable x\n",
    "        thread_count (int): The number of threads that will be used\n",
    "        thread_multiplier (list): The multiplier of the increment amount for each thread\n",
    "        test (str): The test that we will be doing to determine what code to run\n",
    "        debug (bool): If the debug flag is set to True, then the debug\n",
    "\n",
    "\n",
    "\n",
    "    Returns:\n",
    "        None:\n",
    "\n",
    "    \"\"\"\n",
    "\n",
    "    global x\n",
    "\n",
    "    # set x to 0\n",
    "    x = 0\n",
    "\n",
    "     # Check the thread_multiplier\n",
    "    if thread_multiplier is None:\n",
    "        thread_multiplier = [1] * thread_count\n",
    "    elif len(thread_multiplier) != thread_count:\n",
    "        raise ValueError(f\"The thread_multiplier must be the same length as the thread_count\")\n",
    "\n",
    "    inc_amts = [inc_amt * x for x in thread_multiplier]\n",
    "\n",
    "\n",
    "    # Run the simulation times\n",
    "    simulation_results = []\n",
    "    for i in range(times):\n",
    "        # Run the main task\n",
    "        single_sim(solution, inc_amt, thread_count, thread_multiplier, test, debug)\n",
    "\n",
    "\n",
    "\n",
    "        # Append the results to the list\n",
    "        simulation_results.append({'iteration': i, 'x': x})\n",
    "\n",
    "    # Check the results\n",
    "    if check_results(simulation_results, inc_amts):\n",
    "        print('\\nAll results are correct!')\n",
    "\n",
    "    # Else print the results that are incorrect\n",
    "    else:\n",
    "        print('\\nThe results are incorrect!')\n",
    "\n",
    "    # Print what the correct result should be\n",
    "    print(f\"The correct result should be {sum(inc_amts)}\")\n",
    "\n",
    "    # Print the results\n",
    "    print('\\nThe results are:')\n",
    "    for result in simulation_results:\n",
    "        print(f'Iteration {result[\"iteration\"]+1}: x = {result[\"x\"]}')\n",
    "\n",
    "    return"
   ]
  },
  {
   "cell_type": "markdown",
   "metadata": {
    "pycharm": {
     "name": "#%% md\n"
    }
   },
   "source": [
    "<br>\n",
    "\n",
    "### Testing Simulation With No Synchronization: <a class=\"race\" id=\"nosync\"></a>\n",
    "\n",
    "Now that all the base code is done time to test it all out by trying to run\n",
    "the simulation with no form of synchronization. A race condition should occur\n",
    " with the count not being correct (showing it isn't mutually exclusive at all)\n"
   ]
  },
  {
   "cell_type": "code",
   "execution_count": 14,
   "metadata": {
    "pycharm": {
     "name": "#%%\n"
    }
   },
   "outputs": [
    {
     "name": "stdout",
     "output_type": "stream",
     "text": [
      "\n",
      "The results are incorrect!\n",
      "The correct result should be 1000000\n",
      "\n",
      "The results are:\n",
      "Iteration 1: x = 1000000\n",
      "Iteration 2: x = 941968\n",
      "Iteration 3: x = 832163\n",
      "Iteration 4: x = 760753\n",
      "Iteration 5: x = 878194\n",
      "Iteration 6: x = 759887\n",
      "Iteration 7: x = 881763\n",
      "Iteration 8: x = 879752\n",
      "Iteration 9: x = 883514\n",
      "Iteration 10: x = 941562\n"
     ]
    }
   ],
   "source": [
    "main_simulations(inc_amt=500000)\n"
   ]
  },
  {
   "cell_type": "markdown",
   "metadata": {
    "pycharm": {
     "name": "#%% md\n"
    }
   },
   "source": [
    "From the results above we can see that the simulation is working and with no\n",
    "synchronization solution a race condition with the count being incorrect can\n",
    "occur.\n",
    "\n",
    "<br>\n",
    "\n",
    "### Solution 1: <a class=\"anchor\" id=\"sol1\"></a>\n",
    "\n",
    "This is the first solution to the project.\n",
    "\n",
    "I  will implement the first synchronization attempt from lecture slides\n",
    "(lecture 12) using a Python class that implements the following:\n",
    "\n",
    "- An `__init__` method that initializes a turn variable.\n",
    "\n",
    "- A lock method that takes a thread_id as an argument. The method should\n",
    "   behave according to the pseudocode in lecture slides.\n",
    "\n",
    "- An unlock method that takes a thread_id, and uses it to change the\n",
    "   value of turn according to the pseudocode in lecture slides.\n",
    "\n",
    "The main idea of this solution is that there is a single variable turn that\n",
    "is used to make sure the thread only enters the critical section when it is its turn.\n",
    "This ensures mutual exclusion but not progress and therefore neither bounded\n",
    "wait time as we will see later.\n",
    "\n",
    "**Here is the code for the solution class:**"
   ]
  },
  {
   "cell_type": "code",
   "execution_count": 15,
   "metadata": {
    "code_folding": [],
    "pycharm": {
     "name": "#%%\n"
    }
   },
   "outputs": [],
   "source": [
    "@dataclass\n",
    "class Solution1(SyncSolution):\n",
    "    '''\n",
    "    This is the first solution to the project.\n",
    "\n",
    "    Initialize the turn variable.\n",
    "\n",
    "        Args:\n",
    "            turn (int): The initial value of the turn variable.\n",
    "\n",
    "    '''\n",
    "    turn: int = field(default=1)\n",
    "    name: str = field(default='1')\n",
    "    thread_count: int = field(default=2)\n",
    "\n",
    "    def lock(self, thread_id : int, debug : bool = True) -> None:\n",
    "        '''\n",
    "        This method implements the first synchronization attempt from lecture slides\n",
    "        (lecture 12).\n",
    "\n",
    "        The method takes a thread_id as an argument. The method should behave\n",
    "        according to the pseudocode in lecture slides.\n",
    "\n",
    "        Args: thread_id (int): The thread_id of the thread that is trying to\n",
    "        acquire the lock.\n",
    "\n",
    "        Returns:\n",
    "            None\n",
    "        '''\n",
    "\n",
    "        # IF DEBUG PRINT THAT THE THREAD IS SPINNING\n",
    "        if debug:\n",
    "            print(f'\\nThread {thread_id} is spinning')\n",
    "        while self.turn != thread_id:\n",
    "            pass\n",
    "\n",
    "        if debug:\n",
    "            print(f'Thread {thread_id} acquired the lock.')\n",
    "            print(f'Turn is {self.turn}')\n",
    "\n",
    "    def unlock(self, thread_id : int, debug : bool = True) -> None:\n",
    "        '''\n",
    "        This method implements the first synchronization attempt from lecture slides\n",
    "        (lecture 12).\n",
    "\n",
    "        The method takes a thread_id as an argument. The method should behave\n",
    "        according to the pseudocode in lecture slides. All it does is change the\n",
    "        value of turn according to thread_id being unlocked.\n",
    "\n",
    "        Args:\n",
    "            thread_id (int): The thread_id of the thread that is trying to\n",
    "            release the lock of.\n",
    "            debug (bool): If True, print the value of turn after the unlock.\n",
    "        '''\n",
    "\n",
    "        # Change self.turn to the next thread_id (between 1 or 2)\n",
    "        if self.turn == 1:\n",
    "            self.turn = 2\n",
    "        else:\n",
    "            self.turn == 2\n",
    "            \n",
    "        if debug:\n",
    "            print(f\"Thread {thread_id} released the lock.\")"
   ]
  },
  {
   "cell_type": "markdown",
   "metadata": {
    "pycharm": {
     "name": "#%% md\n"
    }
   },
   "source": [
    "##### Solution 1 Mutual Exclusion Test:\n",
    "Now that we have the solution class we can test for mutual exclusion using\n",
    "the `main_simulations()` function."
   ]
  },
  {
   "cell_type": "code",
   "execution_count": 16,
   "metadata": {
    "pycharm": {
     "name": "#%%\n"
    }
   },
   "outputs": [
    {
     "name": "stdout",
     "output_type": "stream",
     "text": [
      "\n",
      "All results are correct!\n",
      "The correct result should be 1000000\n",
      "\n",
      "The results are:\n",
      "Iteration 1: x = 1000000\n",
      "Iteration 2: x = 1000000\n",
      "Iteration 3: x = 1000000\n",
      "Iteration 4: x = 1000000\n",
      "Iteration 5: x = 1000000\n",
      "Iteration 6: x = 1000000\n",
      "Iteration 7: x = 1000000\n",
      "Iteration 8: x = 1000000\n",
      "Iteration 9: x = 1000000\n",
      "Iteration 10: x = 1000000\n"
     ]
    }
   ],
   "source": [
    "main_simulations(inc_amt=500000, solution=Solution1)\n"
   ]
  },
  {
   "cell_type": "markdown",
   "metadata": {
    "pycharm": {
     "name": "#%% md\n"
    }
   },
   "source": [
    "From the results above we can see that solution 1 passes the mutual exclusion\n",
    "test since all the counts are correct.\n",
    "\n",
    "<br>\n",
    "\n",
    "##### Solution 1 Progress Test:\n",
    "\n",
    "Since we have confirmed mutual exclusion, we can now test for progress, for\n",
    "solution 1, using the `main_simulations()` function."
   ]
  },
  {
   "cell_type": "code",
   "execution_count": 17,
   "metadata": {
    "pycharm": {
     "name": "#%%\n"
    }
   },
   "outputs": [],
   "source": [
    "# main_simulations(inc_amt=10, solution=Solution1,  thread_multiplier=[1,4] ,\n",
    "#                  test='prog', debug=True)\n"
   ]
  },
  {
   "cell_type": "markdown",
   "metadata": {
    "pycharm": {
     "name": "#%% md\n"
    }
   },
   "source": [
    "From here we can see that this solution fails the progress test as the\n",
    "threads end up waiting indefinitely for each other causing the function to\n",
    "never finish. Since solution 1 failed the progress test, there is no need to\n",
    "test for bounded wait time.\n",
    "\n",
    "<br>\n",
    "\n",
    "### Solution 2: <a class=\"anchor\" id=\"sol2\"></a>\n",
    "\n",
    "This is the second solution to the project.\n",
    "\n",
    "I will implement the second synchronization attempt from lecture slides\n",
    "(lecture 13) using a Python class that implements the following:\n",
    "\n",
    "- An `__init__` method that initializes a flags list.\n",
    "\n",
    "- A lock method that takes a thread_id as an argument. The method should\n",
    "    behave according to the pseudocode in lecture slides.\n",
    "\n",
    "- An unlock method that takes a thread_id, and uses it to change the\n",
    "    value of flags according to the pseudocode in lecture slides.\n",
    "\n",
    "The main idea of this solution is that instead of using a single variable\n",
    "turn, a flags array is used which is initialized to all False. When a thread\n",
    "wants to work on the critical section a flag is raised, and it checks that the\n",
    " other thread has not raised its flag, meaning it is working on the critical\n",
    " section. If the other thread has its flag raised, the thread trying to lock\n",
    " will wait until the other thread has left the critical section which is\n",
    " signaled by its flag being set to false. (this is not an actual signal though\n",
    "  and is really a variable held by the lock)\n",
    "\n",
    "**Here is the code for the solution class:**"
   ]
  },
  {
   "cell_type": "code",
   "execution_count": 18,
   "metadata": {
    "pycharm": {
     "name": "#%%\n"
    }
   },
   "outputs": [],
   "source": [
    "@dataclass\n",
    "class Solution2(SyncSolution):\n",
    "    '''\n",
    "    This is the second solution to the project.\n",
    "    '''\n",
    "\n",
    "    flags: int = field(default_factory=lambda: [False] * 2)\n",
    "    name: str = field(default=\"2\")\n",
    "    thread_count: int = field(default=2)\n",
    "\n",
    "    def lock(self, thread_id: int, debug: bool = True) -> None:\n",
    "        '''\n",
    "        This method implements the second synchronization attempt from lecture slides\n",
    "        (lecture 13).\n",
    "\n",
    "        The method takes a thread_id as an argument. The method should behave\n",
    "        according to the pseudocode in lecture slides.\n",
    "\n",
    "        Args: thread_id (int): The thread_id of the thread that is trying to\n",
    "        acquire the lock.\n",
    "\n",
    "        Returns:\n",
    "            None\n",
    "        '''\n",
    "\n",
    "        # IF DEBUG PRINT THAT THE THREAD IS SPINNING\n",
    "        if debug:\n",
    "            print(f'\\nThread {thread_id} is spinning')\n",
    "\n",
    "        thread_idx = thread_id - 1\n",
    "        other_thread = thread_idx ^ 1\n",
    "\n",
    "        self.flags[thread_idx] = True\n",
    "        while self.flags[other_thread]:\n",
    "            pass\n",
    "\n",
    "        # IF DEBUG PRINT THAT THE THREAD HAS LOCKED\n",
    "        if debug:\n",
    "            print(f'Thread {thread_id} has locked')\n",
    "\n",
    "    def lockSleep(self, thread_id: int, debug: bool = True) -> None:\n",
    "        '''\n",
    "        This method is the same as lock but used to force a contex switch by having\n",
    "        time.sleep() in the lock method.\n",
    "\n",
    "\n",
    "        The method takes a thread_id as an argument. The method should behave\n",
    "        according to the pseudocode in lecture slides.\n",
    "\n",
    "        Args: thread_id (int): The thread_id of the thread that is trying to\n",
    "        acquire the lock.\n",
    "\n",
    "        Returns:\n",
    "            None\n",
    "        '''\n",
    "\n",
    "        # IF DEBUG PRINT THAT THE THREAD IS SPINNING\n",
    "        if debug:\n",
    "            print(f'\\nThread {thread_id} is spinning')\n",
    "\n",
    "        thread_idx = thread_id - 1\n",
    "        other_thread = thread_idx ^ 1\n",
    "\n",
    "        self.flags[thread_idx] = True\n",
    "\n",
    "        # FORCE A CONTEXT SWITCH\n",
    "        time.sleep(0.0001)\n",
    "\n",
    "        while self.flags[other_thread]:\n",
    "            pass\n",
    "        if debug:\n",
    "            print(f'Thread {thread_id} has locked')\n",
    "\n",
    "    def unlock(self, thread_id: int, debug: bool = True) -> None:\n",
    "        '''\n",
    "        This method implements the second synchronization attempt from lecture slides\n",
    "        (lecture 13).\n",
    "\n",
    "        The method takes a thread_id as an argument. The method should behave\n",
    "        according to the pseudocode in lecture slides. All it does is change the\n",
    "        value of turn according to thread_id being unlocked.\n",
    "\n",
    "        Args:\n",
    "            thread_id (int): The thread_id of the thread that is trying to\n",
    "            release the lock of.\n",
    "            debug (bool): If True, print the value of turn after the unlock.\n",
    "        '''\n",
    "        thread_idx = thread_id - 1\n",
    "        self.flags[thread_idx] = False\n",
    "\n",
    "        if debug:\n",
    "            print(f\"Thread {thread_id} released the lock.\")"
   ]
  },
  {
   "cell_type": "markdown",
   "metadata": {
    "pycharm": {
     "name": "#%% md\n"
    }
   },
   "source": [
    "##### Solution 2 Mutual Exclusion Test:\n",
    "Now that we have the solution class we can test for mutual exclusion using\n",
    "the `main_simulations()` function."
   ]
  },
  {
   "cell_type": "code",
   "execution_count": 19,
   "metadata": {
    "pycharm": {
     "name": "#%%\n"
    }
   },
   "outputs": [
    {
     "name": "stdout",
     "output_type": "stream",
     "text": [
      "\n",
      "All results are correct!\n",
      "The correct result should be 1000000\n",
      "\n",
      "The results are:\n",
      "Iteration 1: x = 1000000\n",
      "Iteration 2: x = 1000000\n",
      "Iteration 3: x = 1000000\n",
      "Iteration 4: x = 1000000\n",
      "Iteration 5: x = 1000000\n",
      "Iteration 6: x = 1000000\n",
      "Iteration 7: x = 1000000\n",
      "Iteration 8: x = 1000000\n",
      "Iteration 9: x = 1000000\n",
      "Iteration 10: x = 1000000\n"
     ]
    }
   ],
   "source": [
    "main_simulations(inc_amt=500000, solution=Solution2)\n"
   ]
  },
  {
   "cell_type": "markdown",
   "metadata": {},
   "source": [
    "From the results above we can see that solution 2 passes the mutual exclusion\n",
    "test since all the counts are correct.\n",
    "\n",
    "<br>\n",
    "\n",
    "##### Solution 2 Progress Test:\n",
    "\n",
    "Since we have confirmed mutual exclusion, we can now test for progress, for\n",
    "solution 2, using the `main_simulations()` function."
   ]
  },
  {
   "cell_type": "code",
   "execution_count": 20,
   "metadata": {
    "pycharm": {
     "name": "#%%\n"
    }
   },
   "outputs": [
    {
     "name": "stdout",
     "output_type": "stream",
     "text": [
      "\n",
      "All results are correct!\n",
      "The correct result should be 2500000\n",
      "\n",
      "The results are:\n",
      "Iteration 1: x = 2500000\n",
      "Iteration 2: x = 2500000\n",
      "Iteration 3: x = 2500000\n",
      "Iteration 4: x = 2500000\n",
      "Iteration 5: x = 2500000\n",
      "Iteration 6: x = 2500000\n",
      "Iteration 7: x = 2500000\n",
      "Iteration 8: x = 2500000\n",
      "Iteration 9: x = 2500000\n",
      "Iteration 10: x = 2500000\n"
     ]
    }
   ],
   "source": [
    "main_simulations(inc_amt=500000, solution=Solution2,  thread_multiplier=[1,4]\n",
    "                 ,test='prog')\n"
   ]
  },
  {
   "cell_type": "markdown",
   "metadata": {},
   "source": [
    "From here we can see that solution 2 passes the progress test since the\n",
    "simulation completed with correct results.\n",
    "\n",
    "<br>\n",
    "\n",
    "##### Solution 2 Bounded Wait Time Test:\n",
    "\n",
    "Since we have confirmed progress, we can now test for bounded wait time, for\n",
    "solution 2, using the `main_simulations()` function."
   ]
  },
  {
   "cell_type": "code",
   "execution_count": 21,
   "metadata": {
    "pycharm": {
     "name": "#%%\n"
    }
   },
   "outputs": [],
   "source": [
    "# main_simulations(inc_amt=10000, solution=Solution2,  thread_multiplier=[1,4] ,\n",
    "#                  test='bwt', debug=True)"
   ]
  },
  {
   "cell_type": "markdown",
   "metadata": {
    "pycharm": {
     "name": "#%% md\n"
    }
   },
   "source": [
    "From this test we can see that solution 2 fails the bounded wait time test as\n",
    "both threads are waiting for each other. forcing the entire function to stop\n",
    "and wait indefinitely.\n",
    "\n",
    "<br>\n",
    "\n",
    "### Peterson's Solution <a class=\"anchor\" id=\"solpet\"></a>\n",
    "\n",
    "This is the Peterson's solution to the project.(uses flags and turn)\n",
    "\n",
    "In this solution class I will implement Peterson’s\n",
    "synchronization solution from lecture slides (lecture 13) using a Python\n",
    "class that implements the following:\n",
    "\n",
    "        ● An __init__ method that initializes a flags list and a turn variable.\n",
    "\n",
    "        ● A lock method that takes a thread_id as an argument. The method\n",
    "        should behave according to the pseudocode in lecture slides.\n",
    "\n",
    "        ● An unlock method that takes a thread_id, and uses it to change the\n",
    "        value of flags according to the pseudocode in lecture slides.\n",
    "\n",
    "The algorithm uses two variables: `flag` and `turn`. A `flag[n]` value of\n",
    "true indicates that the process n wants to enter the critical section.\n",
    "Entrance to the critical section is granted for process P0 if P1 does not\n",
    "want to enter its critical section or if P1 has given priority to P0 by\n",
    "setting turn to 0.\n",
    "\n",
    "The algorithm satisfies the three essential criteria to solve the\n",
    "critical-section problem. The while condition works even with preemption. The\n",
    " three criteria are mutual exclusion, progress, and bounded waiting.\n",
    "\n",
    "\n",
    "Here is the solution class (It acts differently depending on the number of\n",
    "threads):"
   ]
  },
  {
   "cell_type": "code",
   "execution_count": 22,
   "metadata": {
    "pycharm": {
     "name": "#%%\n"
    }
   },
   "outputs": [],
   "source": [
    "class SolutionPeterson(SyncSolution):\n",
    "    '''\n",
    "    This is the Peterson's solution to the project.(uses flags and turn)\n",
    "    '''\n",
    "\n",
    "    def __init__(self, thread_count: int = 2) -> None:\n",
    "        '''\n",
    "        This method initializes the name turn and flags array\n",
    "\n",
    "        Args: thread_count (int): The number of threads that will be using the\n",
    "        Bakery Solution.\n",
    "\n",
    "        Returns:\n",
    "            None\n",
    "        '''\n",
    "        self.name = 'peterson'\n",
    "        self.turn = 0\n",
    "        self.flags = np.zeros(thread_count, dtype=bool)\n",
    "        self.thread_count = thread_count\n",
    "\n",
    "    def lock(self, thread_id: int, debug: bool = True) -> None:\n",
    "        '''\n",
    "        This method implements the Petersons synchronization attempt from lecture slides\n",
    "        (lecture 13).\n",
    "\n",
    "        The method takes a thread_id as an argument. The method should behave\n",
    "        according to the pseudocode in lecture slides.\n",
    "\n",
    "        Args: thread_id (int): The thread_id of the thread that is trying to\n",
    "        acquire the lock.\n",
    "\n",
    "        Returns:\n",
    "            None\n",
    "        '''\n",
    "\n",
    "        # IF DEBUG PRINT THAT THE THREAD IS SPINNING\n",
    "        if debug:\n",
    "            print(f'\\nThread {thread_id} is spinning')\n",
    "\n",
    "        if self.thread_count == 2:\n",
    "            # Get thread id and other thread id\n",
    "            thread_idx = thread_id - 1\n",
    "            other_thread = thread_idx ^ 1\n",
    "\n",
    "            # Set flag\n",
    "            self.flags[thread_idx] = True\n",
    "\n",
    "            # Set turn\n",
    "            self.turn = other_thread\n",
    "\n",
    "            # Wait for other thread to release lock\n",
    "            while self.flags[other_thread] and self.turn == other_thread:\n",
    "                pass\n",
    "\n",
    "        elif self.thread_count > 2:\n",
    "\n",
    "            # Get thread id and other thread id\n",
    "            thread_idx = thread_id - 1\n",
    "            other_thread_r = (thread_idx + 1) % self.thread_count\n",
    "            other_thread_l = (thread_idx + 1) % self.thread_count\n",
    "\n",
    "            # Set flag\n",
    "            self.flags[thread_idx] = True\n",
    "\n",
    "            # Set turn\n",
    "            self.turn = other_thread_r\n",
    "\n",
    "            # Wait for other thread to release lock\n",
    "            while self.flags[other_thread_r] and self.flags[other_thread_l] and \\\n",
    "                    self.turn == other_thread_r:\n",
    "                pass\n",
    "\n",
    "        if debug:\n",
    "            print(f'Thread {thread_id} has locked')\n",
    "\n",
    "    def lockSleep(self, thread_id: int, debug: bool = True) -> None:\n",
    "        '''\n",
    "        This method is the same as lock but used to force a contex switch by having\n",
    "        time.sleep() in the lock method.\n",
    "\n",
    "\n",
    "        The method takes a thread_id as an argument. The method should behave\n",
    "        according to the pseudocode in lecture slides.\n",
    "\n",
    "        Args: thread_id (int): The thread_id of the thread that is trying to\n",
    "        acquire the lock.\n",
    "\n",
    "        Returns:\n",
    "            None\n",
    "        '''\n",
    "\n",
    "        # IF DEBUG PRINT THAT THE THREAD IS SPINNING\n",
    "        if debug:\n",
    "            print(f'\\nThread {thread_id} is spinning')\n",
    "\n",
    "        if self.thread_count == 2:\n",
    "            # Get thread id and other thread id\n",
    "            thread_idx = thread_id - 1\n",
    "            other_thread = thread_idx ^ 1\n",
    "\n",
    "            # Set flag\n",
    "            self.flags[thread_idx] = True\n",
    "\n",
    "            # Forcing a context switch\n",
    "            time.sleep(0.0001)\n",
    "\n",
    "            # Set turn\n",
    "            self.turn = other_thread\n",
    "\n",
    "            # Forcing a context switch\n",
    "            time.sleep(0.0001)\n",
    "\n",
    "            # Wait for other thread to release lock\n",
    "            while self.flags[other_thread] and self.turn == other_thread:\n",
    "                pass\n",
    "\n",
    "        elif self.thread_count > 2:\n",
    "\n",
    "            # Get thread id and other thread id\n",
    "            thread_idx = thread_id - 1\n",
    "            other_thread_r = (thread_idx + 1) % self.thread_count\n",
    "            other_thread_l = (thread_idx + 1) % self.thread_count\n",
    "\n",
    "            # Set flag\n",
    "            self.flags[thread_idx] = True\n",
    "\n",
    "            # Forcing a context switch\n",
    "            time.sleep(0.0001)\n",
    "\n",
    "            # Set turn\n",
    "            self.turn = other_thread_r\n",
    "\n",
    "            # Forcing a context switch\n",
    "            time.sleep(0.0001)\n",
    "\n",
    "            # Wait for other thread to release lock\n",
    "            while self.flags[other_thread_r] and self.flags[\n",
    "                    other_thread_l] and self.turn == other_thread_r:\n",
    "                pass\n",
    "\n",
    "        if debug:\n",
    "            print(f'Thread {thread_id} has locked')\n",
    "\n",
    "    def unlock(self, thread_id: int, debug: bool = True) -> None:\n",
    "        '''\n",
    "        This method implements the Peterson's synchronization attempt from lecture slides\n",
    "        (lecture 13).\n",
    "\n",
    "        The method takes a thread_id as an argument. The method should behave\n",
    "        according to the pseudocode in lecture slides. All it does is change the\n",
    "        value of turn according to thread_id being unlocked.\n",
    "\n",
    "        Args:\n",
    "            thread_id (int): The thread_id of the thread that is trying to\n",
    "            release the lock of.\n",
    "            debug (bool): If True, print the value of turn after the unlock.\n",
    "        '''\n",
    "        thread_id -= 1\n",
    "        self.flags[thread_id] = False\n",
    "\n",
    "        if debug:\n",
    "            print(f\"Thread {thread_id+1} released the lock.\")\n"
   ]
  },
  {
   "cell_type": "markdown",
   "metadata": {},
   "source": [
    "##### Peterson's Solution Mutual Exclusion Test:\n",
    "Now that we have the solution class we can test for mutual exclusion using\n",
    "the `main_simulations()` function."
   ]
  },
  {
   "cell_type": "code",
   "execution_count": 23,
   "metadata": {
    "pycharm": {
     "name": "#%%\n"
    }
   },
   "outputs": [
    {
     "name": "stdout",
     "output_type": "stream",
     "text": [
      "\n",
      "All results are correct!\n",
      "The correct result should be 1000000\n",
      "\n",
      "The results are:\n",
      "Iteration 1: x = 1000000\n",
      "Iteration 2: x = 1000000\n",
      "Iteration 3: x = 1000000\n",
      "Iteration 4: x = 1000000\n",
      "Iteration 5: x = 1000000\n",
      "Iteration 6: x = 1000000\n",
      "Iteration 7: x = 1000000\n",
      "Iteration 8: x = 1000000\n",
      "Iteration 9: x = 1000000\n",
      "Iteration 10: x = 1000000\n"
     ]
    }
   ],
   "source": [
    "main_simulations(inc_amt=500000, solution=SolutionPeterson)\n"
   ]
  },
  {
   "cell_type": "markdown",
   "metadata": {},
   "source": [
    "From the results above we can see that peterson's solution passes the mutual\n",
    "exclusion\n",
    "test since all the counts are correct.\n",
    "\n",
    "<br>\n",
    "\n",
    "##### Peterson's Solution Progress Test:\n",
    "\n",
    "Since we have confirmed mutual exclusion, we can now test for progress, for\n",
    "peterson's solution, using the `main_simulations()` function."
   ]
  },
  {
   "cell_type": "code",
   "execution_count": 24,
   "metadata": {
    "pycharm": {
     "name": "#%%\n"
    }
   },
   "outputs": [
    {
     "name": "stdout",
     "output_type": "stream",
     "text": [
      "\n",
      "All results are correct!\n",
      "The correct result should be 2500000\n",
      "\n",
      "The results are:\n",
      "Iteration 1: x = 2500000\n",
      "Iteration 2: x = 2500000\n",
      "Iteration 3: x = 2500000\n",
      "Iteration 4: x = 2500000\n",
      "Iteration 5: x = 2500000\n",
      "Iteration 6: x = 2500000\n",
      "Iteration 7: x = 2500000\n",
      "Iteration 8: x = 2500000\n",
      "Iteration 9: x = 2500000\n",
      "Iteration 10: x = 2500000\n"
     ]
    }
   ],
   "source": [
    "main_simulations(inc_amt=500000, solution=SolutionPeterson,\n",
    "                 thread_multiplier=[1,4] ,\n",
    "                 test='prog')\n"
   ]
  },
  {
   "cell_type": "markdown",
   "metadata": {},
   "source": [
    "From here we can see that peterson's solutionpasses the progress test since the\n",
    "simulation completed with correct results.\n",
    "\n",
    "<br>\n",
    "\n",
    "##### Peterson's Solution Bounded Wait Time Test:\n",
    "\n",
    "Since we have confirmed progress, we can now test for bounded wait time, for\n",
    "peterson's solution, using the `main_simulations()` function."
   ]
  },
  {
   "cell_type": "code",
   "execution_count": 25,
   "metadata": {
    "pycharm": {
     "name": "#%%\n"
    }
   },
   "outputs": [
    {
     "name": "stdout",
     "output_type": "stream",
     "text": [
      "\n",
      "All results are correct!\n",
      "The correct result should be 2500000\n",
      "\n",
      "The results are:\n",
      "Iteration 1: x = 2500000\n",
      "Iteration 2: x = 2500000\n",
      "Iteration 3: x = 2500000\n",
      "Iteration 4: x = 2500000\n",
      "Iteration 5: x = 2500000\n",
      "Iteration 6: x = 2500000\n",
      "Iteration 7: x = 2500000\n",
      "Iteration 8: x = 2500000\n",
      "Iteration 9: x = 2500000\n",
      "Iteration 10: x = 2500000\n"
     ]
    }
   ],
   "source": [
    "main_simulations(inc_amt=500000, solution=SolutionPeterson,\n",
    "                 thread_multiplier=[1,4] ,\n",
    "                 test='bwt')"
   ]
  },
  {
   "cell_type": "markdown",
   "metadata": {},
   "source": [
    "\n",
    "From this test we can see that peterson's solution satisfies the bounded wait\n",
    " time test, since all the counts are correct with context switches happening\n",
    " during the locking function.\n",
    "\n",
    "<br>\n",
    "\n",
    "##### Peterson's Solution N-Threads Test:\n",
    "\n",
    "Since we have confirmed progress, we can now test for the use of n-theads (in\n",
    " this case 3 threads), for  peterson's solution, using the `main_simulations\n",
    " ()` function."
   ]
  },
  {
   "cell_type": "code",
   "execution_count": 26,
   "metadata": {
    "pycharm": {
     "name": "#%%\n"
    }
   },
   "outputs": [
    {
     "name": "stdout",
     "output_type": "stream",
     "text": [
      "\n",
      "The results are incorrect!\n",
      "The correct result should be 650000\n",
      "\n",
      "The results are:\n",
      "Iteration 1: x = 591342\n",
      "Iteration 2: x = 650000\n",
      "Iteration 3: x = 618946\n",
      "Iteration 4: x = 566736\n",
      "Iteration 5: x = 534625\n",
      "Iteration 6: x = 650000\n",
      "Iteration 7: x = 506184\n",
      "Iteration 8: x = 471058\n",
      "Iteration 9: x = 650000\n",
      "Iteration 10: x = 591335\n"
     ]
    }
   ],
   "source": [
    "main_simulations(inc_amt=50000, solution=SolutionPeterson,\n",
    "                 thread_multiplier=[1,4, 8] , test='me', thread_count=3)"
   ]
  },
  {
   "cell_type": "markdown",
   "metadata": {
    "pycharm": {
     "name": "#%% md\n"
    }
   },
   "source": [
    "From this test with 3 threads we can see that the peterson's solution does\n",
    "not work with n-threads (more than 2 threads). This is shown because the\n",
    "count is off for some iterations (meaning a race condition has occurred).\n",
    "This happens now because the code is running in parallel not concurrently.\n",
    "This then leads to a problem because the code to spin in the solution\n",
    "\n",
    "```{python}\n",
    "while self.flags[other_thread_r] and \\\n",
    "        self.flags[other_thread_l] and \\\n",
    "        self.turn == other_thread_r:\n",
    "            pass\n",
    "```\n",
    "\n",
    "Is not an atomic operation which is: *A function or action implemented as a\n",
    "sequence of one or more instructions that appears to be indivisible; that is,\n",
    " no other process can see an intermediate state or interrupt the operation.\n",
    " The sequence of instruction is guaranteed to execute as a group, or not\n",
    " execute at all, having no visible effect on system state. Atomicity\n",
    " guarantees isolation from concurrent processes.*\n",
    "\n",
    "Because this code does not guarantee isolation from other threads, some\n",
    "threads will end up running in parallel in the critical section causing the\n",
    "race condition.\n",
    "\n",
    "\n",
    "<br>\n",
    "\n",
    "\n",
    "### Bakery Solution: <a class=\"anchor\" id=\"solbak\"></a>\n",
    "\n",
    "This is the bakery solution to the project.\n",
    "\n",
    "I will implement the bakery synchronization solution from lecture slides\n",
    "(lecture 14) using a Python class that implements the following:\n",
    "\n",
    "- An `__init__` method that takes a thread_count and initializes a choosing\n",
    "list and a tickets list.\n",
    "\n",
    "- A lock method that takes a thread_id as an argument. The method should\n",
    "behave according to the pseudocode in lecture slides.\n",
    "\n",
    "\n",
    "- An unlock method that takes a thread_id and behaves according to the\n",
    "pseudocode in lecture slides.\n",
    "\n",
    "\n",
    "The purpose of bakery algorithm is to synchronize the execution of multiple\n",
    "threads (more than 2). The Bakery algorithm is one of the simplest known\n",
    "solutions to synchronize N threads. Its is called the bakery algorithm\n",
    "because it is modeled after the idea of how a bakery ticket counter works.\n",
    "Think of how a bakery has a ticket number machine that that gives each\n",
    "customer a ticker number when they enter (in this case the threads are the\n",
    "customers). Numbers increase by one as customers enter the store (in this\n",
    "algorithm the threads get a ticket number when they want to enter the\n",
    "critical section ). A global counter displays the number of the customer that\n",
    " is currently being served (in the context of this is the `choosing` list\n",
    " which is has true in the position of which thread is accessing the critical\n",
    " section, acts as a doorway step).\n",
    " All other customers\n",
    "must wait in a queue until the baker finishes serving the current customer\n",
    "and the next number is displayed. When the customer is done shopping and has\n",
    "disposed of his or her number, the clerk increments the number, allowing the\n",
    "next customer to be served (This is unlocking the thread). That customer must\n",
    "draw another number from the numbering machine in order to shop again.\n",
    "\n",
    "In this bakery solution class the reasoning for having a chossing array that\n",
    "is the length of the thread_count and also a tickets array which holds the\n",
    "ticket number for each thread is due to the fact that the function for\n",
    "assigning a ticket number to the thread being locked is not atomic (` self\n",
    ".tickets[thread_idx] = np.max(self.tickets) + 1`), getting the max of the\n",
    "array is really iterating over every entry and reading it so this leads to it\n",
    " being possible that 2 or more threads could enter the critical section at\n",
    " the same time if they both calculate the same ticket number if a\n",
    " higher-priority process was preempted before setting the ticket number the\n",
    " low-priority process will see that the other process has a number of zero,\n",
    " and enter the critical section; later, the high-priority process will\n",
    " ignore the equal ticket number for lower-priority processes, and also enters\n",
    " the critical section. SO by using the `choosing` array it makes the code for\n",
    "  choosing a ticket number 'seem' atomic. This is because we wait for all threads to be done picking a\n",
    "  ticker number before the critical section for the thread that is using the\n",
    "  lock is ran. This is also ensured because when comparing ticket numbers\n",
    "  between threads if they at one point do have the same ticket number then\n",
    "  they are compared based off their thread_id.\n",
    "\n",
    "\n",
    "Here is the code for the bakery solution class:"
   ]
  },
  {
   "cell_type": "code",
   "execution_count": 27,
   "outputs": [],
   "source": [
    "class SolutionBakery(SyncSolution):\n",
    "    '''\n",
    "    This is the Bakery Solution. It uses two np.arrays a choosing array and a\n",
    "    tickets array.\n",
    "    '''\n",
    "\n",
    "    def __init__(self, thread_count: int) -> None:\n",
    "        '''\n",
    "        This method initializes a choosing array and a tickets array.\n",
    "\n",
    "        Args: thread_count (int): The number of threads that will be using the\n",
    "        Bakery Solution.\n",
    "\n",
    "        Returns:\n",
    "            None\n",
    "        '''\n",
    "\n",
    "        # Initialize thread count\n",
    "        self.thread_count = thread_count\n",
    "\n",
    "        # Initialize choosing array\n",
    "        self.choosing = np.zeros(thread_count, dtype=bool)\n",
    "\n",
    "        # Initialize tickets array\n",
    "        self.tickets = np.zeros(thread_count, dtype=int)\n",
    "\n",
    "    def lock(self, thread_id: int, debug: bool = True) -> None:\n",
    "        '''\n",
    "        This method implement Bakery’s synchronization solution from lecture\n",
    "        slides (lecture 14)\n",
    "\n",
    "        The method takes a thread_id as an argument. The method should behave\n",
    "        according to the pseudocode in lecture slides.\n",
    "\n",
    "        Args: thread_id (int): The thread_id of the thread that is trying to\n",
    "        acquire the lock.\n",
    "\n",
    "        Returns:\n",
    "            None\n",
    "        '''\n",
    "\n",
    "        # IF DEBUG PRINT THAT THE THREAD IS SPINNING\n",
    "        if debug:\n",
    "            print(f'\\nThread {thread_id} is spinning')\n",
    "\n",
    "        thread_idx = thread_id - 1\n",
    "\n",
    "        # The Doorway\n",
    "\n",
    "        # Choosing variable to be TRUE indicating its intent to enter critical\n",
    "        # section.\n",
    "        self.choosing[thread_idx] = True\n",
    "\n",
    "        # Set tickets array to the highest ticket number corresponding to other\n",
    "        # processes.\n",
    "        self.tickets[thread_idx] = np.max(self.tickets) + 1\n",
    "\n",
    "        # Set the choosing variable is set to FALSE indicating that it now has\n",
    "        # a new ticket number.\n",
    "        self.choosing[thread_idx] = False\n",
    "\n",
    "        # The entry part of the lock\n",
    "        for p in range(self.thread_count):\n",
    "\n",
    "            # Wait until thread p receives its number:\n",
    "            while self.choosing[p]:\n",
    "                pass\n",
    "\n",
    "            # Then first the ticket number is compared. If they are the same\n",
    "            # then the thread id is compared next\n",
    "            while (self.tickets[p] != 0) and \\\n",
    "                    ((self.tickets[p], p) <\n",
    "                     (self.tickets[thread_idx], thread_idx)):\n",
    "                pass\n",
    "\n",
    "        if debug:\n",
    "            print(f'Thread {thread_id} has locked')\n",
    "\n",
    "    def lockSleep(self, thread_id: int, debug: bool = True) -> None:\n",
    "        '''\n",
    "        This method implement Bakery’s synchronization solution from lecture\n",
    "        slides (lecture 14)\n",
    "\n",
    "        This method is the same as lock but used to force a contex switch by having\n",
    "        time.sleep() in the lock method.\n",
    "\n",
    "\n",
    "        The method takes a thread_id as an argument. The method should behave\n",
    "        according to the pseudocode in lecture slides.\n",
    "\n",
    "        Args: thread_id (int): The thread_id of the thread that is trying to\n",
    "        acquire the lock.\n",
    "\n",
    "        Returns:\n",
    "            None\n",
    "        '''\n",
    "\n",
    "        # IF DEBUG PRINT THAT THE THREAD IS SPINNING\n",
    "        if debug:\n",
    "            print(f'\\nThread {thread_id} is spinning')\n",
    "\n",
    "        thread_idx = thread_id - 1\n",
    "\n",
    "        # The Doorway\n",
    "\n",
    "        # Set the choosing array to True at the thread_id index\n",
    "        self.choosing[thread_idx] = True\n",
    "\n",
    "        # Force a context switch\n",
    "        time.sleep(0.0001)\n",
    "\n",
    "        # Set tickers array\n",
    "        self.tickets[thread_idx] = np.max(self.tickets) + 1\n",
    "\n",
    "        # Force a context switch\n",
    "        time.sleep(0.0001)\n",
    "\n",
    "        # Set the choosing array to False at the thread_id index\n",
    "        self.choosing[thread_idx] = False\n",
    "\n",
    "        # Force a context switch\n",
    "        time.sleep(0.0001)\n",
    "\n",
    "        # Second part of the lock\n",
    "        for p in range(self.thread_count):\n",
    "            while self.choosing[p]:\n",
    "                pass\n",
    "            while (self.tickets[p] != 0) and ((self.tickets[p], p) < (\n",
    "                    self.tickets[thread_idx], thread_idx)):\n",
    "                pass\n",
    "\n",
    "        if debug:\n",
    "            print(f'Thread {thread_id} has locked')\n",
    "\n",
    "    def unlock(self, thread_id: int, debug: bool = True) -> None:\n",
    "        '''\n",
    "        This method implement Bakery’s synchronization solution from lecture\n",
    "        slides (lecture 14)\n",
    "\n",
    "\n",
    "        The method takes a thread_id as an argument. The method should behave\n",
    "        according to the pseudocode in lecture slides. All it does is change the\n",
    "        value of turn according to thread_id being unlocked.\n",
    "\n",
    "        Args:\n",
    "            thread_id (int): The thread_id of the thread that is trying to\n",
    "            release the lock of.\n",
    "            debug (bool): If True, print the value of turn after the unlock.\n",
    "        '''\n",
    "        thread_idx = thread_id - 1\n",
    "\n",
    "        self.tickets[thread_idx] = 0\n",
    "\n",
    "        if debug:\n",
    "            print(f\"Thread {thread_id} released the lock.\")"
   ],
   "metadata": {
    "collapsed": false,
    "pycharm": {
     "name": "#%%\n"
    }
   }
  },
  {
   "cell_type": "markdown",
   "source": [
    "##### Bakery Solution Mutual Exclusion Test:\n",
    "Now that we have the solution class we can test for mutual exclusion using\n",
    "the `main_simulations()` function."
   ],
   "metadata": {
    "collapsed": false
   }
  },
  {
   "cell_type": "code",
   "execution_count": 28,
   "outputs": [
    {
     "name": "stdout",
     "output_type": "stream",
     "text": [
      "\n",
      "All results are correct!\n",
      "The correct result should be 1000000\n",
      "\n",
      "The results are:\n",
      "Iteration 1: x = 1000000\n",
      "Iteration 2: x = 1000000\n",
      "Iteration 3: x = 1000000\n",
      "Iteration 4: x = 1000000\n",
      "Iteration 5: x = 1000000\n",
      "Iteration 6: x = 1000000\n",
      "Iteration 7: x = 1000000\n",
      "Iteration 8: x = 1000000\n",
      "Iteration 9: x = 1000000\n",
      "Iteration 10: x = 1000000\n"
     ]
    }
   ],
   "source": [
    "main_simulations(inc_amt=500000, solution=SolutionBakery)\n"
   ],
   "metadata": {
    "collapsed": false,
    "pycharm": {
     "name": "#%%\n"
    }
   }
  },
  {
   "cell_type": "markdown",
   "source": [
    "From the results above we can see that the bakery solution passes the mutual\n",
    "exclusion\n",
    "test since all the counts are correct.\n",
    "\n",
    "<br>\n",
    "\n",
    "##### Bakery Solution Progress Test:\n",
    "\n",
    "Since we have confirmed mutual exclusion, we can now test for progress, for\n",
    "the bakery solution, using the `main_simulations()` function."
   ],
   "metadata": {
    "collapsed": false
   }
  },
  {
   "cell_type": "code",
   "execution_count": 29,
   "outputs": [
    {
     "name": "stdout",
     "output_type": "stream",
     "text": [
      "\n",
      "All results are correct!\n",
      "The correct result should be 250000\n",
      "\n",
      "The results are:\n",
      "Iteration 1: x = 250000\n",
      "Iteration 2: x = 250000\n",
      "Iteration 3: x = 250000\n",
      "Iteration 4: x = 250000\n",
      "Iteration 5: x = 250000\n",
      "Iteration 6: x = 250000\n",
      "Iteration 7: x = 250000\n",
      "Iteration 8: x = 250000\n",
      "Iteration 9: x = 250000\n",
      "Iteration 10: x = 250000\n"
     ]
    }
   ],
   "source": [
    "main_simulations(inc_amt=50000, solution=SolutionBakery,\n",
    "                 thread_multiplier=[1,4] ,\n",
    "                 test='prog')\n"
   ],
   "metadata": {
    "collapsed": false,
    "pycharm": {
     "name": "#%%\n"
    }
   }
  },
  {
   "cell_type": "markdown",
   "source": [
    "From here we can see that the bakery solution passes the progress test since the\n",
    "simulation completed with correct results.\n",
    "\n",
    "<br>\n",
    "\n",
    "##### Bakery Solution Bounded Wait Time Test:\n",
    "\n",
    "Since we have confirmed progress, we can now test for bounded wait time, for\n",
    "the bakery solution, using the `main_simulations()` function.\n"
   ],
   "metadata": {
    "collapsed": false
   }
  },
  {
   "cell_type": "code",
   "execution_count": 30,
   "outputs": [
    {
     "name": "stdout",
     "output_type": "stream",
     "text": [
      "\n",
      "All results are correct!\n",
      "The correct result should be 250000\n",
      "\n",
      "The results are:\n",
      "Iteration 1: x = 250000\n",
      "Iteration 2: x = 250000\n",
      "Iteration 3: x = 250000\n",
      "Iteration 4: x = 250000\n",
      "Iteration 5: x = 250000\n",
      "Iteration 6: x = 250000\n",
      "Iteration 7: x = 250000\n",
      "Iteration 8: x = 250000\n",
      "Iteration 9: x = 250000\n",
      "Iteration 10: x = 250000\n"
     ]
    }
   ],
   "source": [
    "main_simulations(inc_amt=50000, solution=SolutionBakery,\n",
    "                 thread_multiplier=[1,4] ,\n",
    "                 test='bwt')"
   ],
   "metadata": {
    "collapsed": false,
    "pycharm": {
     "name": "#%%\n"
    }
   }
  },
  {
   "cell_type": "markdown",
   "source": [
    "From this test we can see that bakery solution satisfies the bounded wait\n",
    " time test, since all the counts are correct with context switches happening\n",
    " during the locking function.\n",
    "\n",
    "<br>\n",
    "\n",
    "##### Bakery Solution N-Threads Test:\n",
    "\n",
    "Since we have confirmed progress, we can now test for the use of n-threads (in\n",
    " this case 3 threads), for the bakery solution, using the\n",
    " `main_simulations\n",
    " ()` function."
   ],
   "metadata": {
    "collapsed": false
   }
  },
  {
   "cell_type": "code",
   "execution_count": 31,
   "outputs": [
    {
     "name": "stdout",
     "output_type": "stream",
     "text": [
      "\n",
      "All results are correct!\n",
      "The correct result should be 650000\n",
      "\n",
      "The results are:\n",
      "Iteration 1: x = 650000\n",
      "Iteration 2: x = 650000\n",
      "Iteration 3: x = 650000\n",
      "Iteration 4: x = 650000\n",
      "Iteration 5: x = 650000\n",
      "Iteration 6: x = 650000\n",
      "Iteration 7: x = 650000\n",
      "Iteration 8: x = 650000\n",
      "Iteration 9: x = 650000\n",
      "Iteration 10: x = 650000\n"
     ]
    }
   ],
   "source": [
    "main_simulations(inc_amt=50000, solution=SolutionBakery,\n",
    "                 thread_multiplier=[1,4, 8] , test='me', thread_count=3)\n"
   ],
   "metadata": {
    "collapsed": false,
    "pycharm": {
     "name": "#%%\n"
    }
   }
  },
  {
   "cell_type": "markdown",
   "source": [
    "SUCCESS! Finally, I have a synchronization solution that satisfies mutual\n",
    "exclusion, progress, and bounded wait time while working with n-threads, as\n",
    "we can see from the results above. Now I want to see If I can get Peterson's\n",
    "solution to work for n-threads\n",
    "\n",
    "\n",
    "<br>\n",
    "\n",
    "### EXTENSION Filter Solution (Peterson's N-Threads): <a class=\"anchor\" id=\"solfil\"></a>\n",
    "\n",
    "This is the filter solution which is the n+threads Peterson solution basically.\n",
    "\n",
    "Here the flags are instead called levels, are a numpy array of integers (\n",
    "representing each thread process) that is thread_count in size and it acts as\n",
    "the queue representation for the threads, it is used to indicate the position\n",
    "of each thread (which queue it is in) . A thread must wait until it is at the\n",
    "end of the waiting queue to run its critical section.T turns instead be will\n",
    "be made into a thread_count - 1 sized array and called last_to_enter because\n",
    "it is used mainly to keep track of the last thread to enter the queue at each\n",
    "level, this is to make sure there are not 2 threads running at the same time\n",
    "(end of the queue). This helps with mutal exclusion because `pos` exits the\n",
    "inner loop when there is either no process with a higher level than `level[\n",
    "thread_idx]`, so the next waiting room is free; or, when `thread_idx !=\n",
    "last_to_enter[pos]`, so another process joined its waiting room. At level\n",
    "zero, then, even if all thread_count processes were to enter waiting room\n",
    "zero at the same time, no more than thread_count − 1 will proceed to the next\n",
    "room, the final one finding itself the last to enter the room. This then goes\n",
    "on recursively for all the threads. If it is easier to think of the levels\n",
    "and last to enter can be thought almost as a 2d matrix that is thread_count -\n",
    "1 by thread_count.\n",
    "\n",
    "Here is the code for the filter solution class:"
   ],
   "metadata": {
    "collapsed": false,
    "pycharm": {
     "name": "#%% md\n"
    }
   }
  },
  {
   "cell_type": "code",
   "execution_count": 32,
   "outputs": [],
   "source": [
    "class SolutionFilter(SyncSolution):\n",
    "    '''\n",
    "    This is the Filter's solution to the project.(uses flags and turn)\n",
    "    '''\n",
    "\n",
    "    def __init__(self, thread_count: int = 2) -> None:\n",
    "        '''\n",
    "        This method initializes the name turn and flags array\n",
    "\n",
    "        Args: thread_count (int): The number of threads that will be using the\n",
    "        Filter Solution.\n",
    "\n",
    "        Returns:\n",
    "            None\n",
    "        '''\n",
    "        self.name = 'filter'\n",
    "        self.levels = np.zeros(thread_count, dtype=int)\n",
    "        self.last_to_enter = np.zeros(thread_count - 1, dtype=bool)\n",
    "        self.thread_count = thread_count\n",
    "\n",
    "    def noConflict(\n",
    "            self,\n",
    "            thread_idx: int,\n",
    "            thread_pos: int,\n",
    "            debug: bool = True) -> bool:\n",
    "        '''\n",
    "        This is a helper function for lock to make sure no threads are in the same position in the queue\n",
    "\n",
    "        Args:\n",
    "            thread_idx (int): The id of the thread that is trying to enter the critical section.(tid - 1)\n",
    "            pos (int): The position of the thread in the queue\n",
    "            debug (bool): If True, print the value of turn after the unlock.\n",
    "\n",
    "        Returns:\n",
    "            conflict (bool): True if there is a conflict, False if not.\n",
    "        '''\n",
    "\n",
    "        conflict = False\n",
    "        for idx, pos in enumerate(self.levels):\n",
    "            if idx != thread_idx and pos >= thread_pos:\n",
    "                conflict = True\n",
    "                break\n",
    "        return conflict\n",
    "\n",
    "    def lock(self, thread_id: int, debug: bool = True) -> None:\n",
    "        '''\n",
    "        This method implements the lock method for the Filter Solution. It\n",
    "        runs a thread once it reaches the end of the levels queue.\n",
    "\n",
    "        Args: thread_id (int): The thread_id of the thread that is trying to\n",
    "        acquire the lock.\n",
    "\n",
    "        Returns:\n",
    "            None\n",
    "        '''\n",
    "\n",
    "        # IF DEBUG PRINT THAT THE THREAD IS SPINNING\n",
    "        if debug:\n",
    "            print(f'\\nThread {thread_id} is spinning')\n",
    "\n",
    "        thread_idx = thread_id - 1\n",
    "\n",
    "        # Loop through all the queues minus th last\n",
    "        for pos in range(0, self.thread_count - 1):\n",
    "\n",
    "            # Set the thread to the pos position of the wait queue\n",
    "            self.levels[thread_idx] = pos\n",
    "\n",
    "            # Show that the\n",
    "            self.last_to_enter[pos] = thread_idx\n",
    "\n",
    "            # Wait till either there is no process at the top of queue or\n",
    "            # until there is no other processes entered in that position of\n",
    "            # the queue.\n",
    "            while self.last_to_enter[pos] == thread_idx and \\\n",
    "                    self.noConflict(thread_idx, pos):\n",
    "                pass\n",
    "\n",
    "        if debug:\n",
    "            print(f'Thread {thread_id} has locked')\n",
    "\n",
    "    def lockSleep(self, thread_id: int, debug: bool = True) -> None:\n",
    "        '''\n",
    "        This method is the same as lock but used to force a contex switch by having\n",
    "        time.sleep() in the lock method.\n",
    "\n",
    "\n",
    "        The method takes a thread_id as an argument. The method should behave\n",
    "        according to the pseudocode in lecture slides.\n",
    "\n",
    "        Args: thread_id (int): The thread_id of the thread that is trying to\n",
    "        acquire the lock.\n",
    "\n",
    "        Returns:\n",
    "            None\n",
    "        '''\n",
    "\n",
    "        # IF DEBUG PRINT THAT THE THREAD IS SPINNING\n",
    "        if debug:\n",
    "            print(f'\\nThread {thread_id} is spinning')\n",
    "\n",
    "        thread_idx = thread_id - 1\n",
    "\n",
    "        # Loop through all the positions of the last_to_enter\n",
    "        for pos in range(0, self.thread_count - 1):\n",
    "\n",
    "            # Set the thread to the pos position of the wait queue\n",
    "            self.levels[thread_idx] = pos\n",
    "\n",
    "            # Force a context switch\n",
    "            time.sleep(0.0001)\n",
    "\n",
    "            # Show which queue the thread is in (last to enter)\n",
    "            self.last_to_enter[pos] = thread_idx\n",
    "\n",
    "            # Force a context switch\n",
    "            time.sleep(0.0001)\n",
    "\n",
    "            # Wait till either there is no process at the top of queue or\n",
    "            # until there is no other processes entered in that position of\n",
    "            # the queue.\n",
    "            while self.last_to_enter[pos] == thread_idx or self.noConflict(\n",
    "                    thread_idx,\n",
    "                    pos):\n",
    "                pass\n",
    "\n",
    "        if debug:\n",
    "            print(f'Thread {thread_id} has locked')\n",
    "\n",
    "    def unlock(self, thread_id: int, debug: bool = True) -> None:\n",
    "        '''\n",
    "        This method implements the Peterson's synchronization attempt from lecture slides\n",
    "        (lecture 13).\n",
    "\n",
    "        The method takes a thread_id as an argument. The method should behave\n",
    "        according to the pseudocode in lecture slides. All it does is change the\n",
    "        value of turn according to thread_id being unlocked.\n",
    "\n",
    "        Args:\n",
    "            thread_id (int): The thread_id of the thread that is trying to\n",
    "            release the lock of.\n",
    "            debug (bool): If True, print the value of turn after the unlock.\n",
    "        '''\n",
    "        thread_idx = thread_id - 1\n",
    "        self.levels[thread_idx] = -1\n",
    "        if debug:\n",
    "            print(f\"Thread {thread_id} released the lock.\")"
   ],
   "metadata": {
    "collapsed": false,
    "pycharm": {
     "name": "#%%\n"
    }
   }
  },
  {
   "cell_type": "markdown",
   "source": [
    "##### Filter Solution Mutual Exclusion Test:\n",
    "Now that we have the solution class we can test for mutual exclusion using\n",
    "the `main_simulations()` function."
   ],
   "metadata": {
    "collapsed": false
   }
  },
  {
   "cell_type": "code",
   "execution_count": 33,
   "outputs": [
    {
     "name": "stdout",
     "output_type": "stream",
     "text": [
      "\n",
      "All results are correct!\n",
      "The correct result should be 1000000\n",
      "\n",
      "The results are:\n",
      "Iteration 1: x = 1000000\n",
      "Iteration 2: x = 1000000\n",
      "Iteration 3: x = 1000000\n",
      "Iteration 4: x = 1000000\n",
      "Iteration 5: x = 1000000\n",
      "Iteration 6: x = 1000000\n",
      "Iteration 7: x = 1000000\n",
      "Iteration 8: x = 1000000\n",
      "Iteration 9: x = 1000000\n",
      "Iteration 10: x = 1000000\n"
     ]
    }
   ],
   "source": [
    "main_simulations(inc_amt=500000, solution=SolutionFilter)\n"
   ],
   "metadata": {
    "collapsed": false,
    "pycharm": {
     "name": "#%%\n"
    }
   }
  },
  {
   "cell_type": "markdown",
   "source": [
    "From the results above we can see that the filter solution passes the mutual\n",
    "exclusion\n",
    "test since all the counts are correct.\n",
    "\n",
    "<br>\n",
    "\n",
    "##### Filter Solution Progress Test:\n",
    "\n",
    "Since we have confirmed mutual exclusion, we can now test for progress, for\n",
    "the filter solution, using the `main_simulations()` function."
   ],
   "metadata": {
    "collapsed": false
   }
  },
  {
   "cell_type": "code",
   "execution_count": 34,
   "outputs": [
    {
     "name": "stdout",
     "output_type": "stream",
     "text": [
      "\n",
      "All results are correct!\n",
      "The correct result should be 250000\n",
      "\n",
      "The results are:\n",
      "Iteration 1: x = 250000\n",
      "Iteration 2: x = 250000\n",
      "Iteration 3: x = 250000\n",
      "Iteration 4: x = 250000\n",
      "Iteration 5: x = 250000\n",
      "Iteration 6: x = 250000\n",
      "Iteration 7: x = 250000\n",
      "Iteration 8: x = 250000\n",
      "Iteration 9: x = 250000\n",
      "Iteration 10: x = 250000\n"
     ]
    }
   ],
   "source": [
    "main_simulations(inc_amt=50000, solution=SolutionFilter,\n",
    "                 thread_multiplier=[1,4] ,\n",
    "                 test='prog')\n"
   ],
   "metadata": {
    "collapsed": false,
    "pycharm": {
     "name": "#%%\n"
    }
   }
  },
  {
   "cell_type": "markdown",
   "source": [
    "From here we can see that the filter solution passes the progress test since the\n",
    "simulation completed with correct results.\n",
    "\n",
    "<br>\n",
    "\n",
    "##### Filter Solution Bounded Wait Time Test:\n",
    "\n",
    "Since we have confirmed progress, we can now test for bounded wait time, for\n",
    "the filter solution, using the `main_simulations()` function.\n"
   ],
   "metadata": {
    "collapsed": false
   }
  },
  {
   "cell_type": "code",
   "execution_count": 35,
   "outputs": [
    {
     "name": "stdout",
     "output_type": "stream",
     "text": [
      "\n",
      "All results are correct!\n",
      "The correct result should be 250000\n",
      "\n",
      "The results are:\n",
      "Iteration 1: x = 250000\n",
      "Iteration 2: x = 250000\n",
      "Iteration 3: x = 250000\n",
      "Iteration 4: x = 250000\n",
      "Iteration 5: x = 250000\n",
      "Iteration 6: x = 250000\n",
      "Iteration 7: x = 250000\n",
      "Iteration 8: x = 250000\n",
      "Iteration 9: x = 250000\n",
      "Iteration 10: x = 250000\n"
     ]
    }
   ],
   "source": [
    "main_simulations(inc_amt=50000, solution=SolutionFilter,\n",
    "                 thread_multiplier=[1,4] ,\n",
    "                 test='bwt')"
   ],
   "metadata": {
    "collapsed": false,
    "pycharm": {
     "name": "#%%\n"
    }
   }
  },
  {
   "cell_type": "markdown",
   "source": [
    "From this test we can see that filter solution satisfies the bounded wait\n",
    " time test, since all the counts are correct with context switches happening\n",
    " during the locking function.\n",
    "\n",
    "<br>\n",
    "\n",
    "##### Filter Solution N-Threads Test:\n",
    "\n",
    "Since we have confirmed progress, we can now test for the use of n-threads (in\n",
    " this case 3 threads), for the filter solution, using the\n",
    " `main_simulations\n",
    " ()` function."
   ],
   "metadata": {
    "collapsed": false
   }
  },
  {
   "cell_type": "code",
   "execution_count": 36,
   "outputs": [
    {
     "name": "stdout",
     "output_type": "stream",
     "text": [
      "\n",
      "All results are correct!\n",
      "The correct result should be 650000\n",
      "\n",
      "The results are:\n",
      "Iteration 1: x = 650000\n",
      "Iteration 2: x = 650000\n",
      "Iteration 3: x = 650000\n",
      "Iteration 4: x = 650000\n",
      "Iteration 5: x = 650000\n",
      "Iteration 6: x = 650000\n",
      "Iteration 7: x = 650000\n",
      "Iteration 8: x = 650000\n",
      "Iteration 9: x = 650000\n",
      "Iteration 10: x = 650000\n"
     ]
    }
   ],
   "source": [
    "main_simulations(inc_amt=50000, solution=SolutionFilter,\n",
    "                 thread_multiplier=[1,4, 8] , test='me', thread_count=3)\n"
   ],
   "metadata": {
    "collapsed": false,
    "pycharm": {
     "name": "#%%\n"
    }
   }
  },
  {
   "cell_type": "markdown",
   "source": [
    "Here we can see that I have successfully implemented the filter solution to\n",
    "work with all tests including N-threads, showing that is possible to\n",
    "modify peterson's solution to work with n-threads. However, I find this\n",
    "solution to be quite boring because it is basically the bakery algorithm.\n",
    "\n",
    "<br>\n",
    "\n",
    "\n",
    "### Conclusion:\n",
    "\n",
    "Overall, I found this project in synchronization to be very interesting. It\n",
    "greatly helped me understand the concepts of synchronization and how to\n",
    "solutions need to fulfill the requirements of mutual exclusion, progress, and\n",
    " bounded wait time, as well as the concepts to make solutions work with any\n",
    " number of threads."
   ],
   "metadata": {
    "collapsed": false
   }
  },
  {
   "cell_type": "markdown",
   "metadata": {
    "collapsed": true,
    "pycharm": {
     "name": "#%% md\n"
    }
   },
   "source": [
    "#### Resources:\n",
    "- [Petersons Solution Wiki](https://en.wikipedia.org/wiki/Peterson%27s_algorithm#Filter_algorithm:_Peterson's_algorithm_for_more_than_two_processes)\n",
    "- [University of Idaho Notes](http://www2.cs.uidaho.edu/~krings/CS240/Notes.F13/240-13-12.pdf)\n",
    "- [Stack Overflow Progress and BWT](https://stackoverflow.com/questions/33143779/what-is-progress-and-bounded-waiting-in-critical-section)"
   ]
  }
 ],
 "metadata": {
  "kernelspec": {
   "display_name": "Python 3 (ipykernel)",
   "language": "python",
   "name": "python3"
  },
  "language_info": {
   "codemirror_mode": {
    "name": "ipython",
    "version": 3
   },
   "file_extension": ".py",
   "mimetype": "text/x-python",
   "name": "python",
   "nbconvert_exporter": "python",
   "pygments_lexer": "ipython3",
   "version": "3.9.7"
  }
 },
 "nbformat": 4,
 "nbformat_minor": 1
}